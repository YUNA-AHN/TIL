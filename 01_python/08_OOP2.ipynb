{
 "cells": [
  {
   "cell_type": "markdown",
   "metadata": {},
   "source": [
    "# Classes 상속\n",
    "## 상속 (Inheritance)\n",
    "기존 클래스의 속성과 메서드를 물려받아 새로운 하위 클래스를 생성하는 것\n",
    "\n",
    "### 상속이 필요한 이유\n",
    "1. 코드 재사용\n",
    "- 상속을 통해 시존 클래스의 속성과 메서드를 재사용할 수 있음\n",
    "- 새로운 클래스를 작서할 때 기존 클래스의 기능을 그대로 활용할 수 있으면 중복된 코드를 줄일 수 있음\n",
    "\n",
    "2. 계층 구조\n",
    "- 상속을 통해 클래스들 간의 계층 구조를 형성할 수 있음\n",
    "- 부모 클래스와 자식 클래스 간의 관계를 표현하고, 더 구체적인 클래스를 만들 수 있음\n",
    "- 클래스 간의 상호 작용\n",
    "\n",
    "3. 유지 보수의 용이성\n",
    "- 상속을 통해 기존 클래스의 수저이 필요한 경우, 해당 클래스만 수정하면되므로 유지 보수가 용이해짐\n",
    "- 코드의 일관성을 유지하고, 수정이 필요한 범위를 최소화할 수 있음\n",
    "- 상위 클래스 하나만 수정하면 하위 클래스 알아서 수정된다 !"
   ]
  },
  {
   "cell_type": "markdown",
   "metadata": {},
   "source": [
    "## 클래스 상속\n",
    "상속없이 구현하는 경우\n",
    "- 학생 / 교수 정보를 나타내기 어려움"
   ]
  },
  {
   "cell_type": "code",
   "execution_count": 11,
   "metadata": {},
   "outputs": [
    {
     "name": "stdout",
     "output_type": "stream",
     "text": [
      "반갑습니다. 김학생입니다.\n",
      "반갑습니다. 박교수입니다.\n"
     ]
    }
   ],
   "source": [
    "class Person:\n",
    "    def __init__(self, name, age):\n",
    "        self.name = name\n",
    "        self.age = age\n",
    "    \n",
    "    def talk(self):\n",
    "        print(f'반갑습니다. {self.name}입니다.')\n",
    "      \n",
    "s1 = Person('김학생', 20)  \n",
    "s1.talk()\n",
    "p1 = Person('박교수', 49)\n",
    "p1.talk()"
   ]
  },
  {
   "cell_type": "markdown",
   "metadata": {},
   "source": [
    "- 메서드 중복 정의"
   ]
  },
  {
   "cell_type": "code",
   "execution_count": null,
   "metadata": {},
   "outputs": [],
   "source": [
    "class Professor(Person):\n",
    "    def __init__(self, name, age, department):\n",
    "        self.name = name\n",
    "        self.age = age\n",
    "        self.department = department\n",
    "        \n",
    "    def talk(self): # 중복\n",
    "        print(f'반갑습니다. {self.name}입니다.')\n",
    "\n",
    "\n",
    "\n",
    "class Student(Person):\n",
    "    def __init__(self, name, age, gpa):\n",
    "        self.name = name\n",
    "        self.age = age\n",
    "        self.gpa = gpa\n",
    "        \n",
    "    def talk(self): # 중복\n",
    "        print(f'반갑습니다. {self.name}입니다.')\n"
   ]
  },
  {
   "cell_type": "markdown",
   "metadata": {},
   "source": [
    "###  상속을 사용한 계층구조 변경"
   ]
  },
  {
   "cell_type": "code",
   "execution_count": 3,
   "metadata": {},
   "outputs": [
    {
     "name": "stdout",
     "output_type": "stream",
     "text": [
      "반갑습니다. 김학생입니다.\n",
      "반갑습니다. 박교수입니다.\n"
     ]
    }
   ],
   "source": [
    "class Person:\n",
    "    def __init__(self, name, age):\n",
    "        self.name = name\n",
    "        self.age = age\n",
    "    \n",
    "    def talk(self): # 메서드 재사용\n",
    "        print(f'반갑습니다. {self.name}입니다.')\n",
    "\n",
    "\n",
    "class Professor(Person):\n",
    "    def __init__(self, name, age, department):\n",
    "        self.name = name\n",
    "        self.age = age\n",
    "        self.department = department\n",
    "\n",
    "\n",
    "class Student(Person):\n",
    "    def __init__(self, name, age, gpa):\n",
    "        self.name = name\n",
    "        self.age = age\n",
    "        self.gpa = gpa\n",
    "        \n",
    "p1 = Professor('박교수', 49, '컴퓨터공학과')\n",
    "s1 = Student('김학생', 20, 3.5)\n",
    "\n",
    "s1.talk()\n",
    "p1.talk()"
   ]
  },
  {
   "cell_type": "code",
   "execution_count": 5,
   "metadata": {},
   "outputs": [
    {
     "name": "stdout",
     "output_type": "stream",
     "text": [
      "반갑습니다. 김학생입니다.\n",
      "반갑습니다. 박교수입니다.\n"
     ]
    }
   ],
   "source": [
    "# 부모 클래스에서 끌어오기\n",
    "# 부모 클래스의 이름이 변경되면 사용할 수 없음 : 유연성 부족\n",
    "# 다중 상속에서의 문제 (여러개의 상위 클래스) \n",
    "# : 부모의 요소는상속 받는 순서대로 찾아나감\n",
    "\n",
    "class Professor(Person):\n",
    "    def __init__(self, name, age, department):\n",
    "        Person.__init__(self, name, age) \n",
    "        self.department = department"
   ]
  },
  {
   "cell_type": "markdown",
   "metadata": {},
   "source": [
    "### super()\n",
    "부모 클래스의 메서드를 호출하기 위해 사용되는 내장 함수\n",
    "- 메서드 호출 순서에 알맞는 메서드를 적절하게 호출해주는 함수"
   ]
  },
  {
   "cell_type": "code",
   "execution_count": null,
   "metadata": {},
   "outputs": [],
   "source": [
    "class Professor(Person):\n",
    "    def __init__(self, name, age, department):\n",
    "        super().__init__(name, age) # self도 생략\n",
    "        self.department = department\n",
    "    \n",
    "        \n",
    "class Student(Person):\n",
    "    def __init__(self, name, age, gpa):\n",
    "        super().__init__(name, age)\n",
    "        self.gpa = gpa"
   ]
  },
  {
   "cell_type": "markdown",
   "metadata": {},
   "source": [
    "### super()\n",
    "부모 클래스의 메서드를 호출하기 위해 사용되는 내장 함수\n",
    "- 메서드 호출 순서에 알맞는 메서드를 적절하게 호출해주는 함수\n",
    "\n",
    "### 다중 상속\n",
    "- 두개 이상의 클래스를 상속 받은 경우\n",
    "- 상속받는 모든 클래스의 요소를 활용 가능함\n",
    "- 중복된 속성이나 메서드가 있는 경우 **상속 순서에 의해 결정**됨\n",
    "    - 상속 순서에 따른 우선권\n",
    "    - A B C 에 모두 talk()이라는 메서드가 있는 경우, ABC 순으로 상속 받았다면! A의 talk()를 가져온다.\n",
    "\n",
    "다중 상속 예시\n",
    "```\n",
    "person - mom \\\n",
    "               FirstChild\n",
    "       - dad / \n",
    "```"
   ]
  },
  {
   "cell_type": "code",
   "execution_count": 9,
   "metadata": {},
   "outputs": [
    {
     "name": "stdout",
     "output_type": "stream",
     "text": [
      "첫째가 응애\n",
      "첫째가 수영\n",
      "아빠가 걷기\n",
      "XY\n"
     ]
    }
   ],
   "source": [
    "# 다중 상속 예시\n",
    "class Person:\n",
    "    gene ='XYZ'\n",
    "    \n",
    "    def __init__(self, name):\n",
    "        self.name = name\n",
    "    \n",
    "    def greeting(self):\n",
    "        print(f'안녕, {self.name}')\n",
    "\n",
    "\n",
    "class Mom(Person):\n",
    "    gene = 'XX'\n",
    "    \n",
    "    # 생략이 가능하나 작성해주는 것이 좋음\n",
    "    def __init__(self, name): \n",
    "        super().__init__(name)\n",
    "    \n",
    "    def swim(self):\n",
    "        return '엄마가 수영'\n",
    "    \n",
    "    \n",
    "class Dad(Person):\n",
    "    gene = 'XY'\n",
    "\n",
    "    # 생략이 가능하나 작성해주는 것이 좋음\n",
    "    def __init__(self, name): \n",
    "        super().__init__(name)\n",
    "    \n",
    "    def walk(self):\n",
    "        return '아빠가 걷기'\n",
    "    \n",
    "    \n",
    "class FirstChild(Dad, Mom):\n",
    "    def swim(self):\n",
    "        return '첫째가 수영'\n",
    "    \n",
    "    def cry(self):\n",
    "        return '첫째가 응애'\n",
    "    \n",
    "baby1 = FirstChild('아가')\n",
    "print(baby1.cry()) # 첫째가 응애\n",
    "print(baby1.swim()) # '첫째가 수영'\n",
    "print(baby1.walk()) # '아빠가 걷기'\n",
    "print(baby1.gene) # XY : 아빠의 gene 출력\n",
    "# 상속 순서를 Mom, Dad로 해주면 XX 출력\n",
    "# 상위 클래스에서 최상위 클래스 정보를 덮어쓰기 때문에 XY 출력"
   ]
  },
  {
   "cell_type": "code",
   "execution_count": null,
   "metadata": {},
   "outputs": [],
   "source": [
    "class Person:\n",
    "    def __init__(self, name):\n",
    "        self.name = name\n",
    "    \n",
    "    def greeting(self):\n",
    "        print(f'안녕, {self.name}')\n",
    "\n",
    "\n",
    "class Mom(Person):\n",
    "    gene = 'XX'\n",
    "    \n",
    "    # 생략이 가능하나 작성해주는 것이 좋음\n",
    "    def __init__(self, name): \n",
    "        super().__init__(name)\n",
    "    \n",
    "    def swim(self):\n",
    "        return '엄마가 수영'\n",
    "    \n",
    "    \n",
    "class Dad(Person):\n",
    "    gene = 'XY'\n",
    "\n",
    "    # 생략이 가능하나 작성해주는 것이 좋음\n",
    "    def __init__(self, name, age): \n",
    "        super().__init__(name)\n",
    "        self.age = age\n",
    "    \n",
    "    def walk(self):\n",
    "        return '아빠가 걷기'\n",
    "    \n",
    "    \n",
    "class FirstChild(Mom, Dad):\n",
    "    dad_gene = Dad.gene\n",
    "    def __init__(self, name, age):    \n",
    "        Dad.__init__(self, name, age)\n",
    "    \n",
    "    def swim(self):\n",
    "        return '첫째가 수영'\n",
    "    \n",
    "    def cry(self):\n",
    "        return '첫째가 응애'\n",
    "    \n",
    "baby1 = FirstChild('아가')\n",
    "print(baby1.cry()) # 첫째가 응애\n",
    "print(baby1.swim()) # '첫째가 수영'\n",
    "print(baby1.walk()) # '아빠가 걷기'\n",
    "print(baby1.gene) # XY\n",
    "# 현 상황에서 엄마의 유전정보를 얻고 싶다면 dad_gene으로 받기\n",
    "# super 사용시 상속 순서에 어긋나면 받아와서 쓰는게 틀린 문법은 아니다"
   ]
  },
  {
   "cell_type": "markdown",
   "metadata": {},
   "source": [
    "### 상속 관련 함수와 메서드\n",
    "- mro()\n",
    "    - Method Resolution Order\n",
    "    - 메서드 해결 순서, 탐색의 순서 !\n",
    "    - 해당 인스턴스의 클래스가 어떤 부모 클래스를 가지는지 확인하는 매서드\n",
    "    - 기존의 인스턴스 -> 클래스 순으로 이름 공간을 탐색하는 과정에서 상속 관계에 있으면 인스턴스 -> 자식 클래스 -> 부모 클래스로 확장"
   ]
  },
  {
   "cell_type": "code",
   "execution_count": 8,
   "metadata": {},
   "outputs": [
    {
     "name": "stdout",
     "output_type": "stream",
     "text": [
      "[<class '__main__.FirstChild'>, <class '__main__.Dad'>, <class '__main__.Mom'>, <class '__main__.Person'>, <class 'object'>]\n"
     ]
    }
   ],
   "source": [
    "# 상속관련 함수와 메서드\n",
    "print(FirstChild.mro())"
   ]
  },
  {
   "cell_type": "markdown",
   "metadata": {},
   "source": [
    "# Errors & Exception (에러와 예외)\n",
    "## 디버깅\n",
    "### 버그 (bug)\n",
    "소프트웨어에서 발생하는 오류 또는 결함   \n",
    "프로그램의 예상된 동작과 실제 동작 사이의 불일치\n",
    "\n",
    "버그의 기원  \n",
    "- 최초의 버그는 1945년 프로그래밍 언어의 일종인 코볼 발명자 그레이스 호퍼가 발견\n",
    "- 역사상 최초의 컴퓨터 버그는 Mark 2라는 컴퓨터 회로에 벌레인 나방이 들어가 비정상적으로 동작한 것을 기록한 것\n",
    "- 이전부터 사용되어 왔지만 이 사건 계기로 컴퓨터 시스템에서 발생하는 오류 또는 결함 지칭하는 용어로 사용\n",
    "\n",
    "### Debugging\n",
    "소프트웨어에서 발생하는 버그를 찾아내고 수정하는 과정  \n",
    "프로그램의 오작동 원인을 식별하여 수정하는 작업\n",
    "\n",
    "디버깅 방법\n",
    "1. print 함수 활용\n",
    "- 특정 함수 결과, 반복 / 조건 결과 등 나눠서 생각, 코드를 bisection으로 나눠서 생각\n",
    "2. 개발 환경(text editor, IDE) 등에서 제공하는 기능 활용\n",
    "- breakpoint, 변수 조회등\n",
    "3. Python tutor 활용 (단순 파이썬 코드인 경우)\n",
    "4. 뇌 컴파일, 눈 디버깅 등\n",
    "\n",
    "## 에러 (Error)\n",
    "프로그램 실행 중에 발생하는 예외 상황\n",
    "\n",
    "### 파이썬 에러 유형\n",
    "- 문법 에러 (Syntax Error)\n",
    "    - 프로그램의 구문이 올바르지 않은 경우 발생\n",
    "    - (오타, 괄호 및 콜론 누락 등의 문법적 오류)\n",
    "    - 바로 실행을 멈춤\n",
    "\n",
    "- 예외 (Exception)\n",
    "    - 프로그램 실행 중에 감지되는 에러\n",
    "\n",
    "### 문법 에러 예시\n",
    "- Invaild syntax (문법 오류)"
   ]
  },
  {
   "cell_type": "code",
   "execution_count": null,
   "metadata": {},
   "outputs": [],
   "source": [
    "while # SyntaxError: invalid syntax"
   ]
  },
  {
   "cell_type": "markdown",
   "metadata": {},
   "source": [
    "- assign to literal (잘못된 할당)"
   ]
  },
  {
   "cell_type": "code",
   "execution_count": null,
   "metadata": {},
   "outputs": [],
   "source": [
    "5 = 3 # SyntaxError: cannot assign to literal"
   ]
  },
  {
   "cell_type": "markdown",
   "metadata": {},
   "source": [
    "- EOL (End on Line)"
   ]
  },
  {
   "cell_type": "code",
   "execution_count": null,
   "metadata": {},
   "outputs": [],
   "source": [
    "print('hello \n",
    "# SyntaxError: EOL while scanning string literal"
   ]
  },
  {
   "cell_type": "markdown",
   "metadata": {},
   "source": [
    "- EOF (End of File)"
   ]
  },
  {
   "cell_type": "code",
   "execution_count": null,
   "metadata": {},
   "outputs": [],
   "source": [
    "print(\n",
    "# SyntaxError: unexpected EOF while parsing"
   ]
  },
  {
   "cell_type": "markdown",
   "metadata": {},
   "source": [
    "## 예외 (Exception)\n",
    "프로그램 실행 중에 감지되는 에러\n",
    "\n",
    "### 내장 예외 (Built-in Exceptions)\n",
    "예외 상황을 나타내는 예외 클래스들\n",
    "- 파이썬에서 이미 정의되어 있으며 특정 예외 상황에 대한 처리를 위해 사용\n",
    "\n",
    "내장 예외의 종류\n",
    "- ZeroDivisionError : 나누기 또는 모듈로 연산의 두 번째 인자가 0일 때 발생\n",
    "- NamrError : 지역 또는 전역 이름을 찾을 수 없을 때 발생\n",
    "- TypeError\n",
    "    - 타입 불일치\n",
    "    - 인자 누락\n",
    "    - 인자 초과\n",
    "    - 인자 타입 불일치\n",
    "- ValueError\n",
    "    - 연산이나 함수에 문제가 없지만 부적잘한 값을 가진 인자를 받았고, 상황이 IndexError 처럼 더 구체적인 예외로 설명되지 않는 경우 발생\n",
    "- IndexError : 시퀀스 인덱스가 범위를 벗어날 때 발생\n",
    "- KeyError : 딕셔너리에 해당 키가 존재하지 않는 경우\n",
    "- ModuleNotFoundError : 모듈을 찾을 수 없을 때 발생\n",
    "- ImportError : 임포트 하려는 이름을 찾을 수 없을 때 발생\n",
    "- KeyboardInterrupt : 사용자가 Control-C 또는 Delete를 누를 때 발생\n",
    "    - 무한루프 시 강제종료\n",
    "- IndentationError : 잘못된 들여쓰기와 관련된 문법 오류\n",
    "\n"
   ]
  },
  {
   "cell_type": "markdown",
   "metadata": {},
   "source": [
    "- ZeroDivisionError : 나누기 또는 모듈로 연산의 두 번째 인자가 0일 때 발생"
   ]
  },
  {
   "cell_type": "code",
   "execution_count": null,
   "metadata": {},
   "outputs": [],
   "source": [
    "10/0 # ZeroDivisionError: division by zero"
   ]
  },
  {
   "cell_type": "markdown",
   "metadata": {},
   "source": [
    "- NamrError : 지역 또는 전역 이름을 찾을 수 없을 때 발생"
   ]
  },
  {
   "cell_type": "code",
   "execution_count": null,
   "metadata": {},
   "outputs": [],
   "source": [
    "print(name_error) # NameError: name 'name_error' is not defined"
   ]
  },
  {
   "cell_type": "markdown",
   "metadata": {},
   "source": [
    "- TypeError : 타입 불일치"
   ]
  },
  {
   "cell_type": "code",
   "execution_count": null,
   "metadata": {},
   "outputs": [],
   "source": [
    "'2' + 2 # TypeError: can only concatenate str (not \"int\") to str"
   ]
  },
  {
   "cell_type": "markdown",
   "metadata": {},
   "source": [
    "- TypeError : 인자 누락"
   ]
  },
  {
   "cell_type": "code",
   "execution_count": null,
   "metadata": {},
   "outputs": [],
   "source": [
    "sum() # TypeError: sum() takes at least 1 positional argument (0 given)"
   ]
  },
  {
   "cell_type": "markdown",
   "metadata": {},
   "source": [
    "- TypeError : 인자 초과"
   ]
  },
  {
   "cell_type": "code",
   "execution_count": null,
   "metadata": {},
   "outputs": [],
   "source": [
    "sum(1, 2, 3) # TypeError: sum() takes at most 2 arguments (3 given)"
   ]
  },
  {
   "cell_type": "markdown",
   "metadata": {},
   "source": [
    "- TypeError : 인자 타입 불일치"
   ]
  },
  {
   "cell_type": "code",
   "execution_count": null,
   "metadata": {},
   "outputs": [],
   "source": [
    "import random\n",
    "random.sample(1, 2) # TypeError: Population must be a sequence.  For dicts or sets, use sorted(d)."
   ]
  },
  {
   "cell_type": "markdown",
   "metadata": {},
   "source": [
    "- ValueError  \n",
    "연산이나 함수에 문제가 없지만 부적잘한 값을 가진 인자를 받았고,  \n",
    "상황이 IndexError 처럼 더 구체적인 예외로 설명되지 않는 경우 발생"
   ]
  },
  {
   "cell_type": "code",
   "execution_count": null,
   "metadata": {},
   "outputs": [],
   "source": [
    "int('1.5') # ValueError: invalid literal for int() with base 10: '1.5'"
   ]
  },
  {
   "cell_type": "markdown",
   "metadata": {},
   "source": [
    "- IndexError : 시퀀스 인덱스가 범위를 벗어날 때 발생"
   ]
  },
  {
   "cell_type": "code",
   "execution_count": null,
   "metadata": {},
   "outputs": [],
   "source": [
    "empty_list = []\n",
    "empty_list[2]\n",
    "# IndexError: list index out of range"
   ]
  },
  {
   "cell_type": "markdown",
   "metadata": {},
   "source": [
    "- KeyError : 딕셔너리에 해당 키가 존재하지 않는 경우"
   ]
  },
  {
   "cell_type": "code",
   "execution_count": null,
   "metadata": {},
   "outputs": [],
   "source": [
    "person = {'name': 'Alice'}\n",
    "person['age'] # KeyError: 'age'"
   ]
  },
  {
   "cell_type": "markdown",
   "metadata": {},
   "source": [
    "- ModuleNotFoundError : 모듈을 찾을 수 없을 때 발생"
   ]
  },
  {
   "cell_type": "code",
   "execution_count": null,
   "metadata": {},
   "outputs": [],
   "source": [
    "import hahaha # ModuleNotFoundError: No module named 'hahaha'"
   ]
  },
  {
   "cell_type": "markdown",
   "metadata": {},
   "source": [
    "- ImportError : 임포트 하려는 이름을 찾을 수 없을 때 발생"
   ]
  },
  {
   "cell_type": "code",
   "execution_count": null,
   "metadata": {},
   "outputs": [],
   "source": [
    "from random import hahaha\n",
    "# ImportError: cannot import name 'hahaha' from 'random'"
   ]
  },
  {
   "cell_type": "markdown",
   "metadata": {},
   "source": [
    "- KeyboardInterrupt : 사용자가 Control-C 또는 Delete를 누를 때 발생\n",
    "    - 무한루프 시 강제종료"
   ]
  },
  {
   "cell_type": "code",
   "execution_count": null,
   "metadata": {},
   "outputs": [],
   "source": [
    "while True:\n",
    "    continue\n",
    "# KeyboardInterrupt"
   ]
  },
  {
   "cell_type": "markdown",
   "metadata": {},
   "source": [
    "- IndentationError : 잘못된 들여쓰기와 관련된 문법 오류"
   ]
  },
  {
   "cell_type": "code",
   "execution_count": null,
   "metadata": {},
   "outputs": [],
   "source": [
    "for i in range(10):\n",
    "print(i) # IndentationError: expected an indented block"
   ]
  },
  {
   "cell_type": "markdown",
   "metadata": {},
   "source": [
    "## 예외 처리 ⭐⭐⭐\n",
    "### try와 except\n",
    "파이썬 try문과 except 절을 사용하여 예외 처리\n",
    "\n",
    "### try와 except 구조\n",
    "- try 블록 안에는 예외가 발생할 수 있는 코드를 작성\n",
    "- except 블록 안에는 예외가 발생했을 때 처리할 코드를 작성\n",
    "- 예외가 발생하면 프로그램 흐름을 try 블록을 빠져나와 해당 예외에 대응하는 except 블록으로 이동\n",
    "```python\n",
    "try:\n",
    "    # 예외가 발생할 수 있는 코드\n",
    "\n",
    "except 예외:\n",
    "    # 예외 처리 코드\n",
    "```"
   ]
  },
  {
   "cell_type": "code",
   "execution_count": 12,
   "metadata": {},
   "outputs": [
    {
     "name": "stdout",
     "output_type": "stream",
     "text": [
      "0으로 나눌 수 없습니다.\n"
     ]
    }
   ],
   "source": [
    "# 예외처리 예시\n",
    "## if와의 차이점 : if는 미리 오류 처리 / try는 못먹어도 일단 고\n",
    "try:\n",
    "    result = 10 /0\n",
    "except ZeroDivisionError:\n",
    "    print('0으로 나눌 수 없습니다.')"
   ]
  },
  {
   "cell_type": "code",
   "execution_count": 14,
   "metadata": {},
   "outputs": [
    {
     "name": "stdout",
     "output_type": "stream",
     "text": [
      "숫자가 아닙니다.\n"
     ]
    }
   ],
   "source": [
    "try:\n",
    "    num =int(input('숫자입력 : '))\n",
    "except ValueError:\n",
    "    print('숫자가 아닙니다.')"
   ]
  },
  {
   "cell_type": "markdown",
   "metadata": {},
   "source": [
    "복수 예외 처리 연습  \n",
    "\n",
    "100을 사용자가 입력한 값으로 나누고 출력하는 코드를 작성해보시오.\n",
    "- 먼저, 발생 가능한 에러가 무엇인지 예상해보기\n",
    "- 발생가능한 에러를 모두 명시하거나 & 별도로 작성하기\n"
   ]
  },
  {
   "cell_type": "code",
   "execution_count": 15,
   "metadata": {},
   "outputs": [
    {
     "name": "stdout",
     "output_type": "stream",
     "text": [
      "숫자를 입력하라고\n"
     ]
    }
   ],
   "source": [
    "try:\n",
    "    num = int(input('100으로 나눌 값을 입력해 : '))\n",
    "    print(100 / num)\n",
    "except ValueError:\n",
    "    print('숫자를 입력하라고')\n",
    "except ZeroDivisionError:\n",
    "    print('왜 0을 입력하는 거야??')\n",
    "except:\n",
    "    print('에러가 발생했어~~')"
   ]
  },
  {
   "cell_type": "code",
   "execution_count": 38,
   "metadata": {},
   "outputs": [
    {
     "name": "stdout",
     "output_type": "stream",
     "text": [
      "제대로 입력해라\n"
     ]
    }
   ],
   "source": [
    "try:\n",
    "    num = int(input('100으로 나눌 값을 입력해 : '))\n",
    "    print(100 / num)\n",
    "# 묶어서 사용도 가능!\n",
    "except( ValueError, ZeroDivisionError):\n",
    "    print('제대로 입력해라')\n",
    "except:\n",
    "    print('에러가 발생했어~~')"
   ]
  },
  {
   "cell_type": "markdown",
   "metadata": {},
   "source": [
    "### 내장 예외의 상속 계층구조 주의 ([참고](https://docs.python.org/ko/3/library/exceptions.html)) ⭐⭐⭐⭐⭐\n",
    "- 내장 예외 클래스는 상속 계층구조를 가지고 있기 때문에 except 절로 분기 시 **반드시 하위 클래스를 먼저 확인 할 수 있도록 작성**\n",
    "- 상위 클래스를 먼저 작성하면 하위 클래스 except절은 영영 실행되지 않는다 \n",
    "    - 상위 클래스에서 다 걸리기 때문 !!"
   ]
  },
  {
   "cell_type": "code",
   "execution_count": null,
   "metadata": {},
   "outputs": [],
   "source": [
    "try:\n",
    "    num = int(input('100으로 나눌 값을 입력해 : '))\n",
    "    print(100 / num)\n",
    "except BaseException:\n",
    "    print('숫자를 입력하라고')\n",
    "# 영영 실행되지 않아요...\n",
    "except ZeroDivisionError:\n",
    "    print('왜 0을 입력하는 거야??')\n",
    "except:\n",
    "    print('에러가 발생했어~~')"
   ]
  },
  {
   "cell_type": "markdown",
   "metadata": {},
   "source": [
    "## EAFP & LBYL\n",
    "예외 처리와 값 검사에 대한 2가지 접근 방식\n",
    "1. EAFP\n",
    "- \"Easier to Ask for Forgiveness the Permissin\" : 일단 실행하고 예외로 처리\n",
    "- 예외 처리를 중심으로 코드를 접근하는 방식 (try-except)\n",
    "- 코드를 실행하고 예외가 발생하면 예외처리를 수행\n",
    "- 예외 예측하여 대비가 아니라, 예외사 발생한 후에 예외로 처리\n",
    "- 에외 상황을 예측하기 어려운 경우에 유용\n",
    "\n",
    "\n",
    "2. LBYL\n",
    "- \"Look Before Yot Leap\" : 실행하기 전에 조건을 검사\n",
    "- 값 검사를 중심으로 코드를 작성하는 접근 방식 (if-else)\n",
    "- 코드 실행 전에 조건문 등을 사용하여 예외 상황을 미리 검사하고, 예외 상황을 피하는 방식\n",
    "- 코드가 좀 더 예측 가능한 동작을 하지만, 코드가 더 길고 복잡해질 수 있음\n",
    "- 예외 상황을 미리 방지하고 싶을 때 유용"
   ]
  },
  {
   "cell_type": "markdown",
   "metadata": {},
   "source": [
    "### 접근 방식 비교"
   ]
  },
  {
   "cell_type": "code",
   "execution_count": null,
   "metadata": {},
   "outputs": [],
   "source": [
    "# EAFP\n",
    "try:\n",
    "    result = my_dict[key]\n",
    "    print(result)\n",
    "except KeyError:\n",
    "    print('Key가 존재하지 않습니다')"
   ]
  },
  {
   "cell_type": "code",
   "execution_count": null,
   "metadata": {},
   "outputs": [],
   "source": [
    "# LBYL\n",
    "if 'key' in my_dict:\n",
    "    result = my_dict['key']\n",
    "    print(result)\n",
    "else:\n",
    "    print('Key가 존재하지 않습니다.')"
   ]
  },
  {
   "cell_type": "markdown",
   "metadata": {},
   "source": [
    "# 참고\n",
    "## as 키워드\n",
    "as 키워드를 활용하여 에러 메세지를 except 블록에서 사용할 수 있음"
   ]
  },
  {
   "cell_type": "code",
   "execution_count": 16,
   "metadata": {},
   "outputs": [
    {
     "name": "stdout",
     "output_type": "stream",
     "text": [
      "list index out of range가 발생했습니다.\n"
     ]
    }
   ],
   "source": [
    "my_list = []\n",
    "\n",
    "try:\n",
    "    number = my_list[1]\n",
    "except IndexError as error:\n",
    "    print(f'{error}가 발생했습니다.')"
   ]
  },
  {
   "cell_type": "code",
   "execution_count": null,
   "metadata": {},
   "outputs": [],
   "source": [
    "# 파이썬 자습서 9번까지 쭉 해보기 ~"
   ]
  },
  {
   "cell_type": "markdown",
   "metadata": {},
   "source": [
    "객체 지향 프로그래밍의 4가지의 특징\n",
    "- 추상화, 상속, 다형성, 캡슐화\n",
    "\n",
    "1. 추상화\n",
    "- 복잡한 내부 숨기고 필요한 부분만 드러내자!  \n",
    "- 복잡하게 쓰지 않고, 이름을 통해 유추가 가능하도록 한다!  \n",
    "- **클래스**, 변수, 함수   \n",
    "    ex) 1500  - >  coffe_price = 1500\n",
    "\n",
    "2. 상속\n",
    "-  속성과 메소드를 하위 클래스에 물려준다.\n",
    "    - 코드 재사용성이 늘어난다.\n",
    "- 부모와 자식 클래스 관계\n",
    "\n",
    "3. 다형성\n",
    "- 서로 다른 클래스에 속한 객체들이 동일한 행위에 대해서 다르게 동작할 수 있도록 하는 것\n",
    "- 이름은 같은데, 동작을 다르게 하는 것\n",
    "-  오버라이딩 : 상위 클래스에 정의된 메소드를 다시 정의하는 것\n",
    "    - 부모와 자식이 그대로(X) 자식만 메소드를 변경\n",
    "\n",
    "4. 캡슐화\n",
    "- 정보에 대한 액세스를 제한하고, 접근할 수 있는 인터페이스적인 메서드들로 하여금 접근하게 한다.\n",
    "- 민감한 정보는 숨기고 메소드를 통해서 접근하도록 제한\n",
    "- getter(참조), setter"
   ]
  },
  {
   "cell_type": "markdown",
   "metadata": {},
   "source": []
  }
 ],
 "metadata": {
  "kernelspec": {
   "display_name": "Python 3",
   "language": "python",
   "name": "python3"
  },
  "language_info": {
   "codemirror_mode": {
    "name": "ipython",
    "version": 3
   },
   "file_extension": ".py",
   "mimetype": "text/x-python",
   "name": "python",
   "nbconvert_exporter": "python",
   "pygments_lexer": "ipython3",
   "version": "3.9.13"
  },
  "orig_nbformat": 4
 },
 "nbformat": 4,
 "nbformat_minor": 2
}
