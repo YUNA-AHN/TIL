{
 "cells": [
  {
   "cell_type": "markdown",
   "metadata": {},
   "source": [
    "# Control of flow\n",
    "# 제어문 (Control statement)\n",
    "코드의 실행 흐름을 제어하는 데 사용되는 구문\n",
    "**조건**에 따라 코드 블록을 실행하거나 **반복**적으로 코드를 실행\n",
    "\n",
    "# 조건문 (Conditional statement)\n",
    "주어진 조건식을 평가하여 해당 조건이 참/거짓 여부에 따라 코드 블록을 실행하거나 건너뜀\n",
    "\n",
    "**파이썬 조건문에 사용되는 키워드 : if / elif / else**\n",
    "## 'if' statement\n",
    "- else문 필요 X시 생략 가능\n",
    "```python\n",
    "if 표현식:\n",
    "    코드 블록\n",
    "elif 표현식:\n",
    "    코드 블록\n",
    "else: # 위 case가 모두 False일 때 실행되는 코드\n",
    "    코드 블록\n",
    "```"
   ]
  },
  {
   "cell_type": "code",
   "execution_count": 18,
   "metadata": {},
   "outputs": [
    {
     "name": "stdout",
     "output_type": "stream",
     "text": [
      "3 초과\n",
      "5\n"
     ]
    }
   ],
   "source": [
    "a = 5\n",
    "\n",
    "if a > 3: \n",
    "    # True면 이후 코드는 의미 X\n",
    "    # False면 else로 넘어감\n",
    "    print('3 초과')\n",
    "else:\n",
    "    print('이하')\n",
    "\n",
    "print(a) # if문과 상과 없음"
   ]
  },
  {
   "cell_type": "markdown",
   "metadata": {},
   "source": [
    "복수 조건문 예시\n",
    "- 조건식을 동시에 검사하는 것이 아니라 순차적으로 비교"
   ]
  },
  {
   "cell_type": "code",
   "execution_count": 19,
   "metadata": {},
   "outputs": [
    {
     "name": "stdout",
     "output_type": "stream",
     "text": [
      "보통\n"
     ]
    }
   ],
   "source": [
    "dust = 35\n",
    "\n",
    "if dust > 150:\n",
    "    print('매우 나쁨')\n",
    "elif dust > 80:\n",
    "    print('나쁨')\n",
    "elif dust > 30:\n",
    "    print('보통')\n",
    "else:\n",
    "    print('좋음')"
   ]
  },
  {
   "cell_type": "markdown",
   "metadata": {},
   "source": [
    "중첩 조건문 예시"
   ]
  },
  {
   "cell_type": "code",
   "execution_count": 20,
   "metadata": {},
   "outputs": [
    {
     "name": "stdout",
     "output_type": "stream",
     "text": [
      "매우 나쁨\n",
      "위험해요! 나가지 마세요!\n"
     ]
    }
   ],
   "source": [
    "dust = 480\n",
    "\n",
    "if dust > 150:\n",
    "    print('매우 나쁨')\n",
    "    if dust > 300:\n",
    "        print('위험해요! 나가지 마세요!')\n",
    "elif dust > 80:\n",
    "    print('나쁨')\n",
    "elif dust > 30:\n",
    "    print('보통')\n",
    "else:\n",
    "    print('좋음')"
   ]
  },
  {
   "cell_type": "code",
   "execution_count": 21,
   "metadata": {},
   "outputs": [
    {
     "name": "stdout",
     "output_type": "stream",
     "text": [
      "짝수입니다.\n"
     ]
    }
   ],
   "source": [
    "# 조건문 \n",
    "num = int(input('숫자를 입력하세요 : '))\n",
    "\n",
    "# if statement\n",
    "# num이 홀수라면 (2로 나눈 나머지가 1이라면)\n",
    "if num % 2 == 1: # 이 코드가 더 명시적!\n",
    "    # num % 2: 동일한 동작 1 => True니까\n",
    "    print('홀수입니다.')\n",
    "# num이 홀수가 아니라면(짝수면)\n",
    "else:\n",
    "    print('짝수입니다.')"
   ]
  },
  {
   "cell_type": "code",
   "execution_count": 17,
   "metadata": {},
   "outputs": [
    {
     "name": "stdout",
     "output_type": "stream",
     "text": [
      "0은 양의 정수가 아닙니다.\n",
      "음수를 입력했습니다.\n",
      "잘했습니다!\n"
     ]
    }
   ],
   "source": [
    "number = int(input('양의 정수를 입력해주세요.: '))\n",
    "\n",
    "while number <= 0:\n",
    "    if number < 0:\n",
    "        print('음수를 입력했습니다.')\n",
    "    else:\n",
    "        print('0은 양의 정수가 아닙니다.')\n",
    "    number = int(input('양의 정수를 입력해주세요.: '))\n",
    "print('잘했습니다!')"
   ]
  },
  {
   "cell_type": "markdown",
   "metadata": {},
   "source": [
    "## 연습문제"
   ]
  },
  {
   "cell_type": "code",
   "execution_count": 43,
   "metadata": {},
   "outputs": [
    {
     "name": "stdout",
     "output_type": "stream",
     "text": [
      "우산을 쓰세요!\n"
     ]
    }
   ],
   "source": [
    "# 단순 조건문 연습 1\n",
    "# 비가 온다면 \"우산을 쓰세요!\",\n",
    "# 아니라면 \"우산을 가져가지 마세요!\"\n",
    "weather = \"맑음\"\n",
    "\n",
    "if weather: # 비가 온다면 (weather값이 \"비라면\")\n",
    "    # 코드블럭 1\n",
    "    print('우산을 쓰세요!')\n",
    "else: # 비가 X\n",
    "    # 코드블럭\n",
    "    print('우산을 가져가지 마세요!')"
   ]
  },
  {
   "cell_type": "code",
   "execution_count": 44,
   "metadata": {},
   "outputs": [
    {
     "name": "stdout",
     "output_type": "stream",
     "text": [
      "통과!\n"
     ]
    }
   ],
   "source": [
    "# 단순 조건문 연습 2 if~ else\n",
    "# 성적이 60점 이상이면  \"통과!\"\n",
    "# 아니라면, \"과락\"\n",
    "score = 70\n",
    "\n",
    "if score >= 60:\n",
    "    print('통과!')\n",
    "else:\n",
    "    print('과락!')\n"
   ]
  },
  {
   "cell_type": "code",
   "execution_count": 45,
   "metadata": {},
   "outputs": [
    {
     "name": "stdout",
     "output_type": "stream",
     "text": [
      "C\n"
     ]
    }
   ],
   "source": [
    "# 성적에 따라서\n",
    "# 90 점 이상이면 'A'\n",
    "# 80 점 이상이고 90점 미만이면 'B'\n",
    "# 70 점 이상이고 80점 미만이면 'C'\n",
    "# 60 점 이상이고 70점 미만이면 'C'\n",
    "# 60 점 미만이라면 모두 'F'\n",
    "score = 70\n",
    "\n",
    "if score >= 90:\n",
    "    print('A')\n",
    "if score >= 80 and score < 90:\n",
    "    print('B')\n",
    "if score >= 70 and score < 80:\n",
    "    print('C')\n",
    "if score >= 60 and score < 70:\n",
    "    print('D')\n",
    "if score < 60:\n",
    "    print('F')"
   ]
  },
  {
   "cell_type": "code",
   "execution_count": 46,
   "metadata": {},
   "outputs": [
    {
     "name": "stdout",
     "output_type": "stream",
     "text": [
      "C\n"
     ]
    }
   ],
   "source": [
    "# 복합 조건문 if ~ elif ~ else\n",
    "if score >= 90:\n",
    "    print('A')\n",
    "elif score >= 80:\n",
    "    print('B')\n",
    "elif score >= 70:\n",
    "    print('C')\n",
    "elif score >= 60:\n",
    "    print('D')\n",
    "else:\n",
    "    print('F')"
   ]
  },
  {
   "cell_type": "code",
   "execution_count": 47,
   "metadata": {},
   "outputs": [
    {
     "name": "stdout",
     "output_type": "stream",
     "text": [
      "A\n",
      "고득점입니다!\n"
     ]
    }
   ],
   "source": [
    "# 중첩 조건문\n",
    "# score 95점 이상이라면 \"고득점입니다\"를 추가로 출력해보세요!\n",
    "score = 95\n",
    "if score >= 90:\n",
    "    print('A')\n",
    "    if score >= 95:\n",
    "        print('고득점입니다!')\n",
    "elif score >= 80:\n",
    "    print('B')\n",
    "elif score >= 70:\n",
    "    print('C')\n",
    "elif score >= 60:\n",
    "    print('D')\n",
    "else:\n",
    "    print('F')"
   ]
  },
  {
   "cell_type": "code",
   "execution_count": 48,
   "metadata": {},
   "outputs": [
    {
     "name": "stdout",
     "output_type": "stream",
     "text": [
      "1001\n"
     ]
    }
   ],
   "source": [
    "# 조건문 연습 4\n",
    "# score 80점 이상이면 임시변수 p 3 할당\n",
    "# 아니라면 1 할당\n",
    "# 그 다음에, point 값에 p 더해 할당\n",
    "score = 70\n",
    "point = 1000\n",
    "if score >= 80:\n",
    "    p = 3\n",
    "else:\n",
    "    p = 1\n",
    "point += p\n",
    "print(point)"
   ]
  },
  {
   "cell_type": "code",
   "execution_count": 49,
   "metadata": {},
   "outputs": [],
   "source": [
    "# 조건표현식, \n",
    "# 조건문 : 실행 코드 블럭을 사용해서 코드 분기\n",
    "# 조건에 따라서 하나의 표현식(한줄)\n",
    "# -> 조건표현식\n",
    "# 변수명 = 참 if 표현식 else 거짓\n",
    "\n",
    "p = 3 if score >= 80 else 1\n",
    "point += p\n",
    "point += 3 if score >= 80 else 1 # 삼항연산자! 임시변수 사용X"
   ]
  },
  {
   "cell_type": "markdown",
   "metadata": {},
   "source": [
    "# 반복문 (Loop Statement)\n",
    "주어진 코드 블록을 여러 번 반복해서 실행하는 구문\n",
    "- 특정 작업을 반본적으로 수행 (종료조건 X)\n",
    "- 주어진 조건이 참인 동안 반복적으로 수행 (종료조건 O)\n",
    "\n",
    "**파이썬 반복문 키워드 : for / while**\n",
    "## for statement\n",
    "- 임의의 시퀀스 항목들을 그 시쿼스에 들어있는 순서대로 반복  \n",
    "- 주어진 길이만큼 동작하기 때문에 종료조건이 필요 없음\n",
    "\n",
    "### for statement의 기본 구조\n",
    "- 반복 가능한 객체의 요소 순서대로 반복\n",
    "- 반복 수는 반복 가능한 객체의 요소 수에 달려있다!\n",
    "```python\n",
    "for 변수 in 반복 가능한 객체:\n",
    "    코드 블록\n",
    "```\n",
    "\n",
    "### 반복 가능한 객체 (iterable)\n",
    "반복문에서 순회할 수 있는 객체\n",
    "(시퀀스 개체 뿐만 아니라, dict, set도 가능함)\n",
    "- dir에 \"__iter__\"가 있다면 반복 가능한 함수!\n",
    "- '__iter__' in dir(객체) 입력시 간편하게 확인 능"
   ]
  },
  {
   "cell_type": "code",
   "execution_count": 51,
   "metadata": {},
   "outputs": [
    {
     "name": "stdout",
     "output_type": "stream",
     "text": [
      "['__class__', '__class_getitem__', '__contains__', '__delattr__', '__delitem__', '__dir__', '__doc__', '__eq__', '__format__', '__ge__', '__getattribute__', '__getitem__', '__gt__', '__hash__', '__init__', '__init_subclass__', '__ior__', '__iter__', '__le__', '__len__', '__lt__', '__ne__', '__new__', '__or__', '__reduce__', '__reduce_ex__', '__repr__', '__reversed__', '__ror__', '__setattr__', '__setitem__', '__sizeof__', '__str__', '__subclasshook__', 'clear', 'copy', 'fromkeys', 'get', 'items', 'keys', 'pop', 'popitem', 'setdefault', 'update', 'values']\n"
     ]
    }
   ],
   "source": [
    "a = dict\n",
    "print(dir(a))"
   ]
  },
  {
   "cell_type": "code",
   "execution_count": 52,
   "metadata": {},
   "outputs": [
    {
     "data": {
      "text/plain": [
       "True"
      ]
     },
     "execution_count": 52,
     "metadata": {},
     "output_type": "execute_result"
    }
   ],
   "source": [
    "'__iter__' in dir(a)"
   ]
  },
  {
   "cell_type": "markdown",
   "metadata": {},
   "source": [
    "### for 문 원리\n",
    "- 리스트 내 첫 항목이 반복 변수에 할당되고 코드블록이 실행\n",
    "- 다음으로 반복 변수에 리스트의 2번째 항목이 할당되고 코드블록이 다시 실행\n",
    "- 마지막으로 반복 변수에 리스트의 마지막 요소가 할당되고 코드블록이 실행"
   ]
  },
  {
   "cell_type": "code",
   "execution_count": 22,
   "metadata": {},
   "outputs": [
    {
     "name": "stdout",
     "output_type": "stream",
     "text": [
      "apple\n",
      "banana\n",
      "coconut\n"
     ]
    }
   ],
   "source": [
    "items = ['apple', 'banana', 'coconut']\n",
    "\n",
    "for item in items:\n",
    "    print(item)"
   ]
  },
  {
   "cell_type": "markdown",
   "metadata": {},
   "source": [
    "문자열 순회"
   ]
  },
  {
   "cell_type": "code",
   "execution_count": 24,
   "metadata": {},
   "outputs": [
    {
     "name": "stdout",
     "output_type": "stream",
     "text": [
      "k\n",
      "o\n",
      "r\n",
      "e\n",
      "a\n"
     ]
    }
   ],
   "source": [
    "country = 'korea'\n",
    "for char in country:\n",
    "    print(char)"
   ]
  },
  {
   "cell_type": "markdown",
   "metadata": {},
   "source": [
    "range 순회"
   ]
  },
  {
   "cell_type": "code",
   "execution_count": 25,
   "metadata": {},
   "outputs": [
    {
     "name": "stdout",
     "output_type": "stream",
     "text": [
      "0\n",
      "1\n",
      "2\n",
      "3\n",
      "4\n"
     ]
    }
   ],
   "source": [
    "for i in range(5):\n",
    "    print(i)"
   ]
  },
  {
   "cell_type": "markdown",
   "metadata": {},
   "source": [
    "인덱스로 리스트 순회\n",
    "- 리스트의 요소가 아닌 인덱스로 접근하여 해당 요소들을 변경하기"
   ]
  },
  {
   "cell_type": "code",
   "execution_count": 26,
   "metadata": {},
   "outputs": [
    {
     "name": "stdout",
     "output_type": "stream",
     "text": [
      "[8, 12, 20, -16, 10]\n"
     ]
    }
   ],
   "source": [
    "# range를 활용하여 인덱스로 접근\n",
    "numbers = [4, 6, 10, -8, 5]\n",
    "\n",
    "for i in range(len(numbers)):\n",
    "    # len을 사용하는 이유 : 재사용을 위해서\n",
    "    numbers[i] = numbers[i] * 2\n",
    "\n",
    "print(numbers)"
   ]
  },
  {
   "cell_type": "markdown",
   "metadata": {},
   "source": [
    "## 중첩된 반복문\n",
    "- 안쪽 반복문은 outers리스트의 각 항목에 대해 한번씩 실행됨\n",
    "- print가 호출되는 횟수 = > **len(outers * len(inners))**\n",
    "- 알고리즘에서 가장 중요함 !"
   ]
  },
  {
   "cell_type": "code",
   "execution_count": 27,
   "metadata": {},
   "outputs": [
    {
     "name": "stdout",
     "output_type": "stream",
     "text": [
      "A c\n",
      "A d\n",
      "B c\n",
      "B d\n"
     ]
    }
   ],
   "source": [
    "outers = ['A', 'B']\n",
    "inners = ['c', 'd']\n",
    "\n",
    "for outer in outers:\n",
    "    for inner in inners:\n",
    "        print(outer, inner)"
   ]
  },
  {
   "cell_type": "markdown",
   "metadata": {},
   "source": [
    "중첩 리스트 순회\n",
    "- 안쪽 리스트 요소에 접근하려면 바같 리스트를 순회하면서 중첩 반복을 사용해 각 안쪽 반복을 순회\n",
    "- IM은 중첩리스트를 얼마나 자유자재로 사용하는지가 중요 !"
   ]
  },
  {
   "cell_type": "code",
   "execution_count": 28,
   "metadata": {},
   "outputs": [
    {
     "name": "stdout",
     "output_type": "stream",
     "text": [
      "['A', 'B']\n",
      "['B', 'C']\n"
     ]
    }
   ],
   "source": [
    "elements = [['A', 'B'], ['B', 'C']]\n",
    "\n",
    "for elem in elements:\n",
    "    print(elem)"
   ]
  },
  {
   "cell_type": "code",
   "execution_count": 29,
   "metadata": {},
   "outputs": [
    {
     "name": "stdout",
     "output_type": "stream",
     "text": [
      "A\n",
      "B\n",
      "B\n",
      "C\n"
     ]
    }
   ],
   "source": [
    "elements = [['A', 'B'], ['B', 'C']]\n",
    "\n",
    "for elem in elements:\n",
    "    for item in elem:\n",
    "        print(item)"
   ]
  },
  {
   "cell_type": "markdown",
   "metadata": {},
   "source": [
    "## while statement\n",
    "주어진 조건식이 참(True)인 동안 코드를 반복해서 실행  \n",
    "== 조건식이 거짓(False)가 될때가지 반복\n",
    "- 후자로 생각해야 조건식 만들기 더 쉬움\n",
    "- 조건식을 작성하는 것에서 어려움을 느낌!\n",
    "\n",
    "### while statement의 기본구조\n",
    "```python\n",
    "while 조건식:\n",
    "    코드블록\n",
    "```"
   ]
  },
  {
   "cell_type": "markdown",
   "metadata": {},
   "source": [
    "while 반복문 예시"
   ]
  },
  {
   "cell_type": "code",
   "execution_count": 32,
   "metadata": {},
   "outputs": [
    {
     "name": "stdout",
     "output_type": "stream",
     "text": [
      "0\n",
      "1\n",
      "2\n",
      "끝\n"
     ]
    }
   ],
   "source": [
    "a = 0\n",
    "\n",
    "while a < 3:\n",
    "    print(a)\n",
    "    a += 1 # 작성하지 않는 경우 무한 루프!\n",
    "print('끝')"
   ]
  },
  {
   "cell_type": "markdown",
   "metadata": {},
   "source": [
    "**사용자 입력에 따른 반복**\n",
    "- while문을 사용한 특정 입력 값에 대한 종료 조건 활용하기"
   ]
  },
  {
   "cell_type": "code",
   "execution_count": 33,
   "metadata": {},
   "outputs": [
    {
     "name": "stdout",
     "output_type": "stream",
     "text": [
      "0은 양의 정수가 아닙니다.\n",
      "음수를 입력했습니다.\n",
      "잘했습니다!\n"
     ]
    }
   ],
   "source": [
    "number = int(input('양의 정수를 입력해주세요.: '))\n",
    "\n",
    "while number <= 0:\n",
    "    if number < 0:\n",
    "        print('음수를 입력했습니다.')\n",
    "    else:\n",
    "        print('0은 양의 정수가 아닙니다.')\n",
    "    number = int(input('양의 정수를 입력해주세요.: '))\n",
    "print('잘했습니다!')\n",
    "\n",
    "# 0, -1, 1"
   ]
  },
  {
   "cell_type": "markdown",
   "metadata": {},
   "source": [
    ">**While 문은 반드시 **종료조건**이 필요**"
   ]
  },
  {
   "cell_type": "markdown",
   "metadata": {},
   "source": [
    "### 파이썬 반복문에 사용되는 키워드   \n",
    "for : iterable의 요소를 하나씩 순회하며 반복\n",
    "while : 주어진 조건식이 참인 동안 반복\n",
    "\n",
    "적절한 반복문 활용하기\n",
    "- for\n",
    "    - 반복 횟수가 명확하게 정해져 있는 경우에 유용\n",
    "    - 예를 들어 리스트, 튜플, 문자열 등과 같은 시퀀스 형식의 데이터를 처리할 때\n",
    "- while\n",
    "    - 반복 횟수가 불명확하거나 조건에 따라 반복을 종료해야 할 때 유용\n",
    "    - 예를 들어 사용자의 입력을 받아서 특정 조건이 충족될 때가지 반복하는 경우\n",
    "\n",
    "## 반복 제어\n",
    "for문과 while은 매 반복마다 본문 내 모든 코드를 실행하지만 때대로 일부만 실행하는 것이 필요할 때가 있음\n",
    "\n",
    "break : 반복을 즉시 중지  \n",
    "continue : 다음 반복으로 건너뜀"
   ]
  },
  {
   "cell_type": "markdown",
   "metadata": {},
   "source": [
    "break 예시\n",
    "- 프로그램 종료 조건 만들기"
   ]
  },
  {
   "cell_type": "code",
   "execution_count": 53,
   "metadata": {},
   "outputs": [
    {
     "name": "stdout",
     "output_type": "stream",
     "text": [
      "0은 양의 정수가 아닙니다.\n",
      "잘했습니다!\n",
      "음수를 입력했습니다.\n",
      "잘했습니다!\n"
     ]
    }
   ],
   "source": [
    "number = int(input('양의 정수를 입력해주세요.: '))\n",
    "\n",
    "while number <= 0:\n",
    "    if number == -9999:\n",
    "        print('프로그램을 종료합니다.')\n",
    "        break # 반복 자체를 종료한다!\n",
    "    if number < 0:\n",
    "        print('음수를 입력했습니다.')\n",
    "    else:\n",
    "        print('0은 양의 정수가 아닙니다.')\n",
    "    number = int(input('양의 정수를 입력해주세요.: '))\n",
    "    print('잘했습니다!')"
   ]
  },
  {
   "cell_type": "markdown",
   "metadata": {},
   "source": [
    "- 리스트에서 첫 번째 짝수 찾기"
   ]
  },
  {
   "cell_type": "code",
   "execution_count": 54,
   "metadata": {},
   "outputs": [
    {
     "name": "stdout",
     "output_type": "stream",
     "text": [
      "첫 번째 짝수를 찾았습니다: 6\n"
     ]
    }
   ],
   "source": [
    "numbers = [1, 3, 5, 6, 7, 9, 10, 11]\n",
    "found_even = False\n",
    "\n",
    "for num in numbers:\n",
    "    if num % 2 == 0:\n",
    "        print('첫 번째 짝수를 찾았습니다:', num)\n",
    "        found_even = True\n",
    "        break\n",
    "\n",
    "if not found_even:\n",
    "    print('짝수를 찾이 못했습니다.')"
   ]
  },
  {
   "cell_type": "markdown",
   "metadata": {},
   "source": [
    "continue 예시\n",
    "- 현재 리스트에서 홀수로만 출력하기\n",
    "- **다음 반복**으로 건너뛰기\n",
    "- **현재 반복문의 남은 코드를 건너뛰고 다음 반복으로 넘어감**"
   ]
  },
  {
   "cell_type": "code",
   "execution_count": 55,
   "metadata": {},
   "outputs": [
    {
     "name": "stdout",
     "output_type": "stream",
     "text": [
      "2\n",
      "4\n",
      "6\n",
      "8\n",
      "10\n"
     ]
    }
   ],
   "source": [
    "numbers  = [1, 2, 3, 4, 5, 6, 7, 8, 9, 10]\n",
    "\n",
    "for num in numbers:\n",
    "    if num % 2 ==1:\n",
    "        continue\n",
    "    print(num)"
   ]
  },
  {
   "cell_type": "markdown",
   "metadata": {},
   "source": [
    "break와 continue 주의 사항\n",
    "- break와 continue를 남용하는 것은 코드의 가독성을 저하시킬 수 있음\n",
    "- **특정한 종료 조건**을 만들어 break을 대신하거나, **if 문을 사용**해 continue처럼 코드를 건너 뛸 수도 있음\n",
    "- 약간의 시간이 들더라도 가능한 코드의 가독성을 유지하고 코드의 의도를 명확하게 작성하도록 노력하는 것이 중요\n",
    "- 억지로 쓰려고 할 필요도, 안쓰려고 할 필요도 없음 !"
   ]
  },
  {
   "cell_type": "code",
   "execution_count": 56,
   "metadata": {},
   "outputs": [
    {
     "name": "stdout",
     "output_type": "stream",
     "text": [
      "1\n",
      "2\n",
      "4\n"
     ]
    }
   ],
   "source": [
    "# continue 사용\n",
    "for number in range(1, 5):\n",
    "    if number == 3:\n",
    "        continue\n",
    "    print(number)"
   ]
  },
  {
   "cell_type": "code",
   "execution_count": 57,
   "metadata": {},
   "outputs": [
    {
     "name": "stdout",
     "output_type": "stream",
     "text": [
      "1\n",
      "2\n",
      "4\n"
     ]
    }
   ],
   "source": [
    "# continue 사용 X\n",
    "for number in range(1, 5):\n",
    "    if number != 3:\n",
    "        print(number)"
   ]
  },
  {
   "cell_type": "markdown",
   "metadata": {},
   "source": [
    "## List Comprehension\n",
    "**간결**하고 **효율**적인 **리스트 생성** 방법\n",
    "- 기존 방법과 이 방법 둘 다 사용할 줄 알아야함, 호환 가능하도록!\n",
    "- 기존의 방법 : []  / map + list\n",
    "\n",
    "List Comprehension\n",
    "> [expression for 변수 in iterable]  \n",
    "list(expression for 변수 in iterable)\n",
    "\n",
    "List Comprehension와 if문 \n",
    "> [expression for 변수 in iterable if 조건식]  \n",
    "list(expression for 변수 in iterable if 조건식)\n",
    "\n",
    "- if else 가능 / 중첩 가능\n",
    "- elif 불가능\n",
    "\n",
    "*\"Simple is better than comlex\"*"
   ]
  },
  {
   "cell_type": "code",
   "execution_count": 58,
   "metadata": {},
   "outputs": [
    {
     "name": "stdout",
     "output_type": "stream",
     "text": [
      "[0, 1, 2, 3, 4, 5, 6, 7, 8, 9]\n",
      "[0, 1, 2, 3, 4, 5, 6, 7, 8, 9]\n"
     ]
    }
   ],
   "source": [
    "# List Comprehension\n",
    "# 0 ~ 9 요소를 가지는 리스트 만들기\n",
    "# 1. 일반적인 방법\n",
    "new_list = []\n",
    "for i in range(10):\n",
    "    new_list.append(i)\n",
    "print(new_list)\n",
    "\n",
    "# 2. list comprehension\n",
    "new_list_2 = [i for i in range(10)]\n",
    "print(new_list_2)"
   ]
  },
  {
   "cell_type": "code",
   "execution_count": 59,
   "metadata": {},
   "outputs": [
    {
     "name": "stdout",
     "output_type": "stream",
     "text": [
      "[1, 3, 5, 7, 9]\n",
      "[1, 3, 5, 7, 9]\n"
     ]
    }
   ],
   "source": [
    "# 0 ~ 9 증 홀수를 가지는 리스트 만들기\n",
    "# 1. 일반적인 방법\n",
    "new_list = []\n",
    "for i in range(10):\n",
    "    if i % 2 == 1:\n",
    "        new_list.append(i)\n",
    "print(new_list)\n",
    "\n",
    "# 2. list comprehension\n",
    "new_list_2 = [i for i in range(10) if i % 2 == 1]\n",
    "print(new_list_2)"
   ]
  },
  {
   "cell_type": "code",
   "execution_count": 60,
   "metadata": {},
   "outputs": [
    {
     "name": "stdout",
     "output_type": "stream",
     "text": [
      "[1, 4, 9, 16, 25]\n",
      "[1, 4, 9, 16, 25]\n"
     ]
    }
   ],
   "source": [
    "# 제곱한 값 리스트 만들기\n",
    "# 1. 일반적인 방법\n",
    "numbers = [1,2,3,4,5]\n",
    "squared_numbers = []\n",
    "\n",
    "for num in numbers:\n",
    "    squared_numbers.append(num**2)\n",
    "print(squared_numbers)\n",
    "\n",
    "# 2. list comprehension\n",
    "numbers = [1,2,3,4,5]\n",
    "squared_numbers_2 = [num ** 2 for num in numbers]\n",
    "\n",
    "print(squared_numbers_2)"
   ]
  },
  {
   "cell_type": "code",
   "execution_count": 61,
   "metadata": {},
   "outputs": [
    {
     "name": "stdout",
     "output_type": "stream",
     "text": [
      "['0', 1, '2', 3, '4', 5, '6', 7, '8', 9]\n"
     ]
    }
   ],
   "source": [
    "# if else문 적용\n",
    "new_list_3 = [i  if i % 2 == 1 else str(i) for i in range(10)]\n",
    "print(new_list_3)"
   ]
  },
  {
   "cell_type": "code",
   "execution_count": 62,
   "metadata": {},
   "outputs": [
    {
     "name": "stdout",
     "output_type": "stream",
     "text": [
      "[1, 2, 3]\n",
      "[1, 2, 3]\n",
      "[1, 2, 3]\n"
     ]
    }
   ],
   "source": [
    "# 리스트를 생성하는 3가지 방법 비교\n",
    "# 정수 1, 2, 3를 가지는 새로운 리스트 만들기\n",
    "# 어떤게 제일 빠른지?!\n",
    "\n",
    "numbers = ['1', '2', '3']\n",
    "\n",
    "# 1. for loop\n",
    "new_numbers = []\n",
    "for number in numbers:\n",
    "    new_numbers.append(int(number))\n",
    "print(new_numbers)\n",
    "\n",
    "# 2. map\n",
    "new_numbers_2 = list(map(int, numbers))\n",
    "print(new_numbers_2)\n",
    "\n",
    "# 3. list comprehenson\n",
    "new_number_3 = [int(number) for number in numbers]\n",
    "print(new_number_3)"
   ]
  },
  {
   "cell_type": "markdown",
   "metadata": {},
   "source": [
    "## 연습문제"
   ]
  },
  {
   "cell_type": "code",
   "execution_count": null,
   "metadata": {},
   "outputs": [],
   "source": [
    "# 반복 제어가 필요한 경우\n",
    "# 무한히 반복되는 반복문\n",
    "while True: # 조건식이 한상 참이 되는 경우\n",
    "    print('안녕하세요!')"
   ]
  },
  {
   "cell_type": "code",
   "execution_count": 70,
   "metadata": {},
   "outputs": [],
   "source": [
    "# 반복 제어 : break, continue\n",
    "# 입력을 받아서 무한히 출력하는 코드\n",
    "# 그 입력이 'exit'이면 반복 종료\n",
    "\n",
    "while True:\n",
    "    text = input()\n",
    "    print(text)\n",
    "    if text == 'exit':\n",
    "        break"
   ]
  },
  {
   "cell_type": "code",
   "execution_count": null,
   "metadata": {},
   "outputs": [],
   "source": [
    "# for 문을 사용해서 반복 제어\n",
    "# 0부터 100까지 순회를 반복하는데 해당 값도 출력\n",
    "# 77이라는 값이 나오면, '럭키!'라고 출력하고\n",
    "# 반복을 종료한다.\n",
    "for i in range(101):\n",
    "    print(i)\n",
    "    if i == 77:\n",
    "        print('럭키!')\n",
    "        break"
   ]
  },
  {
   "cell_type": "code",
   "execution_count": null,
   "metadata": {},
   "outputs": [],
   "source": [
    "# 반복 제어문 continue\n",
    "# continue: 아래 코드 블럭을 더 진행하지 말고\n",
    "# 위로 올라가서 반복을 계속 진행하도록 한다.\n",
    "\n",
    "# for 문을 사용해서 1부터 100 사이의 수 중\n",
    "# 2의 배수에 해당하는 값을 출력해보아라\n",
    "for i in range(1, 101):\n",
    "    if i % 2 != 0:\n",
    "        continue\n",
    "    print(i)"
   ]
  },
  {
   "cell_type": "code",
   "execution_count": null,
   "metadata": {},
   "outputs": [],
   "source": [
    "# arr이라는 리스트에 2이 배수에 해당하는 \n",
    "# 0부터 100사이의 값을 추가해보세요\n",
    "arr = []\n",
    "for i in range(1, 101):\n",
    "    if i % 2 == 0:\n",
    "        arr.append(i)\n",
    "\n",
    "arr = [i for i in range(1, 101) if i % 2 == 0]"
   ]
  },
  {
   "cell_type": "code",
   "execution_count": null,
   "metadata": {},
   "outputs": [],
   "source": [
    "# arr 이라는 리스트에\n",
    "# 2의 배수에 해당하고 3의 배수에는 해당하지 않는 \n",
    "# 0부터 100사이의 값을 추가해보세요\n",
    "# 1. 중첩 조건문\n",
    "arr = []\n",
    "for i in range(1, 101):\n",
    "    if i % 2 == 0:\n",
    "        if i % 3 != 0:\n",
    "            arr.append(i)\n",
    "\n",
    "# AND 논리 연산자\n",
    "arr = []\n",
    "for i in range(1, 101):\n",
    "    if i % 2 == 0 and i % 3 != 0:\n",
    "        arr.append(i)\n",
    "\n",
    "# 3. 반복 제어 continue\n",
    "arr = []\n",
    "for i in range(1, 101):\n",
    "    if i % 3 == 0:\n",
    "        continue\n",
    "    if i % 2 == 0:\n",
    "        arr.append(i)\n",
    "\n",
    "# 4. 리스트 컴프리헨션\n",
    "arr = [i for i in range(1, 101) if i % 2 == 0 and i % 3 !=0]"
   ]
  },
  {
   "cell_type": "markdown",
   "metadata": {},
   "source": [
    "## 참고\n",
    "pass\n",
    "아무런 동작도 수행하지 않고 넘어가는 역할\n",
    "-> 문법적으로 문장이 필요하지만 프로그램   실행에는 영향을 주지 않아야 할 때 사용\n",
    "\n",
    "pass 예시\n",
    "1. 코드 작성 중 미완성 부분\n",
    "    - 구현해야 할 부분이 나중에 추가될 수 있고, 코드를 컴파일 하는 동안 오류가 발생하지 않음\n",
    "```python\n",
    "def my_function():\n",
    "    pass\n",
    "```\n",
    "2. 조건문에서 아무런 동작을 수행하지 않아얄 할 때\n",
    "```python\n",
    "if condition:\n",
    "    pass # 아무런 동작도 수행하지 않음\n",
    "else:\n",
    "    # 다른 동작 수행\n",
    "```\n",
    "3. 무한 루프에서 조건이 충족되지 않을 때 pass를 사용하여 루프를 계속 진행하는 방법\n",
    "```python\n",
    "while True:\n",
    "    if condition:\n",
    "        break\n",
    "    elif condition:\n",
    "        pass # 루프 계속 진행\n",
    "    else:\n",
    "        print('..')\n",
    "```\n"
   ]
  },
  {
   "cell_type": "markdown",
   "metadata": {},
   "source": [
    "### enumerate(iterable, start = 0)\n",
    "iterable 객체의 각 요소에 대해 인덱스와 함께 반환하는 내장함수"
   ]
  },
  {
   "cell_type": "code",
   "execution_count": 65,
   "metadata": {},
   "outputs": [
    {
     "name": "stdout",
     "output_type": "stream",
     "text": [
      "인덱스 0: apple\n",
      "인덱스 1: banana\n",
      "인덱스 2: cheery\n"
     ]
    }
   ],
   "source": [
    "fruits = ['apple', 'banana', 'cheery']\n",
    "\n",
    "for index, fruit in enumerate(fruits):\n",
    "    print(f'인덱스 {index}: {fruit}')"
   ]
  },
  {
   "cell_type": "code",
   "execution_count": 63,
   "metadata": {},
   "outputs": [
    {
     "name": "stdout",
     "output_type": "stream",
     "text": [
      "<enumerate object at 0x000001AF44193540>\n",
      "[(0, 'a'), (1, 'b'), (2, 'c')]\n"
     ]
    }
   ],
   "source": [
    "# enumerate\n",
    "result = ['a', 'b', 'c']\n",
    "\n",
    "print(enumerate(result)) # <enumerate object at 0x000001AF42C30240>\n",
    "print(list(enumerate(result))) # [(0, 'a'), (1, 'b'), (2, 'c')]"
   ]
  },
  {
   "cell_type": "code",
   "execution_count": 64,
   "metadata": {},
   "outputs": [
    {
     "name": "stdout",
     "output_type": "stream",
     "text": [
      "0 a\n",
      "1 b\n",
      "2 c\n"
     ]
    }
   ],
   "source": [
    "for index, elem in enumerate(result):\n",
    "    print(index, elem)"
   ]
  },
  {
   "cell_type": "markdown",
   "metadata": {},
   "source": [
    "###  오늘의 말씀\n",
    "성능! 일반화가 불가능(외부요인, 상황)\n",
    "loop & map & comprehension\n",
    "\n",
    "- 대부분의 상황에서는 compre가 빠르다\n",
    "- 하지만 다른 함수, 내장함수에 따라 map이 더 빠른 경우도 많았다.\n",
    "- 파이썬이 3점대 후반에 for loop 성능에 비약적인 향상이 있었음\n",
    "- 그래서 극단적인 차이는 존재하지 않는다.\n",
    "\n",
    "코드의 가독성 > 간결함\n",
    "\n",
    "프로그래밍은 우리 프로그램이 어떻게 그 목적을 명확하게 전달하는지에 대한 것!\n",
    "\n",
    "\" 작은 효율성에 대해서는, 말하자면 97% 정도에 대해서는, 잊어버려라.\n",
    "섣부른 최적화는 모든 악이 근원이다.\" - 도널드 knuth"
   ]
  },
  {
   "cell_type": "code",
   "execution_count": 66,
   "metadata": {},
   "outputs": [
    {
     "name": "stdout",
     "output_type": "stream",
     "text": [
      "['사과', '바나나', '배']\n"
     ]
    }
   ],
   "source": [
    "fruits = ['사과', '바나나', '배']\n",
    "for fruit in fruits:\n",
    "    fruit = fruit + '+'\n",
    "print(fruits)"
   ]
  },
  {
   "cell_type": "code",
   "execution_count": 68,
   "metadata": {},
   "outputs": [
    {
     "name": "stdout",
     "output_type": "stream",
     "text": [
      "['사과+', '바나나+', '배+']\n"
     ]
    }
   ],
   "source": [
    "# 인덱스와 요소값을 같이 가져올 수 있는 enumerate()\n",
    "fruits = ['사과', '바나나', '배']\n",
    "answer = list(enumerate(fruits))\n",
    "# print(answer) # [(0, '사과'), (1, '바나나'), (2, '배')]\n",
    "\n",
    "for index, fruit in answer:\n",
    "    fruits[index] =  fruit + \"+\"\n",
    "\n",
    "print(fruits)"
   ]
  },
  {
   "cell_type": "code",
   "execution_count": null,
   "metadata": {},
   "outputs": [],
   "source": []
  }
 ],
 "metadata": {
  "kernelspec": {
   "display_name": "Python 3",
   "language": "python",
   "name": "python3"
  },
  "language_info": {
   "codemirror_mode": {
    "name": "ipython",
    "version": 3
   },
   "file_extension": ".py",
   "mimetype": "text/x-python",
   "name": "python",
   "nbconvert_exporter": "python",
   "pygments_lexer": "ipython3",
   "version": "3.9.13"
  },
  "orig_nbformat": 4
 },
 "nbformat": 4,
 "nbformat_minor": 2
}
