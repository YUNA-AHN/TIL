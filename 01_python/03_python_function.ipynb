{
 "cells": [
  {
   "cell_type": "markdown",
   "metadata": {},
   "source": [
    "# Functions\n",
    "## 함수(Fuctions)\n",
    "특정 작업을 수행하기 위한 재사용 가능한 코드 묶음\n",
    "\n",
    "함수를 사용하는 이유\n",
    "- 두 수의 합을 구하는 함수를 정의하고 사용함으로써 코드의 중복을 방지\n",
    "- **재사용성**이 높아지고, 코드의 **가동성과 유지보수성** 향상"
   ]
  },
  {
   "cell_type": "code",
   "execution_count": 9,
   "metadata": {},
   "outputs": [],
   "source": [
    "# 두 수의 합을 구하는 코드\n",
    "num1 = 5\n",
    "num2 = 3\n",
    "sum_result = num1 + num2\n",
    "\n",
    "#  두 수의 합을 구하는 함수\n",
    "def get_sum(num1, num2):\n",
    "    return num1 + num2"
   ]
  },
  {
   "cell_type": "markdown",
   "metadata": {},
   "source": [
    "### 내장함수(Bulit-in function)\n",
    "파이썬이 기본적으로 제공하는 함수  \n",
    "(별도의 import 없이 바로 사용가능)  \n",
    "ex) print() : 출력함수 / abs() : 절대값 함수\n",
    "\n",
    "### 함수 호출(function call)\n",
    "functions_name(arguments)\n",
    "함수를 실행하기 위해 함수의 이름을 사용하여 해당 함수의 코드 블록을 실행하는 것\n",
    "\n",
    "### 함수 구조\n",
    "> input -> function body -> output"
   ]
  },
  {
   "cell_type": "code",
   "execution_count": null,
   "metadata": {},
   "outputs": [],
   "source": [
    "def make_sum(parm1, parm2): # parameter\n",
    "    # Docstring\n",
    "    # fuction body\n",
    "    \"\"\" 이것은 두 수를 받아 \n",
    "     두 수의 합을 반환하는 함수입니다.\n",
    "\n",
    "    >>> make_sum(1,2)\n",
    "    3\n",
    "    \"\"\"\n",
    "    return parm1 + parm2 # return value"
   ]
  },
  {
   "cell_type": "markdown",
   "metadata": {},
   "source": [
    "### 함수의 정의와 호출\n",
    "- 함수 정의(정의)\n",
    "    - 함수 정의는 def 키워드로 시작\n",
    "    - def 키워드 이후 함수 이름 작성\n",
    "    - 괄호안에 매개변수를 정의할 수 있음\n",
    "    - 매개변수(parameter)는 함수에 전달되는 값을 나타냄\n",
    "- 함수 body\n",
    "    - 콜론(:) 다음에 들여쓰기 된 코드 블록\n",
    "    - 함수가 실행 딜 대 수행되는 코드를 정의\n",
    "    - Docstring음 함수 body 앞에 선택적으로 작성 가능함 함수 설명서\n",
    "- 함수 반환 값\n",
    "    - 함수는 필요한 경우 결과를 반환할 수 있음\n",
    "    - retrun 키워드 이후에 반환할 값을 명시\n",
    "    - return 문은 함수의 실행을 종료하고, 결과를 호출 부분으로 반환\n",
    "    - return이 없는 함수 -> print\n",
    "        - 반환은 어떠한 변수에 담아서 쓸 수 있는 것이다! \n",
    "        - print는 출력해주는 함수임\n",
    "- 함수 호출\n",
    "    - 함수를 호출하기 위해서는 함수의 이름과 필용한 인자(argument)를 전달해야함\n",
    "    - 호출 부분에서 전달된 인자는 함수 정의시 작성한 매개변수에 대입됨\n",
    "\n",
    "## 매개변수와 인자\n",
    "### 매개변수(parameter)\n",
    "- 함수를 **정의**할 때, 함수가 받을 값을 나타내는 변수\n",
    "### 인자(argument)\n",
    "- 함수를 **호출**할 때, 실제로 전달되는 값"
   ]
  },
  {
   "cell_type": "code",
   "execution_count": null,
   "metadata": {},
   "outputs": [],
   "source": [
    "def get_sum(num1, num2): # num1, num2는 매개변수\n",
    "    return num1 + num2\n",
    "\n",
    "a = 1\n",
    "b = 2\n",
    "get_sum(a,b) # a, b는 인자"
   ]
  },
  {
   "cell_type": "markdown",
   "metadata": {},
   "source": [
    "### Positional Arguments(위치인자)\n",
    "- 함수 호출 시 인자의 위치에 따라 전달되는 인자\n",
    "- **위치인자는 함수 호출 시 반드시 값을 전달해야함**"
   ]
  },
  {
   "cell_type": "code",
   "execution_count": null,
   "metadata": {},
   "outputs": [],
   "source": [
    "def greet(name, age):\n",
    "    print(f'안녕하세요, {name}! {age}살 이시군요.')\n",
    "\n",
    "greet('Alice', 25) # 안녕하세요, Alice! 25살 이시군요."
   ]
  },
  {
   "cell_type": "markdown",
   "metadata": {},
   "source": [
    "### Default Argument Values(기본 인자 값)\n",
    "- 함수 정의에서 매개변수에 기본 값을 할당하는 것\n",
    "- 함수 호출 시 인자를 전달하지 않으면, 기본값이 매개변수로 할당됨"
   ]
  },
  {
   "cell_type": "code",
   "execution_count": null,
   "metadata": {},
   "outputs": [],
   "source": [
    "def greet(name, age=30):\n",
    "    print(f'안녕하세요, {name}! {age}살 이시군요.')\n",
    "\n",
    "greet('Bob') # 안녕하세요, Bob! 30살 이시군요.\n",
    "greet('Alice', 25) # 안녕하세요, Alice! 25살 이시군요."
   ]
  },
  {
   "cell_type": "markdown",
   "metadata": {},
   "source": [
    "### Keyword Arguments (키워드 인자)\n",
    "- 함수 호출 시 인자의 이름과 함께 값을 전달하는 인자\n",
    "- 매개변수와 인자를 일치시키지 않고, 특정 매개변수에 값을 할당할 수 있음\n",
    "- 인자의 순서는 중요하지 않으며, 인자의 이름을 명시하여 전다\n",
    "- ** 단, 호출 시 키워드 인자는 위치 인자 뒤에 위치 해야함**"
   ]
  },
  {
   "cell_type": "code",
   "execution_count": null,
   "metadata": {},
   "outputs": [],
   "source": [
    "def greet(name, age):\n",
    "    print(f'안녕하세요, {name}! {age}살 이시군요.')\n",
    "\n",
    "greet(age = 25, name = 'Alice')\n",
    "greet(age = 25, 'Dave') \n",
    "# SyntaxError : positional argument follows keyword argument\n",
    "# 키워드 인자 이후에 위치 인자가 따라오고 있다."
   ]
  },
  {
   "cell_type": "markdown",
   "metadata": {},
   "source": [
    "### Arbitaray Argument Lists (임의의 인자 목록)\n",
    "- 정해지지 않은 개수의 인자를 처리하는 인자\n",
    "- 함수 정의 시 매개변수 앞에 '*'를 붙여 사용하며, 여러 개의 인자를 tuple로 처리"
   ]
  },
  {
   "cell_type": "code",
   "execution_count": null,
   "metadata": {},
   "outputs": [],
   "source": [
    "def cal_sum(*args):\n",
    "    print(args)\n",
    "    total = sum(args)\n",
    "    print(f'합계: {total}')\n",
    "\n",
    "cal_sum(1, 2, 3)"
   ]
  },
  {
   "cell_type": "markdown",
   "metadata": {},
   "source": [
    "### Arbitaray Keyword Argument Lists (임의의 키워드 인자 목록)\n",
    "- 정해지지 않은 개수의 키워드 인자를 처리하는 인자\n",
    "- 함수 정의 시 매개변수 앞에 '**'를 붙여 사용하며, 여러 개의 인자를 dictionary로 묶어 처리"
   ]
  },
  {
   "cell_type": "code",
   "execution_count": null,
   "metadata": {},
   "outputs": [],
   "source": [
    "def print_info(**kargs):\n",
    "    print(kargs)\n",
    "\n",
    "print_info(age = 25, name = 'Alice', address='korea')"
   ]
  },
  {
   "cell_type": "markdown",
   "metadata": {},
   "source": [
    "### 함수 인자 권장 작성 순서\n",
    "- 위치 -> 기본 -> 가변 -> 가변 키워드\n",
    "- 호출 시 인자를 전달하는 과정에서 혼란을 줄일 수 있도록 함\n",
    "- **단, 모든 상황에 적용되는 절대적인 규칙은 아니며, 상황에 따라 유연하게 조정될 수 있음**\n",
    "\n",
    "ex) ​print(*objects, sep=' ', end='\\n', file=sys.stdout, flush=False)  \n",
    "-> 위치 인자가 없음, 가변인자 1개 + 기본인자 4개"
   ]
  },
  {
   "cell_type": "code",
   "execution_count": null,
   "metadata": {},
   "outputs": [],
   "source": [
    "def func(pos1, pos2, default_arge='default', *ards, kwd, **kwargs):"
   ]
  },
  {
   "cell_type": "markdown",
   "metadata": {},
   "source": [
    "## 함수와 Scope\n",
    "### Python의 범위 (Scope)\n",
    "- 함수는 코드 내부에 **local scope**를 생성하며, 그 외의 공간인 **global scope**로 구분\n",
    "- Scope\n",
    "    - global scope : 코드 어디에서든 참조할 수 있는 공간\n",
    "    - local scope : 함수가 만든 scope (함수 내부에서만 참조 가능)\n",
    "- variable\n",
    "    - global variable : global scope에 정의된 변수\n",
    "    - local variable : local scope에 정의된 변수\n",
    "\n",
    "Scope 예시\n",
    "- num은 local scope에 존재하기 때문에 global에서 사용할 수 없음\n",
    "- 이는 변수의 **수명주기**와 연관이 있음\n",
    "- local에 존재하는 것은 global에서 사용할 수 없음\n",
    "\n",
    "### 변수의 수명주기(lifecycle)\n",
    "- 변수의 수명주기는 변수가 선언되는 위치와 스코프에 따라 결정됨\n",
    "1. bulit-in scope\n",
    "    - 파이썬이 실행된 이후부터 영원히 유지\n",
    "2. global scope\n",
    "    - 모듈이 호출된 시점 이후 혹은 인터프리터가 끝날 때까지 유지\n",
    "3. local scope\n",
    "    - 함수가 호출될 때 생성되고, 함수가 종료될 때까지 유지\n",
    "\n",
    "### 이름 검색 규칙(Name Resolution)\n",
    "- 파이썬에서 사용되는 이름(식별자)들은 특정한 이름공간(namespace)에 저장되어 있음\n",
    "- 아래와 같은 순서로 이름을 찾아나가며, LEGE Rule이라고 부름  \n",
    "1. Local scope : 지역 범위(현재 작업 중인 범위)\n",
    "2. Enclosed scope : 지역 범위 한 단계 위 범위 (중첩된 함수 등의 공간)\n",
    "3. Global scope : 최상단에 위치한 범위\n",
    "4. Bulit-in scope : 모든 것을 담고 있는 범위(정의하지 않고 사용할 수 있는 모든 것)  \n",
    "\n",
    "**함수 내에서 바깥 Scope의 변수에 접근 가능하나 수정은 할 수 없음**\n",
    "\n",
    "LEGE Rule 예시\n",
    "- sum이라는 이름을 global scope에서 사용하게 되면서 기존에 bilt-in scope에 있던 내장함수 sum을 사용하지 못하게 됨\n",
    "- sum 참조시 LEGE Rule에 따라 global에서 먼저 찾기 때문\n",
    "\n",
    "🌟⭐🌞⭐🌟"
   ]
  },
  {
   "cell_type": "code",
   "execution_count": null,
   "metadata": {},
   "outputs": [],
   "source": [
    "a = 1\n",
    "b = 2\n",
    "\n",
    "def enclosed():\n",
    "    a = 10\n",
    "    c = 3\n",
    "\n",
    "    def local(c):\n",
    "        print(a, b, c) \n",
    "    \n",
    "    local(500) # 10 2 500\n",
    "    print(a, b, c) # 10 2 3\n",
    "\n",
    "enclosed()\n",
    "print(a, b) # 1 2"
   ]
  },
  {
   "cell_type": "markdown",
   "metadata": {},
   "source": [
    "'global' 키워드\n",
    "- 변수의 스코프를 전역 범위로 지정하기 위해 사용\n",
    "- 일반적으로 함수 내에서 전역 변수를 수정하려는 경우에 사용\n",
    "- 공통된 전역변수 컨트롤해야하는 경우 사용\n",
    "- 사용을 권장하지는 않음! **인자**로 넘기고 함수의 **반환 값**을 사용하는 것을 권장\n",
    "\n",
    "'global' 키워드 주의 사항  \n",
    "- global 키워드 선언 전에 접근시  \n",
    "- 매개변수에 global 사용불가  "
   ]
  },
  {
   "cell_type": "code",
   "execution_count": null,
   "metadata": {},
   "outputs": [],
   "source": [
    "num = 0 # 전역 변수\n",
    "\n",
    "def increment():\n",
    "    global num # num를 전역 변수로 선언\n",
    "    num += 1\n",
    "\n",
    "prnt(num) # 0\n",
    "increment()\n",
    "print(num) # 1"
   ]
  },
  {
   "cell_type": "markdown",
   "metadata": {},
   "source": [
    "## 재귀함수\n",
    "함수 내부에서 자기 자신을 호출하는 함수\n",
    "\n",
    "### 재귀 함수 특징\n",
    "- 특정 알고리즘 식을 표현할 때 변수의 사용이 줄어들며, 코드의 가독성이 높아짐\n",
    "- 1개 이상의 base case(종료되는 상황)가 존재하고, 수렴하도록 작성\n",
    "\n",
    "재귀 함수 예시 - 팩토리얼\n",
    "factorial 함수는 자기 자신을 재귀적으로 호출하여 입력된 숫자 n의 팩토리얼을 계산\n",
    "- 재귀 호출은 n이 0이 될 때가지 반복되며, 종료 조건을 설정하여 제귀 호출이 멈추도록 함  : **무한 호출에 유의**\n",
    "- 재귀 호출의 결과를 이용하여 문제를 작은 다위의 문제로 분할하고, 분할된 문제들의 결과를 조합하여 최정 결과를 도출\n",
    "- stack 느낌~~?\n",
    "\n",
    "재귀 함수는 \n",
    "1. 종료 조건을 명확히\n",
    "2. 반복되는 호출이 종료 조건을 향하도록"
   ]
  },
  {
   "cell_type": "code",
   "execution_count": null,
   "metadata": {},
   "outputs": [],
   "source": [
    "def factorial(n):\n",
    "    # 종료 조건 : n이 0이면 1을 반환\n",
    "    if n == 0:\n",
    "        return 1\n",
    "    # 재귀호출 : n과 n-1의 팩토리얼을 곱한 결과를 반환\n",
    "    return n * facorial(n-1)\n",
    "\n",
    "# 팩토리얼 계산 예시\n",
    "result = factorial(5)\n",
    "print(result) # 120"
   ]
  },
  {
   "cell_type": "markdown",
   "metadata": {},
   "source": [
    "## 유용한 함수\n",
    "## 유용한 내장함수\n",
    "### map(function, iterable : 반복 가능한 개체[str, 리스트, 딕셔너리 등])\n",
    "- 순회 가능한 데이터구조(iterable)의 모든 요소에 함수를 적용하고, 그 결과를 map object로 반환"
   ]
  },
  {
   "cell_type": "code",
   "execution_count": null,
   "metadata": {},
   "outputs": [],
   "source": [
    "numbers = [1, 2, 3]\n",
    "result = map(str, numbers)\n",
    "\n",
    "print(result) # <map object at 0x0000027E98652E80>\n",
    "print(list(result)) # ['1', '2', '3']\n",
    "\n",
    "# map을 사용하지 않는 경우\n",
    "result = []\n",
    "for number in numbers:\n",
    "    result.append(str(number))"
   ]
  },
  {
   "cell_type": "markdown",
   "metadata": {},
   "source": [
    "### zip(*iterables)\n",
    "- 임의의 iterable을 모아 튜플을 원소로 하는 zop object를 반환"
   ]
  },
  {
   "cell_type": "code",
   "execution_count": 1,
   "metadata": {},
   "outputs": [
    {
     "name": "stdout",
     "output_type": "stream",
     "text": [
      "<zip object at 0x0000023CC18F8D40>\n",
      "[('jenny', 'ken'), ('mimi', 'bob')]\n"
     ]
    }
   ],
   "source": [
    "girls = ['jenny', 'mimi']\n",
    "boys = ['ken', 'bob']\n",
    "pair = zip(girls, boys)\n",
    "\n",
    "print(pair) # <zip object at 0x0000023CC18F8D40>\n",
    "print(list(pair)) # [('jenny', 'ken'), ('mimi', 'bob')]"
   ]
  },
  {
   "cell_type": "code",
   "execution_count": 3,
   "metadata": {},
   "outputs": [
    {
     "name": "stdout",
     "output_type": "stream",
     "text": [
      "Alice is 30 years old and lives in New York\n",
      "Bob is 25 years old and lives in London\n",
      "Charlie is 35 years old and lives in Paris\n"
     ]
    }
   ],
   "source": [
    "names = ['Alice', 'Bob', 'Charlie']\n",
    "ages = [30, 25, 35]\n",
    "cities = ['New York', 'London', 'Paris']\n",
    "\n",
    "for name, age, city in zip(names, ages, cities):\n",
    "    print(f'{name} is {age} years old and lives in {city}')"
   ]
  },
  {
   "cell_type": "markdown",
   "metadata": {},
   "source": [
    "### lambda\n",
    "이름 없이 정의되고 사용되는 **익명함수**\n",
    "\n",
    "lambde 함수 구조\n",
    "> lambda 매개변수 : 표현식\n",
    "\n",
    "- lambda 키워드\n",
    "    - 람다 함수를 선언하기 위해 사용되는 키워드 입니다.\n",
    "- 매개변수\n",
    "    - 함수에 전달되는 매개변수들\n",
    "    - 여러 개의 매개변수가 있을 경우 쉼표로 구분\n",
    "- 표현식\n",
    "    - 함수의 실행되는 코드 블록으로, 결과 값을 반환하는 표현식으로 작성\n",
    "\n",
    "lambde 함수 예시\n",
    "- 간단한 연산이나 함수를 한줄로 표현할 때 사용\n",
    "- 함수를 매개변수로 전달하는 경우에도 유요하게 활용\n",
    "- 일회성으로 사용"
   ]
  },
  {
   "cell_type": "code",
   "execution_count": null,
   "metadata": {},
   "outputs": [],
   "source": [
    "def addition(x,y):\n",
    "    return x + y\n",
    "\n",
    "(lambda x, y : x + y)(3, 5)\n",
    "\n",
    "# map + lambda\n",
    "numbers = [1, 2, 3, 4, 5]\n",
    "result = list(map(lambda x: x * 2, numbers))\n",
    "print(result)"
   ]
  },
  {
   "cell_type": "markdown",
   "metadata": {},
   "source": [
    "## Packing & Unpacking\n",
    "### Packing (패킹)\n",
    "여러 개의 값을 tuple을 활용해 하나의 변수에 묶어서 담는 것\n",
    "\n",
    "패킹 예시\n",
    "- 변수에 담긴 담긴 값들은 튜플(tuple) 형태로 묶임"
   ]
  },
  {
   "cell_type": "code",
   "execution_count": null,
   "metadata": {},
   "outputs": [],
   "source": [
    "packed_values = 1, 2, 3, 4, 5\n",
    "print(packed_values)\n",
    "\n",
    "x, y =  1, 2\n",
    "# 각 변수로 할당, 숫자가 맞지 않는 경우 Value error"
   ]
  },
  {
   "cell_type": "markdown",
   "metadata": {},
   "source": [
    "*을 활용한 패킹\n",
    "- *b는 남은 요소들을 리스트로 패킹하여 할당\n",
    "- 마지막에 작성하는 것이 일반적\n",
    "- 문제 출제를 위해 중간에 배치하는 경우가 있음"
   ]
  },
  {
   "cell_type": "markdown",
   "metadata": {},
   "source": [
    "- print 함수에 임의의 가변 인자를 작성할 수 있었던 이유\n",
    "print(*objects)"
   ]
  },
  {
   "cell_type": "code",
   "execution_count": null,
   "metadata": {},
   "outputs": [],
   "source": [
    "numbers = [1, 2, 3, 4, 5]\n",
    "a, *b, c =  numbers\n",
    "\n",
    "print(a) # 1\n",
    "print(b) # [2, 3, 4]\n",
    "print(c) # 5"
   ]
  },
  {
   "cell_type": "markdown",
   "metadata": {},
   "source": [
    "### Unpacking(언패킹)\n",
    "- 패킹된 변수의 값을 개별적인 변수로 분리하여 할당하는 것\n",
    "\n",
    "언패킹 예시\n",
    "- 튜플이나 리스트 등의 객체의 요소들을 개별 변수에 할당"
   ]
  },
  {
   "cell_type": "code",
   "execution_count": null,
   "metadata": {},
   "outputs": [],
   "source": [
    "packed_values = 1, 2, 3, 4, 5\n",
    "a, b, c, d, e = packed_values\n",
    "print(a, b, c, d, e)\n",
    "\n",
    "# *는 리스트의 요소를 언패킹\n",
    "names = ['alice', 'jane', 'peter']\n",
    "print(*names)\n",
    "\n",
    "# **는 딕셔너리의 키-값 쌍을 함수의 키워드 인자로 언패킹"
   ]
  },
  {
   "cell_type": "code",
   "execution_count": 4,
   "metadata": {},
   "outputs": [
    {
     "name": "stdout",
     "output_type": "stream",
     "text": [
      "{'a': 1, 'b': 2, 'c': 3}\n"
     ]
    }
   ],
   "source": [
    "# 두 개의 리스트를 딕셔너리로 변환하기\n",
    "keys = ['a', 'b', 'c']\n",
    "values = [1, 2, 3]\n",
    "my_dict = ( dict(zip(keys, values)))\n",
    "print(my_dict)"
   ]
  },
  {
   "cell_type": "markdown",
   "metadata": {},
   "source": [
    "### '*', '**' 패킹/언패킹 연산자 정리\n",
    "'*'\n",
    "- 패킹 연산자로 사용될 때, 여러 개의 인자를 하나의 튜플로 묶는 역할\n",
    "- 언패킹 연산자로 사용될 때, 시퀀스나 반복 가능한 객체를 각각의 요소로 언패킹하여 함수의 인자로 전달\n",
    "\n",
    "'**'\n",
    "- 언패킹 연산자로 사용될 때, 딕셔너리의 키-값 쌍을 키워드 인자로 언패킹 하여 함수의 인자로 전달하는 역할\n",
    "\n",
    "## Module(모듈)\n",
    "한 파일로 묶인 변수와 함수의 모음  \n",
    "특정한 기능을 하는 코드가 작성된 파이썬 파일(.py)\n",
    "\n",
    "모둘 예시\n",
    "- math 모듈\n",
    "- 파이썬이 미리 작성해 둔 수학 관련 변수와 함수가 작성된 모듈"
   ]
  },
  {
   "cell_type": "code",
   "execution_count": null,
   "metadata": {},
   "outputs": [],
   "source": [
    "import math\n",
    "print(math.pi)\n",
    "print(math.sqrt(4))"
   ]
  },
  {
   "cell_type": "markdown",
   "metadata": {},
   "source": [
    "### 모듈 import\n",
    "- 모듈 가져오기\n",
    "    - 모듈 내 변수와 함게 전급하려면 import문이 필요\n",
    "    - 내장 함수 help를 사용해 모듈에 무엇이 들어있는지 확인 가능"
   ]
  },
  {
   "cell_type": "code",
   "execution_count": 17,
   "metadata": {},
   "outputs": [
    {
     "name": "stdout",
     "output_type": "stream",
     "text": [
      "Help on built-in module math:\n",
      "\n",
      "NAME\n",
      "    math\n",
      "\n",
      "DESCRIPTION\n",
      "    This module provides access to the mathematical functions\n",
      "    defined by the C standard.\n",
      "\n",
      "FUNCTIONS\n",
      "    acos(x, /)\n",
      "        Return the arc cosine (measured in radians) of x.\n",
      "        \n",
      "        The result is between 0 and pi.\n",
      "    \n",
      "    acosh(x, /)\n",
      "        Return the inverse hyperbolic cosine of x.\n",
      "    \n",
      "    asin(x, /)\n",
      "        Return the arc sine (measured in radians) of x.\n",
      "        \n",
      "        The result is between -pi/2 and pi/2.\n",
      "    \n",
      "    asinh(x, /)\n",
      "        Return the inverse hyperbolic sine of x.\n",
      "    \n",
      "    atan(x, /)\n",
      "        Return the arc tangent (measured in radians) of x.\n",
      "        \n",
      "        The result is between -pi/2 and pi/2.\n",
      "    \n",
      "    atan2(y, x, /)\n",
      "        Return the arc tangent (measured in radians) of y/x.\n",
      "        \n",
      "        Unlike atan(y/x), the signs of both x and y are considered.\n",
      "    \n",
      "    atanh(x, /)\n",
      "        Return the inverse hyperbolic tangent of x.\n",
      "    \n",
      "    ceil(x, /)\n",
      "        Return the ceiling of x as an Integral.\n",
      "        \n",
      "        This is the smallest integer >= x.\n",
      "    \n",
      "    comb(n, k, /)\n",
      "        Number of ways to choose k items from n items without repetition and without order.\n",
      "        \n",
      "        Evaluates to n! / (k! * (n - k)!) when k <= n and evaluates\n",
      "        to zero when k > n.\n",
      "        \n",
      "        Also called the binomial coefficient because it is equivalent\n",
      "        to the coefficient of k-th term in polynomial expansion of the\n",
      "        expression (1 + x)**n.\n",
      "        \n",
      "        Raises TypeError if either of the arguments are not integers.\n",
      "        Raises ValueError if either of the arguments are negative.\n",
      "    \n",
      "    copysign(x, y, /)\n",
      "        Return a float with the magnitude (absolute value) of x but the sign of y.\n",
      "        \n",
      "        On platforms that support signed zeros, copysign(1.0, -0.0)\n",
      "        returns -1.0.\n",
      "    \n",
      "    cos(x, /)\n",
      "        Return the cosine of x (measured in radians).\n",
      "    \n",
      "    cosh(x, /)\n",
      "        Return the hyperbolic cosine of x.\n",
      "    \n",
      "    degrees(x, /)\n",
      "        Convert angle x from radians to degrees.\n",
      "    \n",
      "    dist(p, q, /)\n",
      "        Return the Euclidean distance between two points p and q.\n",
      "        \n",
      "        The points should be specified as sequences (or iterables) of\n",
      "        coordinates.  Both inputs must have the same dimension.\n",
      "        \n",
      "        Roughly equivalent to:\n",
      "            sqrt(sum((px - qx) ** 2.0 for px, qx in zip(p, q)))\n",
      "    \n",
      "    erf(x, /)\n",
      "        Error function at x.\n",
      "    \n",
      "    erfc(x, /)\n",
      "        Complementary error function at x.\n",
      "    \n",
      "    exp(x, /)\n",
      "        Return e raised to the power of x.\n",
      "    \n",
      "    expm1(x, /)\n",
      "        Return exp(x)-1.\n",
      "        \n",
      "        This function avoids the loss of precision involved in the direct evaluation of exp(x)-1 for small x.\n",
      "    \n",
      "    fabs(x, /)\n",
      "        Return the absolute value of the float x.\n",
      "    \n",
      "    factorial(x, /)\n",
      "        Find x!.\n",
      "        \n",
      "        Raise a ValueError if x is negative or non-integral.\n",
      "    \n",
      "    floor(x, /)\n",
      "        Return the floor of x as an Integral.\n",
      "        \n",
      "        This is the largest integer <= x.\n",
      "    \n",
      "    fmod(x, y, /)\n",
      "        Return fmod(x, y), according to platform C.\n",
      "        \n",
      "        x % y may differ.\n",
      "    \n",
      "    frexp(x, /)\n",
      "        Return the mantissa and exponent of x, as pair (m, e).\n",
      "        \n",
      "        m is a float and e is an int, such that x = m * 2.**e.\n",
      "        If x is 0, m and e are both 0.  Else 0.5 <= abs(m) < 1.0.\n",
      "    \n",
      "    fsum(seq, /)\n",
      "        Return an accurate floating point sum of values in the iterable seq.\n",
      "        \n",
      "        Assumes IEEE-754 floating point arithmetic.\n",
      "    \n",
      "    gamma(x, /)\n",
      "        Gamma function at x.\n",
      "    \n",
      "    gcd(*integers)\n",
      "        Greatest Common Divisor.\n",
      "    \n",
      "    hypot(...)\n",
      "        hypot(*coordinates) -> value\n",
      "        \n",
      "        Multidimensional Euclidean distance from the origin to a point.\n",
      "        \n",
      "        Roughly equivalent to:\n",
      "            sqrt(sum(x**2 for x in coordinates))\n",
      "        \n",
      "        For a two dimensional point (x, y), gives the hypotenuse\n",
      "        using the Pythagorean theorem:  sqrt(x*x + y*y).\n",
      "        \n",
      "        For example, the hypotenuse of a 3/4/5 right triangle is:\n",
      "        \n",
      "            >>> hypot(3.0, 4.0)\n",
      "            5.0\n",
      "    \n",
      "    isclose(a, b, *, rel_tol=1e-09, abs_tol=0.0)\n",
      "        Determine whether two floating point numbers are close in value.\n",
      "        \n",
      "          rel_tol\n",
      "            maximum difference for being considered \"close\", relative to the\n",
      "            magnitude of the input values\n",
      "          abs_tol\n",
      "            maximum difference for being considered \"close\", regardless of the\n",
      "            magnitude of the input values\n",
      "        \n",
      "        Return True if a is close in value to b, and False otherwise.\n",
      "        \n",
      "        For the values to be considered close, the difference between them\n",
      "        must be smaller than at least one of the tolerances.\n",
      "        \n",
      "        -inf, inf and NaN behave similarly to the IEEE 754 Standard.  That\n",
      "        is, NaN is not close to anything, even itself.  inf and -inf are\n",
      "        only close to themselves.\n",
      "    \n",
      "    isfinite(x, /)\n",
      "        Return True if x is neither an infinity nor a NaN, and False otherwise.\n",
      "    \n",
      "    isinf(x, /)\n",
      "        Return True if x is a positive or negative infinity, and False otherwise.\n",
      "    \n",
      "    isnan(x, /)\n",
      "        Return True if x is a NaN (not a number), and False otherwise.\n",
      "    \n",
      "    isqrt(n, /)\n",
      "        Return the integer part of the square root of the input.\n",
      "    \n",
      "    lcm(*integers)\n",
      "        Least Common Multiple.\n",
      "    \n",
      "    ldexp(x, i, /)\n",
      "        Return x * (2**i).\n",
      "        \n",
      "        This is essentially the inverse of frexp().\n",
      "    \n",
      "    lgamma(x, /)\n",
      "        Natural logarithm of absolute value of Gamma function at x.\n",
      "    \n",
      "    log(...)\n",
      "        log(x, [base=math.e])\n",
      "        Return the logarithm of x to the given base.\n",
      "        \n",
      "        If the base not specified, returns the natural logarithm (base e) of x.\n",
      "    \n",
      "    log10(x, /)\n",
      "        Return the base 10 logarithm of x.\n",
      "    \n",
      "    log1p(x, /)\n",
      "        Return the natural logarithm of 1+x (base e).\n",
      "        \n",
      "        The result is computed in a way which is accurate for x near zero.\n",
      "    \n",
      "    log2(x, /)\n",
      "        Return the base 2 logarithm of x.\n",
      "    \n",
      "    modf(x, /)\n",
      "        Return the fractional and integer parts of x.\n",
      "        \n",
      "        Both results carry the sign of x and are floats.\n",
      "    \n",
      "    nextafter(x, y, /)\n",
      "        Return the next floating-point value after x towards y.\n",
      "    \n",
      "    perm(n, k=None, /)\n",
      "        Number of ways to choose k items from n items without repetition and with order.\n",
      "        \n",
      "        Evaluates to n! / (n - k)! when k <= n and evaluates\n",
      "        to zero when k > n.\n",
      "        \n",
      "        If k is not specified or is None, then k defaults to n\n",
      "        and the function returns n!.\n",
      "        \n",
      "        Raises TypeError if either of the arguments are not integers.\n",
      "        Raises ValueError if either of the arguments are negative.\n",
      "    \n",
      "    pow(x, y, /)\n",
      "        Return x**y (x to the power of y).\n",
      "    \n",
      "    prod(iterable, /, *, start=1)\n",
      "        Calculate the product of all the elements in the input iterable.\n",
      "        \n",
      "        The default start value for the product is 1.\n",
      "        \n",
      "        When the iterable is empty, return the start value.  This function is\n",
      "        intended specifically for use with numeric values and may reject\n",
      "        non-numeric types.\n",
      "    \n",
      "    radians(x, /)\n",
      "        Convert angle x from degrees to radians.\n",
      "    \n",
      "    remainder(x, y, /)\n",
      "        Difference between x and the closest integer multiple of y.\n",
      "        \n",
      "        Return x - n*y where n*y is the closest integer multiple of y.\n",
      "        In the case where x is exactly halfway between two multiples of\n",
      "        y, the nearest even value of n is used. The result is always exact.\n",
      "    \n",
      "    sin(x, /)\n",
      "        Return the sine of x (measured in radians).\n",
      "    \n",
      "    sinh(x, /)\n",
      "        Return the hyperbolic sine of x.\n",
      "    \n",
      "    sqrt(x, /)\n",
      "        Return the square root of x.\n",
      "    \n",
      "    tan(x, /)\n",
      "        Return the tangent of x (measured in radians).\n",
      "    \n",
      "    tanh(x, /)\n",
      "        Return the hyperbolic tangent of x.\n",
      "    \n",
      "    trunc(x, /)\n",
      "        Truncates the Real x to the nearest Integral toward 0.\n",
      "        \n",
      "        Uses the __trunc__ magic method.\n",
      "    \n",
      "    ulp(x, /)\n",
      "        Return the value of the least significant bit of the float x.\n",
      "\n",
      "DATA\n",
      "    e = 2.718281828459045\n",
      "    inf = inf\n",
      "    nan = nan\n",
      "    pi = 3.141592653589793\n",
      "    tau = 6.283185307179586\n",
      "\n",
      "FILE\n",
      "    (built-in)\n",
      "\n",
      "\n"
     ]
    }
   ],
   "source": [
    "import math\n",
    "help(math)"
   ]
  },
  {
   "cell_type": "markdown",
   "metadata": {},
   "source": [
    "    \n",
    "- 모듈 사용하기\n",
    "    - .(dot)은 점의 왼쪽 객체에서 점의 오른쪽 이름을 찾아라 라는 의미의 연사낮"
   ]
  },
  {
   "cell_type": "code",
   "execution_count": null,
   "metadata": {},
   "outputs": [],
   "source": [
    "# 모듈명. 변수명\n",
    "print(math.pi)"
   ]
  },
  {
   "cell_type": "markdown",
   "metadata": {},
   "source": [
    "- 모듈을 import하는 다른 방법\n",
    "    - from 절을 활용해 특정 모듈을 미리 참조하고 어떤 요소를 import 할지 명시"
   ]
  },
  {
   "cell_type": "code",
   "execution_count": null,
   "metadata": {},
   "outputs": [],
   "source": [
    "from math import pi, sqrt\n",
    "print(pi)\n",
    "print(sqrt(4))"
   ]
  },
  {
   "cell_type": "markdown",
   "metadata": {},
   "source": [
    "모듈 주의사항\n",
    "- **만약 서로 다른 모듈이 같은 이름의 함수를 제공할 경우 문제 발생**\n",
    "- 마지막에 import된 이름으로 대체됨"
   ]
  },
  {
   "cell_type": "code",
   "execution_count": null,
   "metadata": {},
   "outputs": [],
   "source": [
    "from math import pi, sqrt\n",
    "from my_math import sqrt\n",
    "\n",
    "# 그래서 모듈 내 모든 요소를 한번에 import 하는 * 표기는 권장하지 않음\n",
    "from math import"
   ]
  },
  {
   "cell_type": "markdown",
   "metadata": {},
   "source": [
    "### 사용자 정의 모듈\n",
    "직접 정의한 모듈 사용하기\n",
    "1. 모듈 my_math.py 작성\n",
    "2. 두 수의 합을 구하는 add 함수 작성\n",
    "3. my_math 모듈 import후 add 함수 호출\n",
    "\n",
    "### 파이썬 표준 라이브러리 (Python Standard Library)\n",
    "파이썬 언어와 함께 제공되는 다양한 모듈과 패키지의 모음\n",
    "\n",
    "### 패키지(Package)\n",
    "관련된 모듈들을 하나의 디렉토리에 모아놓은 것\n",
    "\n",
    "- 패키지 사용하기\n",
    "    - from절을 잘 사용해서 사용하고자 하는 모듈만 뽑아쓸 수 있도록\n",
    "> my_package > math > my_math.py  \n",
    "my_package > statistics > tools.py\n",
    "\n",
    "- 패키지 3개 : my_package, math, statistics\n",
    "- 모듈 2개 : my_math, tools"
   ]
  },
  {
   "cell_type": "code",
   "execution_count": null,
   "metadata": {},
   "outputs": [],
   "source": [
    "# 패키지 내에 패키지 존재시 .으로 연결\n",
    "from my_package.math import my_math\n",
    "from my_package.math import tools\n",
    "\n",
    "print(my_math.add(1,2))\n",
    "print(tools.mod(1,2))"
   ]
  },
  {
   "cell_type": "markdown",
   "metadata": {},
   "source": [
    "PSL 내부 패키지 - 설치 없이 바로 import하여 사용\n",
    "\n",
    "외부 패키지 - pip를 사용하여 설치 후 import 필요\n",
    "\n",
    "### pip \n",
    "외부 패키지들을 설치하도록 도와주는 파이썬의 패키지 관리 시스템\n",
    "\n",
    "파이썬 패키지 관리자(pip) \n",
    "- ([PyPI](https://pypi.org/))\n",
    "- PyPI에 저장된 외부 패키지들을 설치\n",
    "\n",
    "패키지 설치\n",
    "- 최신 버전/ 특정버전 / 최소 버전을 명시하여 설치할 수 있음"
   ]
  },
  {
   "cell_type": "code",
   "execution_count": null,
   "metadata": {},
   "outputs": [],
   "source": [
    "pip install SomePackage\n",
    "pip install SomePackage == 1.0.5\n",
    "pip install SomePackage >= 1.0.4"
   ]
  },
  {
   "cell_type": "markdown",
   "metadata": {},
   "source": [
    "requests 외부 패키지 설치 및 사용 예시\n",
    "\n",
    "패키지 사용 목적  \n",
    "- 모듈들의 이름 공간은 구분하여 충돌을 방지  \n",
    "- 모듈들을 효율적으로 관리하고 재사용할 수 있도록 돕는 역할  "
   ]
  }
 ],
 "metadata": {
  "kernelspec": {
   "display_name": "Python 3",
   "language": "python",
   "name": "python3"
  },
  "language_info": {
   "codemirror_mode": {
    "name": "ipython",
    "version": 3
   },
   "file_extension": ".py",
   "mimetype": "text/x-python",
   "name": "python",
   "nbconvert_exporter": "python",
   "pygments_lexer": "ipython3",
   "version": "3.9.13"
  },
  "orig_nbformat": 4
 },
 "nbformat": 4,
 "nbformat_minor": 2
}
