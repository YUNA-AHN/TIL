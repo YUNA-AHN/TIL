{
 "cells": [
  {
   "cell_type": "markdown",
   "metadata": {},
   "source": [
    "# Data Structure2\n",
    "# 비시퀀스 데이터 구조\n",
    "## 세트\n",
    "고유한 항목들의 정렬되지 않은 컬렉션\n",
    "### 세트 메서드\n",
    "```\n",
    "s.add(x)            세트 s에 항목 x를 추가. 이미 x가 있다면 변화 없음\n",
    "s.clear()           세트 s의 모든 항목을 제거\n",
    "s.remove(x)         세트 s에서 항목 x를 제거. 항목 x가 없을 경우 Key error\n",
    "s.pop()             세트 s 에서 랜덤하게 항목을 반환하고, 해당 항목을 제거\n",
    "s.discard(x)        세트 s에서 항목 x를 제거\n",
    "s.update(iterable)  세트 s에 다른 iterable 요소를 추가\n",
    "```"
   ]
  },
  {
   "cell_type": "markdown",
   "metadata": {},
   "source": [
    "## .add(x) \n",
    "세트에 x를 추가"
   ]
  },
  {
   "cell_type": "code",
   "execution_count": 44,
   "metadata": {},
   "outputs": [
    {
     "name": "stdout",
     "output_type": "stream",
     "text": [
      "{1, 2, 3, 4}\n",
      "{1, 2, 3, 4}\n"
     ]
    }
   ],
   "source": [
    "my_set = {1, 2, 3,}\n",
    "my_set.add(4)\n",
    "print(my_set)\n",
    "\n",
    "my_set.add(4)\n",
    "print(my_set) # 각각의 고유한 값"
   ]
  },
  {
   "cell_type": "markdown",
   "metadata": {},
   "source": [
    "### .clear()\n",
    "세트의 모든 항목을 제거\n",
    "- {}는 빈 딕셔너리를 의미하기 때문에 set() 반환"
   ]
  },
  {
   "cell_type": "code",
   "execution_count": 45,
   "metadata": {},
   "outputs": [
    {
     "name": "stdout",
     "output_type": "stream",
     "text": [
      "set()\n"
     ]
    }
   ],
   "source": [
    "my_set = {1, 2, 3}\n",
    "my_set.clear()\n",
    "print(my_set)"
   ]
  },
  {
   "cell_type": "markdown",
   "metadata": {},
   "source": [
    "### .remove(x)\n",
    "세트에서 항목 x를 제거"
   ]
  },
  {
   "cell_type": "code",
   "execution_count": 46,
   "metadata": {},
   "outputs": [
    {
     "name": "stdout",
     "output_type": "stream",
     "text": [
      "{1, 3}\n"
     ]
    }
   ],
   "source": [
    "my_set = {1, 2, 3}\n",
    "my_set.remove(2)\n",
    "print(my_set)"
   ]
  },
  {
   "cell_type": "code",
   "execution_count": 47,
   "metadata": {},
   "outputs": [
    {
     "ename": "KeyError",
     "evalue": "10",
     "output_type": "error",
     "traceback": [
      "\u001b[1;31m---------------------------------------------------------------------------\u001b[0m",
      "\u001b[1;31mKeyError\u001b[0m                                  Traceback (most recent call last)",
      "Cell \u001b[1;32mIn[47], line 1\u001b[0m\n\u001b[1;32m----> 1\u001b[0m my_set\u001b[39m.\u001b[39;49mremove(\u001b[39m10\u001b[39;49m)\n\u001b[0;32m      2\u001b[0m \u001b[39mprint\u001b[39m(my_set) \u001b[39m# KeyError\u001b[39;00m\n",
      "\u001b[1;31mKeyError\u001b[0m: 10"
     ]
    }
   ],
   "source": [
    "my_set.remove(10)\n",
    "print(my_set) # KeyError"
   ]
  },
  {
   "cell_type": "markdown",
   "metadata": {},
   "source": [
    "### .discard()\n",
    "세트 s에서 항목 x를 제거. remove와 달리 에러 없음\n",
    "- 에러 발생도, 반환 값도 없음"
   ]
  },
  {
   "cell_type": "code",
   "execution_count": 48,
   "metadata": {},
   "outputs": [
    {
     "name": "stdout",
     "output_type": "stream",
     "text": [
      "{1, 3}\n"
     ]
    }
   ],
   "source": [
    "my_set = {1, 2, 3}\n",
    "my_set.discard(2)\n",
    "print(my_set)"
   ]
  },
  {
   "cell_type": "code",
   "execution_count": 49,
   "metadata": {},
   "outputs": [
    {
     "name": "stdout",
     "output_type": "stream",
     "text": [
      "None\n"
     ]
    }
   ],
   "source": [
    "print(my_set.discard(10))"
   ]
  },
  {
   "cell_type": "markdown",
   "metadata": {},
   "source": [
    "### .pop()\n",
    "세트에서 **임의의** 요소를 제거하고 **반환**\n",
    "- set는 순서가 없기 때문에 임의의 요소로 표현"
   ]
  },
  {
   "cell_type": "code",
   "execution_count": 50,
   "metadata": {},
   "outputs": [
    {
     "name": "stdout",
     "output_type": "stream",
     "text": [
      "1\n",
      "{2, 3}\n"
     ]
    }
   ],
   "source": [
    "my_set = {1, 2, 3}\n",
    "element = my_set.pop()\n",
    "\n",
    "print(element)\n",
    "print(my_set)"
   ]
  },
  {
   "cell_type": "markdown",
   "metadata": {},
   "source": [
    "### pop 순서에 대한 추가 설명\n",
    "**해시 테이블(Hash Table)**\n",
    "- 데이터를 효율적으로 저장하고 검색하기 이해 사용되는 **자료 구조**\n",
    "- 키-값 쌍을 연결하여 저장하는 방식\n",
    "- 키를 해시 함수를 통해 해시 값으로 반환하고, 이 해시 값을 인덱스로 사용하여 데이터를 저장하거나 검색\n",
    "    - 이렇게 하면 데이터의 검색이 *매우 빠르게* 이루어짐\n",
    "- 파이썬에서 세트의 요소와 딕셔너리의 키는 해시 테이블을 이용하여 중복되지 않는 고유한 값을 저장\n",
    "- 세트 내의 각 요소는 해시 함수를 통해 해시 값으로 변한되고, 이 해시 값을 기반으로 해시 테이블에 저장됨\n",
    "- 마찬가지로 딕셔너리의 키는 고유해야 하므로, 키를 해시함수를 통해 해시 값으로 변환하여 해시 테이블에 저장"
   ]
  },
  {
   "cell_type": "code",
   "execution_count": 51,
   "metadata": {},
   "outputs": [],
   "source": [
    "# 해시 테이블\n",
    "a = [\n",
    "    {\n",
    "        'name' : '삼계탕',\n",
    "        'price' : 20000\n",
    "    },\n",
    "    {\n",
    "        'name' :'육전',\n",
    "        'price' : 15000\n",
    "    }\n",
    "]\n",
    "\n",
    "# 키로 접근하기 위해서 해시 테이블 사용\n",
    "b = {\n",
    "    '삼계탕' : 20000,\n",
    "    '육전' : 15000\n",
    "}"
   ]
  },
  {
   "cell_type": "markdown",
   "metadata": {},
   "source": [
    "**해시(Hash)**\n",
    "- 임의의 크기를 가진 데이터를 고정된 크기의 고유한 값으로 변환하는 것\n",
    "- 이렇게 생성된 고유한 값은 해당 데이터를 식별하는 데 사용될 수 있음\n",
    "- 일종의 \"지문\"과 같은 역할\n",
    "- 지문은 개인을 고유하게 식별하는 것처럼, 해시 값은 데이터를 고유하게 식별\n",
    "- 파이썬에서는 해시 함수를 사용하여 데이터를 해시 값으로 변환하며, 이 해시 값은 정수로 표현됨 \n",
    "\n",
    "- 문자의 경우 동적이기 때문에 랜덤하게 주소가 할당\n",
    "- 정수의 경우 고정된 값이기 때문에 해시 함수를 통해 나온 값이 정수로 동일함\n",
    "\n",
    "**set의 pop 메서드 예시**\n",
    "- set에서 임의의 요소를 제거하고 반환\n",
    "- 실행할 때마다 다른 요소를 얻는다는 의미에서의 \"무작위\"가 아니라 \"임의\"라는 의미에서 무작위\n",
    "\n",
    "- 해시 테이블에 나타나는 순서대로 반환"
   ]
  },
  {
   "cell_type": "code",
   "execution_count": 52,
   "metadata": {},
   "outputs": [
    {
     "name": "stdout",
     "output_type": "stream",
     "text": [
      "1\n",
      "2\n",
      "3\n",
      "100\n",
      "4\n",
      "39\n",
      "9\n",
      "10\n",
      "52\n",
      "87\n",
      "set()\n"
     ]
    }
   ],
   "source": [
    "# 정수\n",
    "\n",
    "my_set = {1, 2, 3, 9, 100, 4, 87, 39, 10, 52}\n",
    "\n",
    "print(my_set.pop())\n",
    "print(my_set.pop())\n",
    "print(my_set.pop())\n",
    "print(my_set.pop())\n",
    "print(my_set.pop())\n",
    "print(my_set.pop())\n",
    "print(my_set.pop())\n",
    "print(my_set.pop())\n",
    "print(my_set.pop())\n",
    "print(my_set.pop())\n",
    "print(my_set)"
   ]
  },
  {
   "cell_type": "markdown",
   "metadata": {},
   "source": [
    "> 정수 값 자체가 곧 해시 값"
   ]
  },
  {
   "cell_type": "code",
   "execution_count": 53,
   "metadata": {},
   "outputs": [
    {
     "name": "stdout",
     "output_type": "stream",
     "text": [
      "d\n",
      "j\n",
      "f\n",
      "g\n",
      "b\n"
     ]
    }
   ],
   "source": [
    "# 문자열\n",
    "my_str_set = {'a', 'b', 'c', 'd', 'e', 'f', 'g', 'h', 'i', 'j'}\n",
    "\n",
    "print(my_str_set.pop())\n",
    "print(my_str_set.pop())\n",
    "print(my_str_set.pop())\n",
    "print(my_str_set.pop())\n",
    "print(my_str_set.pop())"
   ]
  },
  {
   "cell_type": "markdown",
   "metadata": {},
   "source": [
    "> 반환 값이 매번 다름"
   ]
  },
  {
   "cell_type": "code",
   "execution_count": 54,
   "metadata": {},
   "outputs": [
    {
     "name": "stdout",
     "output_type": "stream",
     "text": [
      "1\n",
      "1\n",
      "-6426522749772006213\n",
      "-6426522749772006213\n"
     ]
    }
   ],
   "source": [
    "print(hash(1))  # 1\n",
    "print(hash(1))  # 1\n",
    "print(hash('a'))  # 실행시마다 다름\n",
    "print(hash('a'))  # 실행시마다 다름"
   ]
  },
  {
   "cell_type": "markdown",
   "metadata": {},
   "source": [
    "- 파이썬에서 해시 함수의 동작 방식은 객체의 타입에 따라 달라짐\n",
    "- 정수와 문자열은 서로 다른 타입이며, 이들의 해시 값을 계산하는 방식도 다름\n",
    "- 정수 타입의 경우, 정수 값 자체가 곧 해시 값이 됨\n",
    "    - 즉, 같은 정수는 항상 같은 해시 값을 가짐\n",
    "    - 해시 테이블에 정수를 저장할 때 효율적인 방법\n",
    "    - 예를 들어, hash(1)과 hase(2)는 항상 서로 다른 해시 값을 갖지만, hash(1)은 항상 동일한 해시 값을 갖게 됨\n",
    "- 문자열은 가변적인 길이를 갖고 있고, 문자열에 포함된 각 문자들의 유니코드 코드 포인트 등을 기반으로 해시 값을 계산\n",
    "    - 이로 인해 문자열의 해시 값은 문자열의 내용에 따라 다르게 계산됨\n",
    "    \n",
    "**정수는 해시 테이블에 저장되어 있는 순서가 있기 때문에 동일한 순서로 출력되는 것이다.**\n",
    "**문자열은 실행될때마다 해시함수 마다 다른 값을 받는 것을 알 수 있음 -> pop 출력할 때마다 달라짐**\n",
    "\n",
    "**해시 함수**\n",
    "- 주어진 객체의 해시 값을 계산하는 함수\n",
    "- 해시 값은 객체의 고유한 식별자로 사용될 수 있으며, 해시 테이블과 같은 자료 구조에서 빠른 검색을 위해 사용됨"
   ]
  },
  {
   "cell_type": "code",
   "execution_count": 55,
   "metadata": {},
   "outputs": [
    {
     "ename": "TypeError",
     "evalue": "unhashable type: 'list'",
     "output_type": "error",
     "traceback": [
      "\u001b[1;31m---------------------------------------------------------------------------\u001b[0m",
      "\u001b[1;31mTypeError\u001b[0m                                 Traceback (most recent call last)",
      "Cell \u001b[1;32mIn[55], line 2\u001b[0m\n\u001b[0;32m      1\u001b[0m \u001b[39m# TypeError: unhashable type: 'list'\u001b[39;00m\n\u001b[1;32m----> 2\u001b[0m my_set \u001b[39m=\u001b[39m {[\u001b[39m1\u001b[39m, \u001b[39m2\u001b[39m, \u001b[39m3\u001b[39m], \u001b[39m1\u001b[39m, \u001b[39m2\u001b[39m, \u001b[39m3\u001b[39m, \u001b[39m4\u001b[39m, \u001b[39m5\u001b[39m}\n\u001b[0;32m      4\u001b[0m \u001b[39m# TypeError: unhashable type: 'list\u001b[39;00m\n\u001b[0;32m      5\u001b[0m my_dict \u001b[39m=\u001b[39m {[\u001b[39m1\u001b[39m, \u001b[39m2\u001b[39m, \u001b[39m3\u001b[39m]: \u001b[39m'\u001b[39m\u001b[39ma\u001b[39m\u001b[39m'\u001b[39m}\n",
      "\u001b[1;31mTypeError\u001b[0m: unhashable type: 'list'"
     ]
    }
   ],
   "source": [
    "# TypeError: unhashable type: 'list'\n",
    "my_set = {[1, 2, 3], 1, 2, 3, 4, 5}\n",
    "  \n",
    "# TypeError: unhashable type: 'list\n",
    "my_dict = {[1, 2, 3]: 'a'}"
   ]
  },
  {
   "cell_type": "markdown",
   "metadata": {},
   "source": [
    "> '해시 가능성(hashable)'은 객체를 \"딕셔너리의 키\"나 \"세트의 요소\"로 사용할 수 있게 하는데, 이 자료 구조들이 내부적으로 해시 값을 사용하기 때문\n",
    "\n",
    "해시 가능성은 불변형 자료에만 있음!!\n",
    "리스트를 키로 쓸 수 없음 이유 -> 해시 가능성이 없기 떄문!\n",
    "\n",
    "해시충돌\n",
    "많은 input양 값은 주소에 다른 값 할당"
   ]
  },
  {
   "cell_type": "markdown",
   "metadata": {},
   "source": [
    "### .update(iterable)\n",
    "세트에 다른 iterable 요소를 추가"
   ]
  },
  {
   "cell_type": "code",
   "execution_count": 56,
   "metadata": {},
   "outputs": [
    {
     "name": "stdout",
     "output_type": "stream",
     "text": [
      "{1, 2, 3, 4, 5}\n"
     ]
    }
   ],
   "source": [
    "my_set = { 1, 2, 3}\n",
    "my_set.update([4, 5, 1])\n",
    "print(my_set)"
   ]
  },
  {
   "cell_type": "markdown",
   "metadata": {},
   "source": [
    "### 세트의 집합 메서드\n",
    "```\n",
    "set1.difference(set2) : set1 - set2\n",
    "- set1에는 들어있지만, set2에는 없는 항목으로 세트를 생성 후 반환  \n",
    "\n",
    "set1.intersection(set2) : set1 & set2\n",
    "- set1과 set2 모두 들어있는 항목으로 세트를 생성 후 반환\n",
    "\n",
    "set1.issubset(set2) : set1 <= set2\n",
    "- set1의 항목이 모두 set2에 들어 있으면 True를 반환   \n",
    "\n",
    "set1.issuperset(set2) : set1 >= set2\n",
    "- set1가 set2의 항목을 모두 포한하면 True를 반환\n",
    "\n",
    "set1.union(set2) : set1 | set2\n",
    "- set1 또는 set2에 (혹은 둘 다) 들어있는 항목으로 세트를 생성 후 반환\n",
    "```"
   ]
  },
  {
   "cell_type": "code",
   "execution_count": 57,
   "metadata": {},
   "outputs": [
    {
     "name": "stdout",
     "output_type": "stream",
     "text": [
      "{0, 2, 4}\n",
      "{1, 3}\n",
      "False\n",
      "False\n",
      "{0, 1, 2, 3, 4, 5, 7, 9}\n"
     ]
    }
   ],
   "source": [
    "set1 = {0, 1, 2, 3, 4}\n",
    "set2 = {1, 3, 5, 7, 9}\n",
    "\n",
    "print(set1.difference(set2))\n",
    "print(set1.intersection(set2))\n",
    "print(set1.issubset(set2))\n",
    "print(set1.issuperset(set2))\n",
    "print(set1.union(set2))"
   ]
  },
  {
   "cell_type": "markdown",
   "metadata": {},
   "source": [
    "## 딕셔너리 (dictionary)\n",
    "고유한 항목들의 정렬되지 않은 컬렉션\n",
    "- 앞으로 api 사용할 때 중요함\n",
    "```\n",
    "D.clear()           딕셔너리 D의 모든 키/값 쌍을 제거\n",
    "D.get(k)            키 K에 연결된 값을 반환(키가 없으면 None을 반환)\n",
    "D.get(k, v)         키 K에 연결된 값을 반환하거나 키가 없으면 기본 값으로 V를 반환\n",
    "D.keys()            딕셔너리 D의 키를 모은 객체를 반환\n",
    "D.values()          딕셔너리 D의 값을 모은 객체를 반환\n",
    "D.items()           딕셔너리 D의 키/값 쌍을 모은 객체를 반환\n",
    "D.pop(k)            딕셔너리 D에서 키k를 제거하고 연결됐던 값을 반환(없으면 오류)\n",
    "D.pop(k, v)         딕셔너리 D에서 키k를 제거하고 연결됐던 값을 반환(없으면 V를 반환)\n",
    "D.setdefault(k)     딕셔너리 D에서 키k와 연결된 값을 반환\n",
    "D.setdefault(k, v)  딕셔너리 D에서 키k와 연결된 값을 반환\n",
    "                    K가 D의 키가 아니면 값 v와 연결한 키 k를 D에 추가하고 v를 반환\n",
    "D.update(other)     other 내 각 키에 대해 D에 있는 키면 D에 있는 그 키의 값을 other에 있는 값으로 대체\n",
    "                    other에 있는 각 키에 대해 D에 없는 키면 키/값 쌍을 D에 추가\n",
    "```\n",
    "### clear()\n",
    "딕셔너리 D의 모든 키/값 쌍을 제거"
   ]
  },
  {
   "cell_type": "code",
   "execution_count": 59,
   "metadata": {},
   "outputs": [
    {
     "name": "stdout",
     "output_type": "stream",
     "text": [
      "{}\n"
     ]
    }
   ],
   "source": [
    "person = {'name' : 'Alice', 'age' : 25}\n",
    "person.clear()\n",
    "print(person)"
   ]
  },
  {
   "cell_type": "markdown",
   "metadata": {},
   "source": [
    "### .get(key[,default])\n",
    "키 연결된 값을 반환하거나 키가 없으면 None 혹은 기본값을 반환"
   ]
  },
  {
   "cell_type": "code",
   "execution_count": 60,
   "metadata": {},
   "outputs": [
    {
     "name": "stdout",
     "output_type": "stream",
     "text": [
      "Alice\n",
      "None\n",
      "Unknown\n"
     ]
    }
   ],
   "source": [
    "person = {'name' : 'Alice', 'age' : 25}\n",
    "\n",
    "print(person.get('name'))\n",
    "print(person.get('country'))\n",
    "print(person.get('country', 'Unknown'))"
   ]
  },
  {
   "cell_type": "markdown",
   "metadata": {},
   "source": [
    "- key로 호출과 get의 차이"
   ]
  },
  {
   "cell_type": "code",
   "execution_count": 61,
   "metadata": {},
   "outputs": [
    {
     "name": "stdout",
     "output_type": "stream",
     "text": [
      "Alice\n",
      "Alice\n",
      "25\n",
      "25\n",
      "25\n"
     ]
    }
   ],
   "source": [
    "\n",
    "print(person['name'])\n",
    "print(person.get('name'))\n",
    "\n",
    "# 찾고자 하는 키가 없을 때\n",
    "print(person['age']) # KeyError\n",
    "print(person.get('age')) # None\n",
    "print(person.get('age', 'Unknownn')) # Unknownn"
   ]
  },
  {
   "cell_type": "markdown",
   "metadata": {},
   "source": [
    "### .keys()\n",
    "딕셔너리 키를 모은 객체를 반환"
   ]
  },
  {
   "cell_type": "code",
   "execution_count": 62,
   "metadata": {},
   "outputs": [
    {
     "name": "stdout",
     "output_type": "stream",
     "text": [
      "dict_keys(['name', 'age'])\n",
      "name\n",
      "age\n"
     ]
    }
   ],
   "source": [
    "person = {'name' : 'Alice', 'age' : 25}\n",
    "print(person.keys())\n",
    "\n",
    "for k in person.keys():\n",
    "    print(k)"
   ]
  },
  {
   "cell_type": "markdown",
   "metadata": {},
   "source": [
    "### .values()\n",
    "딕셔너리 값을 모은 객체를 반"
   ]
  },
  {
   "cell_type": "code",
   "execution_count": 63,
   "metadata": {},
   "outputs": [
    {
     "name": "stdout",
     "output_type": "stream",
     "text": [
      "dict_values(['Alice', 25])\n",
      "Alice\n",
      "25\n"
     ]
    }
   ],
   "source": [
    "person = {'name' : 'Alice', 'age' : 25}\n",
    "print(person.values())\n",
    "\n",
    "for v in person.values():\n",
    "    print(v)"
   ]
  },
  {
   "cell_type": "markdown",
   "metadata": {},
   "source": [
    "### .items()\n",
    "딕셔너리 키/값 쌍을 모은 객체를 반환"
   ]
  },
  {
   "cell_type": "code",
   "execution_count": 64,
   "metadata": {},
   "outputs": [
    {
     "name": "stdout",
     "output_type": "stream",
     "text": [
      "dict_items([('name', 'Alice'), ('age', 25)])\n",
      "name Alice\n",
      "age 25\n"
     ]
    }
   ],
   "source": [
    "person = {'name' : 'Alice', 'age' : 25}\n",
    "print(person.items())\n",
    "\n",
    "for k, v in person.items():\n",
    "    print(k, v)"
   ]
  },
  {
   "cell_type": "code",
   "execution_count": 65,
   "metadata": {},
   "outputs": [
    {
     "name": "stdout",
     "output_type": "stream",
     "text": [
      "A\n",
      "B\n",
      "O\n",
      "AB\n",
      "4\n",
      "2\n",
      "2\n",
      "2\n",
      "A : 4\n",
      "B : 2\n",
      "O : 2\n",
      "AB : 2\n"
     ]
    }
   ],
   "source": [
    "blood_types = {'A':4, 'B': 2, 'O': 2, 'AB': 2}\n",
    "\n",
    "# 키를 순회\n",
    "for key in blood_types.keys():\n",
    "    print(key)\n",
    "    \n",
    "# 값 순회\n",
    "for value in blood_types.values():\n",
    "    print(value)\n",
    "    \n",
    "# 키와 값을 같이 순회\n",
    "for key, value in blood_types.items():\n",
    "    print(key, ':', value)"
   ]
  },
  {
   "cell_type": "markdown",
   "metadata": {},
   "source": [
    "### .pop(key[,default])\n",
    "키를 제거하고 연결됐던 값을 반환 (없으면 에러나 default를 반환)\n",
    "- 값이 없는 경우 원하는 값으로 출력 가능"
   ]
  },
  {
   "cell_type": "code",
   "execution_count": 66,
   "metadata": {},
   "outputs": [
    {
     "name": "stdout",
     "output_type": "stream",
     "text": [
      "25\n",
      "{'name': 'Alice'}\n",
      "None\n"
     ]
    },
    {
     "ename": "KeyError",
     "evalue": "'country'",
     "output_type": "error",
     "traceback": [
      "\u001b[1;31m---------------------------------------------------------------------------\u001b[0m",
      "\u001b[1;31mKeyError\u001b[0m                                  Traceback (most recent call last)",
      "Cell \u001b[1;32mIn[66], line 6\u001b[0m\n\u001b[0;32m      4\u001b[0m \u001b[39mprint\u001b[39m(person)\n\u001b[0;32m      5\u001b[0m \u001b[39mprint\u001b[39m(person\u001b[39m.\u001b[39mpop(\u001b[39m'\u001b[39m\u001b[39mcountry\u001b[39m\u001b[39m'\u001b[39m, \u001b[39mNone\u001b[39;00m))\n\u001b[1;32m----> 6\u001b[0m \u001b[39mprint\u001b[39m(person\u001b[39m.\u001b[39;49mpop(\u001b[39m'\u001b[39;49m\u001b[39mcountry\u001b[39;49m\u001b[39m'\u001b[39;49m))\n",
      "\u001b[1;31mKeyError\u001b[0m: 'country'"
     ]
    }
   ],
   "source": [
    "person = {'name' : 'Alice', 'age' : 25}\n",
    "\n",
    "print(person.pop('age'))\n",
    "print(person)\n",
    "print(person.pop('country', None))\n",
    "print(person.pop('country'))"
   ]
  },
  {
   "cell_type": "markdown",
   "metadata": {},
   "source": [
    "### setdefault(key[,default])\n",
    "키와 연결된 값을 반환  \n",
    "**키가 없다면** default와 연결한 키를 딕셔너리에 추가하고 default를 반환"
   ]
  },
  {
   "cell_type": "code",
   "execution_count": 68,
   "metadata": {},
   "outputs": [
    {
     "name": "stdout",
     "output_type": "stream",
     "text": [
      "KOREA\n",
      "25\n",
      "{'name': 'Alice', 'age': 25, 'country': 'KOREA'}\n"
     ]
    }
   ],
   "source": [
    "person = {'name' : 'Alice', 'age' : 25}\n",
    "\n",
    "print(person.setdefault('country', 'KOREA'))\n",
    "# 키가 없다면 값이 변경되는 것이므로 키가 존재하면 그냥 연결된 값을 반환\n",
    "print(person.setdefault('age', '50')) \n",
    "print(person)"
   ]
  },
  {
   "cell_type": "markdown",
   "metadata": {},
   "source": [
    "### .update([ohter])\n",
    "other가 제공하는 키/값 쌍으로 딕셔너리를 갱신  \n",
    "기존 키는 덮어씀\n",
    "- 키가 중복된다면 마지막의 값으로 갱신된다."
   ]
  },
  {
   "cell_type": "code",
   "execution_count": 70,
   "metadata": {},
   "outputs": [
    {
     "name": "stdout",
     "output_type": "stream",
     "text": [
      "{'name': 'Jane', 'age': 25, 'gender': 'Female'}\n",
      "{'name': 'Jane', 'age': 50, 'gender': 'Female'}\n",
      "{'name': 'Jane', 'age': 50, 'gender': 'Female', 'country': 'KOREA'}\n"
     ]
    }
   ],
   "source": [
    "person = {'name' : 'Alice', 'age' : 25}\n",
    "other_person = {'name' : 'Jane', 'gender':'Female'}\n",
    "\n",
    "# 여러개 동시에 넣을 수 있음\n",
    "person.update(other_person)\n",
    "print(person)\n",
    "\n",
    "person.update(age = 50)\n",
    "print(person)\n",
    "\n",
    "person.update(country = 'KOREA')\n",
    "print(person)"
   ]
  },
  {
   "cell_type": "code",
   "execution_count": 71,
   "metadata": {},
   "outputs": [],
   "source": [
    "# 혈액형 인원 수 세기\n",
    "# 결과 => {'A':3, 'B':3, 'O': 3, 'AB': 3}\n",
    "blood_types = ['A', 'B', 'A', 'O', 'AB', 'AB', 'O', 'A', 'B', 'O', 'B', 'AB']"
   ]
  },
  {
   "cell_type": "code",
   "execution_count": 72,
   "metadata": {},
   "outputs": [
    {
     "name": "stdout",
     "output_type": "stream",
     "text": [
      "{'A': 3, 'B': 3, 'O': 3, 'AB': 3}\n"
     ]
    }
   ],
   "source": [
    "# []\n",
    "new_dict = {}\n",
    "# boold_types을 순회하면서\n",
    "for blood_type in blood_types:\n",
    "    # 기존에 키가 이미 존재한다면,\n",
    "    if blood_type in new_dict:\n",
    "        # 기존에 키의 값을 +1 증가\n",
    "        new_dict[blood_type] += 1\n",
    "    # 키가 존재하지 않는다면 (처음 설정되는 키)\n",
    "    else:\n",
    "        new_dict[blood_type] = 1\n",
    "print(new_dict)"
   ]
  },
  {
   "cell_type": "code",
   "execution_count": 73,
   "metadata": {},
   "outputs": [
    {
     "name": "stdout",
     "output_type": "stream",
     "text": [
      "{'A': 3, 'B': 3, 'O': 3, 'AB': 3}\n"
     ]
    }
   ],
   "source": [
    "# .get()\n",
    "new_dict = {}\n",
    "# boold_types을 순회하면서\n",
    "for blood_type in blood_types:\n",
    "    # 기존의 값이 있는 경우 get이 작동하지 않기 때문에 추후에 1을 더해주어야 함\n",
    "    new_dict[blood_type] = new_dict.get(blood_type, 0) + 1\n",
    "print(new_dict)"
   ]
  },
  {
   "cell_type": "code",
   "execution_count": 74,
   "metadata": {},
   "outputs": [
    {
     "name": "stdout",
     "output_type": "stream",
     "text": [
      "{'A': 3, 'B': 3, 'O': 3, 'AB': 3}\n"
     ]
    }
   ],
   "source": [
    "# .setdefault()\n",
    "new_dict = {}\n",
    "# boold_types을 순회하면서\n",
    "for blood_type in blood_types:\n",
    "    new_dict.setdefault(blood_type, 0)\n",
    "    new_dict[blood_type] += 1\n",
    "print(new_dict)"
   ]
  },
  {
   "cell_type": "code",
   "execution_count": 75,
   "metadata": {},
   "outputs": [
    {
     "name": "stdout",
     "output_type": "stream",
     "text": [
      "{'A': 3, 'B': 3, 'O': 3, 'AB': 3}\n"
     ]
    }
   ],
   "source": [
    "# 딕셔너리 타입으로 해당되는 혈액혁에 몇명이 있는지를 카운트해라\n",
    "bloods = ['A', 'B', 'A', 'O', 'AB', 'AB', 'O', 'A', 'B', 'O', 'B', 'AB']\n",
    "counter  = dict() # 혈액형 : 몇명\n",
    "\n",
    "for blood in bloods:\n",
    "    if not counter.get(blood):\n",
    "        counter[blood] = 0\n",
    "    counter[blood] += 1\n",
    "print(counter)"
   ]
  },
  {
   "cell_type": "code",
   "execution_count": 76,
   "metadata": {},
   "outputs": [
    {
     "name": "stdout",
     "output_type": "stream",
     "text": [
      "{'A': 3, 'B': 3, 'O': 3, 'AB': 3}\n"
     ]
    }
   ],
   "source": [
    "# .setdefault()\n",
    "bloods = ['A', 'B', 'A', 'O', 'AB', 'AB', 'O', 'A', 'B', 'O', 'B', 'AB']\n",
    "counter  = dict() # 혈액형 : 몇명\n",
    "\n",
    "for blood in bloods:\n",
    "    counter.setdefault(blood, 0)\n",
    "    counter[blood] += 1\n",
    "print(counter)"
   ]
  },
  {
   "cell_type": "code",
   "execution_count": 77,
   "metadata": {},
   "outputs": [
    {
     "name": "stdout",
     "output_type": "stream",
     "text": [
      "defaultdict(<class 'int'>, {'A': 3, 'B': 3, 'O': 3, 'AB': 3})\n",
      "{'A': 3, 'B': 3, 'O': 3, 'AB': 3}\n"
     ]
    }
   ],
   "source": [
    "# collections.defaultdict\n",
    "from collections import defaultdict\n",
    "\n",
    "counter = defaultdict(int) # lambda: 0\n",
    "\n",
    "for blood in bloods:\n",
    "    counter[blood] += 1\n",
    "print(counter)\n",
    "print(dict(counter)) # 깔끔하게 보려면"
   ]
  },
  {
   "cell_type": "code",
   "execution_count": 78,
   "metadata": {},
   "outputs": [
    {
     "name": "stdout",
     "output_type": "stream",
     "text": [
      "Counter({'A': 3, 'B': 3, 'O': 3, 'AB': 3})\n",
      "{'A': 3, 'B': 3, 'O': 3, 'AB': 3}\n"
     ]
    }
   ],
   "source": [
    "# 카운터(Counter) 클래스\n",
    "from collections import Counter\n",
    "counter = Counter(bloods)\n",
    "print(counter)\n",
    "print(dict(counter)) # 깔끔하게 보려면"
   ]
  },
  {
   "cell_type": "markdown",
   "metadata": {},
   "source": [
    "# 복사\n",
    "## 데이터 타입과 복사\n",
    "- 파이썬에서는 데이터의 분류에 따라 복사다 달라짐\n",
    "- '변경 가능한 데이터 타입'과 '변경 불가능한 데이터 타입'을 다르게 다룸\n",
    "\n",
    "불변에서는 b = a 해도 b값의 변경이 영향을 미치지 않음\n",
    "\n",
    "### 변경 가능한 데이터 타입의 복사"
   ]
  },
  {
   "attachments": {
    "image-5.png": {
     "image/png": "[encoded data removed]"
    }
   },
   "cell_type": "markdown",
   "metadata": {},
   "source": [
    "![image-5.png](attachment:image-5.png)"
   ]
  },
  {
   "cell_type": "code",
   "execution_count": 79,
   "metadata": {},
   "outputs": [
    {
     "name": "stdout",
     "output_type": "stream",
     "text": [
      "[100, 2, 3, 4]\n",
      "[100, 2, 3, 4]\n"
     ]
    }
   ],
   "source": [
    "a = [1, 2, 3, 4]\n",
    "b = a\n",
    "b[0] = 100\n",
    "\n",
    "print(a)\n",
    "print(b)"
   ]
  },
  {
   "cell_type": "markdown",
   "metadata": {},
   "source": [
    "### 변경 불가능한 데이터 타입의 복사"
   ]
  },
  {
   "attachments": {
    "image-6.png": {
     "image/png": "[encoded data removed]"
    }
   },
   "cell_type": "markdown",
   "metadata": {},
   "source": [
    "![image-6.png](attachment:image-6.png)"
   ]
  },
  {
   "cell_type": "code",
   "execution_count": 80,
   "metadata": {},
   "outputs": [
    {
     "name": "stdout",
     "output_type": "stream",
     "text": [
      "20\n",
      "10\n"
     ]
    }
   ],
   "source": [
    "a = 20\n",
    "b = a\n",
    "b = 10\n",
    "\n",
    "print(a)\n",
    "print(b)"
   ]
  },
  {
   "cell_type": "markdown",
   "metadata": {},
   "source": [
    "## 복사 유형\n",
    "### 1. 할당 (Assignment)\n",
    "할당 연산자(=)를 통한 복사는 해당 객체에 대한  **객체 참조를 복사**\n",
    "주소를 복사한 것이므로 한몸이다!"
   ]
  },
  {
   "cell_type": "code",
   "execution_count": 82,
   "metadata": {},
   "outputs": [],
   "source": [
    "original_list = [1, 2, 3]\n",
    "copy_list = original_list\n",
    "copy_list[0] = 'hi'"
   ]
  },
  {
   "attachments": {
    "image-7.png": {
     "image/png": "[encoded data removed]"
    }
   },
   "cell_type": "markdown",
   "metadata": {},
   "source": [
    "![image-7.png](attachment:image-7.png)"
   ]
  },
  {
   "attachments": {
    "image-8.png": {
     "image/png": "[encoded data removed]"
    }
   },
   "cell_type": "markdown",
   "metadata": {},
   "source": [
    "### 2. 얕은 복사 (Shallow copy)\n",
    "슬라이싱을 통해 생성된 객체는 원본 객체와 독립적으로 존재  \n",
    "내장함수 copy로도 가능하다!\n",
    "\n",
    "![image-8.png](attachment:image-8.png)"
   ]
  },
  {
   "cell_type": "code",
   "execution_count": 83,
   "metadata": {},
   "outputs": [
    {
     "name": "stdout",
     "output_type": "stream",
     "text": [
      "[1, 2, 3] [100, 2, 3]\n"
     ]
    }
   ],
   "source": [
    "a = [1, 2, 3]\n",
    "# 슬라이싱\n",
    "b = a[:]\n",
    "b[0] = 100\n",
    "print(a, b)"
   ]
  },
  {
   "cell_type": "code",
   "execution_count": 84,
   "metadata": {},
   "outputs": [
    {
     "name": "stdout",
     "output_type": "stream",
     "text": [
      "[1, 2, 3] [100, 2, 3]\n"
     ]
    }
   ],
   "source": [
    "# copy\n",
    "c = a.copy()\n",
    "c[0] = 100\n",
    "print(a, c)"
   ]
  },
  {
   "attachments": {
    "image-3.png": {
     "image/png": "[encoded data removed]"
    }
   },
   "cell_type": "markdown",
   "metadata": {},
   "source": [
    "- 2차원 리스트와 같이 변경가능한 객체 안에 변경 가능한 객체가 있는 경우\n",
    "\n",
    "![image-3.png](attachment:image-3.png)"
   ]
  },
  {
   "cell_type": "code",
   "execution_count": 85,
   "metadata": {},
   "outputs": [
    {
     "name": "stdout",
     "output_type": "stream",
     "text": [
      "[1, 2, [999, 2]] [1, 2, [999, 2]]\n",
      "[1, 2, [999, 2]] [1, 2, [999, 2]]\n"
     ]
    }
   ],
   "source": [
    "# 얕은 복사의 한게\n",
    "a = [1, 2, [1, 2]]\n",
    "\n",
    "b = a[:]\n",
    "b[2][0] = 999\n",
    "print(a, b) # a도 변경된 것을 확인\n",
    "\n",
    "c = a.copy()\n",
    "c[2][0] = 999\n",
    "print(a, c)"
   ]
  },
  {
   "attachments": {
    "image-4.png": {
     "image/png": "[encoded data removed]"
    }
   },
   "cell_type": "markdown",
   "metadata": {},
   "source": [
    "### 3. 깊은 복사 (Deep copy)\n",
    "내부에 중첩된 모든 객체까지 새로운 객체 주소를 참조하도록 함\n",
    "\n",
    "![image-4.png](attachment:image-4.png)"
   ]
  },
  {
   "cell_type": "code",
   "execution_count": 86,
   "metadata": {},
   "outputs": [
    {
     "name": "stdout",
     "output_type": "stream",
     "text": [
      "[1, 2, [1, 2]]\n",
      "[1, 2, [100, 2]]\n"
     ]
    }
   ],
   "source": [
    "import copy\n",
    "original_list = [1, 2, [1, 2]]\n",
    "deep_copied_list = copy.deepcopy(original_list)\n",
    "\n",
    "deep_copied_list[2][0] = 100\n",
    "\n",
    "print(original_list)\n",
    "print(deep_copied_list)"
   ]
  },
  {
   "cell_type": "code",
   "execution_count": null,
   "metadata": {},
   "outputs": [],
   "source": [
    "# deepcopy는 무거워서 비추!\n",
    "# 일차원 배열 (일반적인 경우)\n",
    "# 블변형 요소\n",
    "arr = [1, 2, 3, 4, 5]\n",
    "arr_copy = arr[:]\n",
    "\n",
    "# 가변형 요소를 가지고 있는 경우\n",
    "arr = [1, 2, 3, 4, [5, 6]]\n",
    "arr_copy = arr[:]\n",
    "arr_copy[5] = arr[5][:] # 별도로 가변요소에 대한 처리 진행\n",
    "\n",
    "# 재귀 함수를 정의해서 구현\n",
    "def deep_copy(obj):\n",
    "    # 복사과정을 진행\n",
    "    # 타입별로 구분헤서 진행\n",
    "    # 불변형인 경우 추가적인 복사 과정 X\n",
    "    if isinstance(obj, str) or isinstance(obj, int): # 가변형 1\n",
    "        return obj\n",
    "    elif isinstance(obj, list): # 가변형 2\n",
    "        # 복사하는 과정, 슬라이스 연산\n",
    "        # 안쪽의 요소는 참조 형태로 넘어간다\n",
    "        # 슬라이스 X -> 리스트 컴프리헨션(재귀)\n",
    "        # return obj[:]\n",
    "        # item도 가변형 일 수 있기 때문에, deep_copy 함수로 재귀\n",
    "        return [item for item in obj]\n",
    "    elif isinstance(obj, dict):\n",
    "        copy_dict = dict()\n",
    "        for ke in obj:\n",
    "            copy_dict[key] = deep_copy(obj[key])\n",
    "        #return copy_dict\n",
    "        # 딕셔너리 컨프리헨션\n",
    "        return {key:deep_copy(value) for key, value in obj.items()}\n",
    "    elif isinstance(obj, tuple): # 튜플의 경우에는 안에 가변형 요소가 있을 수 있음\n",
    "        pass\n",
    "    else:\n",
    "        # 복사가 진행된 객체\n",
    "        return copy_obj\n",
    "\n",
    "# 사용(깊은 복사)\n",
    "origin_list = [1, 2, 3, 4, [4, 5, [6, 7]]]\n",
    "copy_list = deep_copy(origin_list)"
   ]
  },
  {
   "cell_type": "code",
   "execution_count": null,
   "metadata": {},
   "outputs": [],
   "source": [
    "# 이차원 리스트을 복사할 때\n",
    "arr = [[1, 2, 3],[4,5,6],[7,8,9]]\n",
    "\n",
    "# for문을 사용 + 슬라이스 복사\n",
    "arr2 = []\n",
    "# arr를 순회하면서 \n",
    "# 안쪽의 리스트를 복사하고,\n",
    "for item in arr :\n",
    "    copy_item = item[:]\n",
    "\n",
    "    # arr 추가\n",
    "    arr.append(copy_item)\n",
    "    \n",
    "arr2 = [item[:] for item in arr]"
   ]
  }
 ],
 "metadata": {
  "kernelspec": {
   "display_name": "Python 3",
   "language": "python",
   "name": "python3"
  },
  "language_info": {
   "codemirror_mode": {
    "name": "ipython",
    "version": 3
   },
   "file_extension": ".py",
   "mimetype": "text/x-python",
   "name": "python",
   "nbconvert_exporter": "python",
   "pygments_lexer": "ipython3",
   "version": "3.9.13"
  },
  "orig_nbformat": 4
 },
 "nbformat": 4,
 "nbformat_minor": 2
}
