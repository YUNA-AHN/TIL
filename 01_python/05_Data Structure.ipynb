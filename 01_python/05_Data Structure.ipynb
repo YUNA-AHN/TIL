{
 "cells": [
  {
   "cell_type": "markdown",
   "metadata": {},
   "source": [
    "# Data Struccture\n",
    "# 데이터 구조\n",
    "여러 데이터를 효과적으로 사용, 관리하기 위한 구조(str, list, dict)\n",
    "\n",
    "자료 구조\n",
    "- 컴퓨터 공학에서는 '자료 구조'라고 함\n",
    "- 각 데이터의 효율적인 저장, 관리를 위한 구조를 나눠놓은 것\n",
    "\n",
    "데이터 구조 활용\n",
    "- 문자열, 리스트, 딕셔너리 등 각 데이터 구조의 **메서드**를 호출하여 다양한 기능을 활용하기\n",
    "\n",
    "## 메서드 (method)\n",
    "객체에 속한 함수 (클래스에 속한 함수)\n",
    "- 객체의 상태를 조작하거나 동작을 수행\n",
    "- 지금까지 작성한 함수는 global scope에서 작성\n",
    "\n",
    "메서드 특징\n",
    "- 메서드는 클래스(class) 내부에 정의되는 함수\n",
    "- 클래스는 파이썬에서 '타입을 표현하는 방법'이며 은연중에 사용해왔음\n",
    "- 해당 데이터 타입이 어떻게 행동하고, 어떠한 함수를 가지는지!\n",
    "- ex) help(str)호출해보면 class였다는 것을 확인 가능"
   ]
  },
  {
   "cell_type": "code",
   "execution_count": 3,
   "metadata": {},
   "outputs": [
    {
     "name": "stdout",
     "output_type": "stream",
     "text": [
      "Help on class list in module builtins:\n",
      "\n",
      "class list(object)\n",
      " |  list(iterable=(), /)\n",
      " |  \n",
      " |  Built-in mutable sequence.\n",
      " |  \n",
      " |  If no argument is given, the constructor creates a new empty list.\n",
      " |  The argument must be an iterable if specified.\n",
      " |  \n",
      " |  Methods defined here:\n",
      " |  \n",
      " |  __add__(self, value, /)\n",
      " |      Return self+value.\n",
      " |  \n",
      " |  __contains__(self, key, /)\n",
      " |      Return key in self.\n",
      " |  \n",
      " |  __delitem__(self, key, /)\n",
      " |      Delete self[key].\n",
      " |  \n",
      " |  __eq__(self, value, /)\n",
      " |      Return self==value.\n",
      " |  \n",
      " |  __ge__(self, value, /)\n",
      " |      Return self>=value.\n",
      " |  \n",
      " |  __getattribute__(self, name, /)\n",
      " |      Return getattr(self, name).\n",
      " |  \n",
      " |  __getitem__(...)\n",
      " |      x.__getitem__(y) <==> x[y]\n",
      " |  \n",
      " |  __gt__(self, value, /)\n",
      " |      Return self>value.\n",
      " |  \n",
      " |  __iadd__(self, value, /)\n",
      " |      Implement self+=value.\n",
      " |  \n",
      " |  __imul__(self, value, /)\n",
      " |      Implement self*=value.\n",
      " |  \n",
      " |  __init__(self, /, *args, **kwargs)\n",
      " |      Initialize self.  See help(type(self)) for accurate signature.\n",
      " |  \n",
      " |  __iter__(self, /)\n",
      " |      Implement iter(self).\n",
      " |  \n",
      " |  __le__(self, value, /)\n",
      " |      Return self<=value.\n",
      " |  \n",
      " |  __len__(self, /)\n",
      " |      Return len(self).\n",
      " |  \n",
      " |  __lt__(self, value, /)\n",
      " |      Return self<value.\n",
      " |  \n",
      " |  __mul__(self, value, /)\n",
      " |      Return self*value.\n",
      " |  \n",
      " |  __ne__(self, value, /)\n",
      " |      Return self!=value.\n",
      " |  \n",
      " |  __repr__(self, /)\n",
      " |      Return repr(self).\n",
      " |  \n",
      " |  __reversed__(self, /)\n",
      " |      Return a reverse iterator over the list.\n",
      " |  \n",
      " |  __rmul__(self, value, /)\n",
      " |      Return value*self.\n",
      " |  \n",
      " |  __setitem__(self, key, value, /)\n",
      " |      Set self[key] to value.\n",
      " |  \n",
      " |  __sizeof__(self, /)\n",
      " |      Return the size of the list in memory, in bytes.\n",
      " |  \n",
      " |  append(self, object, /)\n",
      " |      Append object to the end of the list.\n",
      " |  \n",
      " |  clear(self, /)\n",
      " |      Remove all items from list.\n",
      " |  \n",
      " |  copy(self, /)\n",
      " |      Return a shallow copy of the list.\n",
      " |  \n",
      " |  count(self, value, /)\n",
      " |      Return number of occurrences of value.\n",
      " |  \n",
      " |  extend(self, iterable, /)\n",
      " |      Extend list by appending elements from the iterable.\n",
      " |  \n",
      " |  index(self, value, start=0, stop=9223372036854775807, /)\n",
      " |      Return first index of value.\n",
      " |      \n",
      " |      Raises ValueError if the value is not present.\n",
      " |  \n",
      " |  insert(self, index, object, /)\n",
      " |      Insert object before index.\n",
      " |  \n",
      " |  pop(self, index=-1, /)\n",
      " |      Remove and return item at index (default last).\n",
      " |      \n",
      " |      Raises IndexError if list is empty or index is out of range.\n",
      " |  \n",
      " |  remove(self, value, /)\n",
      " |      Remove first occurrence of value.\n",
      " |      \n",
      " |      Raises ValueError if the value is not present.\n",
      " |  \n",
      " |  reverse(self, /)\n",
      " |      Reverse *IN PLACE*.\n",
      " |  \n",
      " |  sort(self, /, *, key=None, reverse=False)\n",
      " |      Sort the list in ascending order and return None.\n",
      " |      \n",
      " |      The sort is in-place (i.e. the list itself is modified) and stable (i.e. the\n",
      " |      order of two equal elements is maintained).\n",
      " |      \n",
      " |      If a key function is given, apply it once to each list item and sort them,\n",
      " |      ascending or descending, according to their function values.\n",
      " |      \n",
      " |      The reverse flag can be set to sort in descending order.\n",
      " |  \n",
      " |  ----------------------------------------------------------------------\n",
      " |  Class methods defined here:\n",
      " |  \n",
      " |  __class_getitem__(...) from builtins.type\n",
      " |      See PEP 585\n",
      " |  \n",
      " |  ----------------------------------------------------------------------\n",
      " |  Static methods defined here:\n",
      " |  \n",
      " |  __new__(*args, **kwargs) from builtins.type\n",
      " |      Create and return a new object.  See help(type) for accurate signature.\n",
      " |  \n",
      " |  ----------------------------------------------------------------------\n",
      " |  Data and other attributes defined here:\n",
      " |  \n",
      " |  __hash__ = None\n",
      "\n",
      "None\n"
     ]
    }
   ],
   "source": [
    "print(help(list)) # Built-in mutable sequence : 변경 가능한 순서가 있는 내장 함수\n",
    "# Methods defined here : 메서드 정의 되어있음\n",
    "# __[]__ : 매직 메서드\n",
    "# append, pop 등 리스트 사용할 때 다양하게 사용한 함수 확인 가능 "
   ]
  },
  {
   "cell_type": "markdown",
   "metadata": {},
   "source": [
    "**메서드는 클래스에 속해 있는 함수이며, 각 데이터 타입별로 다양한 기능을 가진 메서드가 존재**\n",
    "\n",
    "메서드 호출 방법\n",
    "> 데이터 타입 객체.메서드()"
   ]
  },
  {
   "cell_type": "code",
   "execution_count": null,
   "metadata": {},
   "outputs": [],
   "source": [
    "# 문자열 메서드 예시\n",
    "'hello'.capitalize() # Hello\n",
    "\n",
    "# 리스트 메서드 예시\n",
    "numbers = [1, 2, 3]\n",
    "numbers.append(4)\n",
    "\n",
    "print(numbers) # [1, 2, 3, 4]"
   ]
  },
  {
   "cell_type": "markdown",
   "metadata": {},
   "source": [
    "## 문자열\n",
    "문자열 조회/탐색 및 검증 메서드\n",
    "```\n",
    "s.find(x)   x의 첫 번째 위치를 반환. 없으면, -1을 반환  \n",
    "s.index(x)  x의 첫 번째 위치를 반환. 없으면, 오류 발생\n",
    "s.isalpha() 알파벳 문자 여부 (유니코드상  Letter)\n",
    "s.isupper() 대문자 여부\n",
    "s.islower() 소문자 여부\n",
    "s.istitle() 타이틀 형식 여부\n",
    "```"
   ]
  },
  {
   "cell_type": "markdown",
   "metadata": {},
   "source": [
    "### .find(x)\n",
    "x 의 첫 번째 위치를 반환. 없으면, -1을 반환"
   ]
  },
  {
   "cell_type": "code",
   "execution_count": null,
   "metadata": {},
   "outputs": [],
   "source": [
    "print('banana'.find('a')) # 1\n",
    "print('banana'.find('z')) # -1"
   ]
  },
  {
   "cell_type": "markdown",
   "metadata": {},
   "source": [
    "### .index(x)\n",
    "x의 첫 번재 위치를 반환. 없으면 오류 발생"
   ]
  },
  {
   "cell_type": "code",
   "execution_count": null,
   "metadata": {},
   "outputs": [],
   "source": [
    "print('banana'.index('a')) # 1\n",
    "print('banana'.index('z')) # ValueError"
   ]
  },
  {
   "cell_type": "markdown",
   "metadata": {},
   "source": [
    "- find 와 index\n",
    "    - 동일한 역할\n",
    "    - find는 조건문을 위해 / index"
   ]
  },
  {
   "cell_type": "code",
   "execution_count": 29,
   "metadata": {},
   "outputs": [
    {
     "name": "stdout",
     "output_type": "stream",
     "text": [
      "a\n"
     ]
    }
   ],
   "source": [
    "arr = list('banana')\n",
    "index = 'banana'.find('z') # -1 \n",
    "# 해당 문자가 존재하지 않지만 -1로 출력되어 해당 인덱스 값 출력\n",
    "print(arr[index])\n",
    "# arr.__getitem_(1000) == arr[index]"
   ]
  },
  {
   "cell_type": "code",
   "execution_count": null,
   "metadata": {},
   "outputs": [],
   "source": [
    "# print(('spam' 'eggs') == \"spam eggs\") <- 이거 뭐임"
   ]
  },
  {
   "cell_type": "code",
   "execution_count": 32,
   "metadata": {},
   "outputs": [
    {
     "name": "stdout",
     "output_type": "stream",
     "text": [
      "False\n"
     ]
    },
    {
     "data": {
      "text/plain": [
       "'h'"
      ]
     },
     "execution_count": 32,
     "metadata": {},
     "output_type": "execute_result"
    }
   ],
   "source": [
    "# 별도의 문자형이 없으므로 문자열을 인덱싱하면 길이가 1인 문자열이 생성\n",
    "# s[0] == s[0:1]\n",
    "\n",
    "a = 'hello'\n",
    "a[0][0][0][0][0][0]\n"
   ]
  },
  {
   "cell_type": "markdown",
   "metadata": {},
   "source": [
    "### .isupper(x) / .islower(x) \n",
    "문자열이 모두 대문자/소문자로 이루어져 있는지 확인"
   ]
  },
  {
   "cell_type": "code",
   "execution_count": null,
   "metadata": {},
   "outputs": [],
   "source": [
    "string1 = 'HELLO'\n",
    "string2 = 'Hello'\n",
    "print(string1.isupper()) # True\n",
    "print(string1.islower()) # False\n",
    "print(string2.isupper()) # False\n",
    "print(string2.islower()) # False"
   ]
  },
  {
   "cell_type": "markdown",
   "metadata": {},
   "source": [
    "### .isalpha(x)\n",
    "문자열이 알파벳으로만 이루어져 있는지 확인"
   ]
  },
  {
   "cell_type": "code",
   "execution_count": null,
   "metadata": {},
   "outputs": [],
   "source": [
    "string1 = 'Hello'\n",
    "string2 = '123'\n",
    "print(string1.isalpha()) # True\n",
    "print(string2.isalpha()) # False"
   ]
  },
  {
   "cell_type": "code",
   "execution_count": 5,
   "metadata": {},
   "outputs": [
    {
     "name": "stdout",
     "output_type": "stream",
     "text": [
      "False\n"
     ]
    }
   ],
   "source": [
    "string3 = 'Hello123'\n",
    "print(string3.isalpha())"
   ]
  },
  {
   "cell_type": "markdown",
   "metadata": {},
   "source": [
    "### .istitle() \n",
    "문자열이 타이틀 형태로 이루어져 있는지 확인\n",
    "- 'Hello World' : 타이틀 형태"
   ]
  },
  {
   "cell_type": "code",
   "execution_count": null,
   "metadata": {},
   "outputs": [],
   "source": [
    "string1 = 'hello world!'\n",
    "string2 = 'Hello World!'\n",
    "\n",
    "print(string1.istitle()) # False\n",
    "print(string2.istitle()) # True"
   ]
  },
  {
   "cell_type": "markdown",
   "metadata": {},
   "source": [
    "## 문자열 조작 메서드 (새 문자열 반환)\n",
    "str일 불변이기 때문에 새 문자열로 반환\n",
    "```\n",
    "s.replace(old, new[,count])     바꿀 대상 글자를 새로운 글자로 바꿔서 반환\n",
    "s.strip(chars)                  공백이나 특정문자를 제거\n",
    "s.split(sep=None, maxsplit=-1)  공백이나 특정 문자를 기준으로 분리\n",
    "'separator'.join(['iterable])   구분자로 iterable을 합침\n",
    "s.capitalize()                  가장 첫 번째 글자를 대문자로 변경\n",
    "s.title()                       문자열 내 띄어쓰기 기준으로 각 단어의 \n",
    "                                첫 글자는 대문자로, 나머지는 소문자로 변환\n",
    "s.upper()                       모두 대문자로 변경\n",
    "s.lower()                       모두 소문자로 변경\n",
    "s.swapcase()                    대 <-> 소문자 서로 변경\n",
    "```"
   ]
  },
  {
   "cell_type": "markdown",
   "metadata": {},
   "source": [
    "### .replace(old, new[,count]) \n",
    "바꿀 대상 글자를 새로운 글자로 바꿔서 반환  \n",
    "[선택인자를 의미, ebnf 표기법]  "
   ]
  },
  {
   "cell_type": "code",
   "execution_count": 7,
   "metadata": {},
   "outputs": [
    {
     "name": "stdout",
     "output_type": "stream",
     "text": [
      "Hello, Python!\n"
     ]
    }
   ],
   "source": [
    "text = 'Hello, world!'\n",
    "new_text = text.replace('world', 'Python')\n",
    "print(new_text)"
   ]
  },
  {
   "cell_type": "markdown",
   "metadata": {},
   "source": [
    "### .strip([chars])\n",
    "문자열의 시작과 끝에 있는 공백 혹은 지정한 문자를 제거"
   ]
  },
  {
   "cell_type": "code",
   "execution_count": 8,
   "metadata": {},
   "outputs": [
    {
     "name": "stdout",
     "output_type": "stream",
     "text": [
      "Hello, world!\n"
     ]
    }
   ],
   "source": [
    "text = '    Hello, world!   '\n",
    "new_text = text.strip()\n",
    "print(new_text)"
   ]
  },
  {
   "cell_type": "markdown",
   "metadata": {},
   "source": [
    "### .split (sep=None, maxsplit=-1)🎈  \n",
    "지정한 문자를 구분자로 문자열을 분리하여 문자열의 리스트로 반환"
   ]
  },
  {
   "cell_type": "code",
   "execution_count": 9,
   "metadata": {},
   "outputs": [
    {
     "name": "stdout",
     "output_type": "stream",
     "text": [
      "['Hello', ' world!']\n"
     ]
    }
   ],
   "source": [
    "text = 'Hello, world!'\n",
    "words = text.split(',')\n",
    "print(words)"
   ]
  },
  {
   "cell_type": "code",
   "execution_count": 36,
   "metadata": {},
   "outputs": [
    {
     "name": "stdout",
     "output_type": "stream",
     "text": [
      "['He', '', 'o, world!']\n"
     ]
    }
   ],
   "source": [
    "text = 'Hello, world!'\n",
    "words = text.split('l', 2) # 분리 최대 개수 : world에서 l에서 나눠지지 않음\n",
    "print(words)"
   ]
  },
  {
   "cell_type": "markdown",
   "metadata": {},
   "source": [
    "### 'separator'.join([iterable])🎈  \n",
    "iterable 요소들을 원래의 문자열을 구분자로 이용하여 하나의 문자열로 연결"
   ]
  },
  {
   "cell_type": "code",
   "execution_count": 11,
   "metadata": {},
   "outputs": [
    {
     "name": "stdout",
     "output_type": "stream",
     "text": [
      "Hello-world\n"
     ]
    }
   ],
   "source": [
    "words = ['Hello', 'world']\n",
    "text = '-'.join(words)\n",
    "print(text)"
   ]
  },
  {
   "cell_type": "code",
   "execution_count": null,
   "metadata": {},
   "outputs": [],
   "source": [
    "# 문자열 조작 메서드\n",
    "text = 'heLLO, woRld!'\n",
    "new_text1 = text.capitalize()\n",
    "new_text2 = text.title()\n",
    "new_text3 = text.upper()\n",
    "new_text4 = text.swapcase()\n",
    "\n",
    "print(new_text1) # Hello, world!\n",
    "print(new_text2) # Hello, World!\n",
    "print(new_text3) # HELLO, WORLD!\n",
    "print(new_text4) # HEllo, WOrLD!"
   ]
  },
  {
   "cell_type": "markdown",
   "metadata": {},
   "source": [
    "메서드는 이어서 사용 가능(chained)"
   ]
  },
  {
   "cell_type": "code",
   "execution_count": 14,
   "metadata": {},
   "outputs": [
    {
     "name": "stdout",
     "output_type": "stream",
     "text": [
      "HEzzo, WOrLD!\n"
     ]
    }
   ],
   "source": [
    "text = 'heLLO, woRld!'\n",
    "new_text = text.swapcase().replace('l','z')\n",
    "print(new_text)"
   ]
  },
  {
   "cell_type": "markdown",
   "metadata": {},
   "source": [
    "## 리스트\n",
    "### 리스트 값 추가 및 삭제 메서드\n",
    "- 원본을 변경\n",
    "```\n",
    "L.appned(x)     리스트 마지막에 항목 x 추가\n",
    "L.exend(x)      Iterable 모든 항목들을 리스트 끝에 추가 (+=과 같음)\n",
    "L.insert(i, x)  리스트 인덱스 i에 항목 x를 삽입\n",
    "L.remove(x)     리스트 가장 왼쪽에 있는 항목(첫 번째) x를 제거 항\n",
    "                목이 존재하지 않는 경우, ValueError\n",
    "L.pop()         리스트 가장 오른쪽에 있는 항목(마지막)을 반환 후 제거\n",
    "L.pop(i)        리스트 인덱스 i에 이는 항목을 반환 후 제거\n",
    "L.clear()       리스트의 모든 항목 삭제\n",
    "```\n",
    "\n",
    "- 반환값 여부\n",
    "    - pop만 반환!\n",
    "- extend 와 append의 차이\n",
    "    - extend는 하나하나, append는 째로 넣음"
   ]
  },
  {
   "cell_type": "markdown",
   "metadata": {},
   "source": [
    "### .extend(iterable)🎈\n",
    "리시트에 다른 반복 가능한 객체의 모든 항목을 추가\n",
    "- **extend 와 append의 차이**"
   ]
  },
  {
   "cell_type": "code",
   "execution_count": 15,
   "metadata": {},
   "outputs": [
    {
     "name": "stdout",
     "output_type": "stream",
     "text": [
      "[1, 2, 3, 4, 5, 6]\n"
     ]
    }
   ],
   "source": [
    "my_list = [1, 2, 3]\n",
    "my_list.extend([4, 5, 6])\n",
    "print(my_list)"
   ]
  },
  {
   "cell_type": "code",
   "execution_count": 39,
   "metadata": {},
   "outputs": [
    {
     "name": "stdout",
     "output_type": "stream",
     "text": [
      "[1, 2, 3, [4, 5, 6]]\n",
      "[1, 2, 3, 4, 5, 6]\n"
     ]
    }
   ],
   "source": [
    "numbers = [1, 2, 3]\n",
    "numbers2 = [4, 5, 6]\n",
    "\n",
    "numbers.append(numbers2)\n",
    "print(numbers)\n",
    "\n",
    "numbers = [1, 2, 3]\n",
    "numbers2 = [4, 5, 6]\n",
    "\n",
    "numbers.extend(numbers2)\n",
    "print(numbers)"
   ]
  },
  {
   "cell_type": "code",
   "execution_count": 40,
   "metadata": {},
   "outputs": [
    {
     "name": "stdout",
     "output_type": "stream",
     "text": [
      "[1, 2, 3, 'hello']\n",
      "[1, 2, 3, 'h', 'e', 'l', 'l', 'o']\n"
     ]
    }
   ],
   "source": [
    "my_list = [1, 2, 3]\n",
    "my_list.append('hello')\n",
    "print(my_list)\n",
    "\n",
    "my_list = [1, 2, 3]\n",
    "my_list.extend('hello')\n",
    "print(my_list)"
   ]
  },
  {
   "cell_type": "markdown",
   "metadata": {},
   "source": [
    "### .insert(i, x)\n",
    "리스트의 지정한 인덱스 i 위치에 항목 x를 삽입"
   ]
  },
  {
   "cell_type": "code",
   "execution_count": 18,
   "metadata": {},
   "outputs": [
    {
     "name": "stdout",
     "output_type": "stream",
     "text": [
      "[1, 5, 2, 3]\n"
     ]
    }
   ],
   "source": [
    "my_list = [1, 2, 3]\n",
    "my_list.insert(1, 5) # 인덱스 1번에 5 삽입\n",
    "print(my_list)"
   ]
  },
  {
   "cell_type": "markdown",
   "metadata": {},
   "source": [
    "### .remove(x)\n",
    "리스트에서 **첫 번째**로 일치하는 항목을 삭제"
   ]
  },
  {
   "cell_type": "code",
   "execution_count": 19,
   "metadata": {},
   "outputs": [
    {
     "name": "stdout",
     "output_type": "stream",
     "text": [
      "[1, 3]\n"
     ]
    }
   ],
   "source": [
    "my_list = [1, 2, 3]\n",
    "my_list.remove(2)\n",
    "print(my_list)"
   ]
  },
  {
   "cell_type": "code",
   "execution_count": null,
   "metadata": {},
   "outputs": [],
   "source": [
    "# 2번째 2 삭제\n",
    "my_list = [1, 2, 3, 4, 5, 2, 5]\n",
    "cnt = 0\n",
    "for index, value in enumerate(my_list):\n",
    "    if index == 2:\n",
    "        cnt += 1\n",
    "        if cnt ==2:\n",
    "            my_list.pop(index)\n",
    "my_list.remove(2)\n",
    "print(my_list)"
   ]
  },
  {
   "cell_type": "code",
   "execution_count": 46,
   "metadata": {},
   "outputs": [
    {
     "name": "stdout",
     "output_type": "stream",
     "text": [
      "[1, 2, 3, 4, 5, 5]\n"
     ]
    }
   ],
   "source": [
    "# 2 모두 삭제 ver1\n",
    "l = [1,2,3,4,5,2,5]\n",
    "for i in range(-1,-len(l)-1, -1):\n",
    "    if l[i]==2:\n",
    "        l.pop(i)\n",
    "        break\n",
    "print(l)"
   ]
  },
  {
   "cell_type": "code",
   "execution_count": null,
   "metadata": {},
   "outputs": [],
   "source": [
    "# 2 모두 삭제 ver2\n",
    "l = [1,2,2,2,4,3,5,2,5]\n",
    "\n",
    "while(2 in l):\n",
    "    l.remove(2)\n",
    "\n",
    "print(l)"
   ]
  },
  {
   "cell_type": "markdown",
   "metadata": {},
   "source": [
    "### .pop(i) 🎈\n",
    "리스트에서 지정한 인덱스의 항목을 제거하고 **반환**  \n",
    "작성하지 않을 경우 마지막 항목을 제거"
   ]
  },
  {
   "cell_type": "code",
   "execution_count": null,
   "metadata": {},
   "outputs": [],
   "source": [
    "my_list = [1, 2, 3, 4, 5]\n",
    "item1 = my_list.pop() # default = -1 / 가장 뒤에 있는 5\n",
    "item2 = my_list.pop(0) # 가장 앞에 있는 1\n",
    "\n",
    "print(item1) # 5\n",
    "print(item2) # 1\n",
    "print(my_list) #[2, 3, 4]"
   ]
  },
  {
   "cell_type": "code",
   "execution_count": null,
   "metadata": {},
   "outputs": [],
   "source": [
    "del my_list[2] # 웬만하면 삭제하지 않도록! 오류 발생 가능"
   ]
  },
  {
   "cell_type": "markdown",
   "metadata": {},
   "source": [
    "### .clear()\n",
    "리스트의 모든 항목을 삭제"
   ]
  },
  {
   "cell_type": "code",
   "execution_count": 22,
   "metadata": {},
   "outputs": [
    {
     "name": "stdout",
     "output_type": "stream",
     "text": [
      "[]\n"
     ]
    }
   ],
   "source": [
    "my_list = [1, 2, 3]\n",
    "my_list.clear()\n",
    "print(my_list)"
   ]
  },
  {
   "cell_type": "markdown",
   "metadata": {},
   "source": [
    "### 리스트 탐색 및 정렬 메서드\n",
    "```\n",
    "L.index(x, start, end)  리스트에 있는 항목 중 가장 왼쪽에 있는 항목 x의 인덱스를 반환\n",
    "L.reverse()             리스트를 거꾸로 정렬\n",
    "L.sort()                리스트를 정렬(매개변수 이용가능)\n",
    "L.count(x)              리스트에서 항목 x의 개수를 반환\n",
    "```"
   ]
  },
  {
   "cell_type": "markdown",
   "metadata": {},
   "source": [
    "### .index(x)\n",
    "리스트에서 첫 번째로 일치하는 항목의 **인덱스**를 반환\n",
    "- 값을 입력해서 해당하는 인덱스 반환 !!"
   ]
  },
  {
   "cell_type": "code",
   "execution_count": 23,
   "metadata": {},
   "outputs": [
    {
     "name": "stdout",
     "output_type": "stream",
     "text": [
      "1\n"
     ]
    }
   ],
   "source": [
    "my_list = [1, 2, 3]\n",
    "index = my_list.index(2)\n",
    "print(index)"
   ]
  },
  {
   "cell_type": "markdown",
   "metadata": {},
   "source": [
    "### .count(x)\n",
    "리스트에서 항목 x가 등장하는 횟수를 반환"
   ]
  },
  {
   "cell_type": "code",
   "execution_count": 24,
   "metadata": {},
   "outputs": [
    {
     "name": "stdout",
     "output_type": "stream",
     "text": [
      "3\n"
     ]
    }
   ],
   "source": [
    "my_list = [1, 2, 2, 3, 3, 3]\n",
    "count = my_list.count(3)\n",
    "print(count)"
   ]
  },
  {
   "cell_type": "code",
   "execution_count": 47,
   "metadata": {},
   "outputs": [
    {
     "name": "stdout",
     "output_type": "stream",
     "text": [
      "1\n"
     ]
    }
   ],
   "source": [
    "# 먼가 먼가 월말평가? ⭐⭐⭐⭐⭐\n",
    "## 함수 안에 print안에 넣지 마라!\n",
    "def my_count(iter, target):\n",
    "    '''_summary_\n",
    "    \n",
    "    Args:\n",
    "        iter (iterable object) : 순환 가능한 객체\n",
    "        target object) : 내가 카운트하려는 요소 값\n",
    "    '''\n",
    "    count = 0 # LEGB Local 영역\n",
    "    for item in iter:\n",
    "        if item == target:\n",
    "            count += 1\n",
    "    return count\n",
    "\n",
    "# LEGB global 영역\n",
    "count = my_count(my_list, 3)\n",
    "print(count)"
   ]
  },
  {
   "cell_type": "markdown",
   "metadata": {},
   "source": [
    "### .sort() : 문제 풀이의 핵심! 🎈\n",
    "원본 리스트를 오름차순으로 정렬"
   ]
  },
  {
   "cell_type": "code",
   "execution_count": null,
   "metadata": {},
   "outputs": [],
   "source": [
    "my_list = [3, 2, 1]\n",
    "my_list.sort() # 기본인자 reverse = False\n",
    "print(my_list) # [1, 2, 3]\n",
    "\n",
    "# 내림차순\n",
    "my_list.sort(reverse = True)\n",
    "print(my_list) # [3, 2, 1]"
   ]
  },
  {
   "cell_type": "markdown",
   "metadata": {},
   "source": [
    "### sort(메서드)와 sorted(내장함수)"
   ]
  },
  {
   "cell_type": "code",
   "execution_count": 27,
   "metadata": {},
   "outputs": [
    {
     "name": "stdout",
     "output_type": "stream",
     "text": [
      "None\n",
      "[1, 2, 3]\n",
      "[3, 2, 1]\n"
     ]
    }
   ],
   "source": [
    "# sort : 반환이 없음, 원본이 변경\n",
    "print(numbers.sort()) # None\n",
    "\n",
    "numbers = [3, 2, 1]\n",
    "# sorted 함수 : 반환이 있음, 원본이 변경되지 않음\n",
    "print(sorted(numbers))\n",
    "print(numbers)"
   ]
  },
  {
   "cell_type": "code",
   "execution_count": 50,
   "metadata": {},
   "outputs": [
    {
     "ename": "AttributeError",
     "evalue": "'tuple' object has no attribute 'sort'",
     "output_type": "error",
     "traceback": [
      "\u001b[1;31m---------------------------------------------------------------------------\u001b[0m",
      "\u001b[1;31mAttributeError\u001b[0m                            Traceback (most recent call last)",
      "Cell \u001b[1;32mIn[50], line 2\u001b[0m\n\u001b[0;32m      1\u001b[0m my_tuple \u001b[39m=\u001b[39m (\u001b[39m1\u001b[39m, \u001b[39m2\u001b[39m, \u001b[39m3\u001b[39m, \u001b[39m4\u001b[39m,\u001b[39m5\u001b[39m)\n\u001b[1;32m----> 2\u001b[0m my_tuple\u001b[39m.\u001b[39;49msort()\n",
      "\u001b[1;31mAttributeError\u001b[0m: 'tuple' object has no attribute 'sort'"
     ]
    }
   ],
   "source": [
    "# sort와 sorted 튜플에 적용해보기!\n",
    "my_tuple = (1, 2, 3, 4,5)\n",
    "my_tuple.sort()"
   ]
  },
  {
   "cell_type": "code",
   "execution_count": 51,
   "metadata": {},
   "outputs": [
    {
     "data": {
      "text/plain": [
       "[1, 2, 3, 4, 5]"
      ]
     },
     "execution_count": 51,
     "metadata": {},
     "output_type": "execute_result"
    }
   ],
   "source": [
    "sorted(my_tuple)"
   ]
  },
  {
   "cell_type": "markdown",
   "metadata": {},
   "source": [
    "### .reverse() 🎈\n",
    "리스트의 순서를 역순으로 변경(정렬X)"
   ]
  },
  {
   "cell_type": "code",
   "execution_count": 53,
   "metadata": {},
   "outputs": [
    {
     "name": "stdout",
     "output_type": "stream",
     "text": [
      "[9, 1, 8, 2, 3, 1]\n"
     ]
    }
   ],
   "source": [
    "my_list = [1, 3, 2, 8, 1, 9]\n",
    "my_list.reverse()\n",
    "print(my_list)"
   ]
  },
  {
   "cell_type": "code",
   "execution_count": 56,
   "metadata": {},
   "outputs": [
    {
     "name": "stdout",
     "output_type": "stream",
     "text": [
      "<list_reverseiterator object at 0x0000027C6B9D51F0>\n",
      "[9, 1, 8, 2, 3, 1]\n"
     ]
    }
   ],
   "source": [
    "# reversed\n",
    "my_list = [1, 3, 2, 8, 1, 9]\n",
    "\n",
    "print(reversed(my_list)) # <list_reverseiterator object at 0x0000027C6B9D50A0>\n",
    "print(list(reversed(my_list))) # [9, 1, 8, 2, 3, 1]"
   ]
  },
  {
   "cell_type": "markdown",
   "metadata": {},
   "source": [
    "# 참고\n",
    "문자열에 포함된 문자들의 유형을 판별하는 메서드\n",
    "\n",
    "- isdecimal()\n",
    "    - 문자열이 모두 숫자 문자(0~9)로만 이루어져 있어야 True\n",
    "- isdigit()\n",
    "    - isdecimal()과 비슷핮만, 유니코드 숫자도 인식(①도 숫자로 인식)\n",
    "- isnumeric()\n",
    "    - isdigit()과 유사하지만, 몇 가지 추가적인 유니코드 문자들을 인식(분수, 지수, 루트 기호도 숫자로 인식)\n",
    "    \n",
    "![Alt text](image-3.png)"
   ]
  },
  {
   "cell_type": "markdown",
   "metadata": {},
   "source": [
    "### 할당과 슬라이싱의 차이"
   ]
  },
  {
   "cell_type": "code",
   "execution_count": 1,
   "metadata": {},
   "outputs": [
    {
     "name": "stdout",
     "output_type": "stream",
     "text": [
      "[100, 2, 3]\n",
      "[1, 2, 3]\n"
     ]
    }
   ],
   "source": [
    "numbers = [1, 2, 3]\n",
    "\n",
    "# 1. 할당\n",
    "list1 = numbers\n",
    "\n",
    "# 2. 슬라이싱\n",
    "list2 = numbers[:]\n",
    "\n",
    "numbers[0] = 100\n",
    "\n",
    "print(list1)\n",
    "print(list2)"
   ]
  },
  {
   "attachments": {
    "image.png": {
     "image/png": "[encoded data removed]"
    }
   },
   "cell_type": "markdown",
   "metadata": {},
   "source": [
    "![image.png](attachment:image.png)"
   ]
  },
  {
   "cell_type": "code",
   "execution_count": null,
   "metadata": {},
   "outputs": [],
   "source": []
  }
 ],
 "metadata": {
  "kernelspec": {
   "display_name": "Python 3",
   "language": "python",
   "name": "python3"
  },
  "language_info": {
   "codemirror_mode": {
    "name": "ipython",
    "version": 3
   },
   "file_extension": ".py",
   "mimetype": "text/x-python",
   "name": "python",
   "nbconvert_exporter": "python",
   "pygments_lexer": "ipython3",
   "version": "3.9.13"
  },
  "orig_nbformat": 4
 },
 "nbformat": 4,
 "nbformat_minor": 2
}
