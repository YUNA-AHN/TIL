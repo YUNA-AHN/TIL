{
 "cells": [
  {
   "cell_type": "markdown",
   "metadata": {},
   "source": [
    "# Classes\n",
    "# 객체지향 프로그래밍\n",
    "## 절차 지향 프로그래밍(Procedural Programming)\n",
    "- 프로그램을 '데이터'와 '절차'로 구성하는 방식의 프로그래밍 패러다임\n",
    "- 데이터와 절차를 독립적인 개념으로 나누어서 생각함\n",
    "\n",
    "* 패러다임 = 방법론\n",
    " \n",
    "절차 지향 프로그래밍 특징\n",
    "- \"데이터\"와 해당 데이터를 처리하는 \"함수(절차)\"가 분리되어 있으며, 함수 호출의 흐름이 중요\n",
    "- 코드의 순차적인 흐름과 함수 호출에 의해 프로그램이 진행\n",
    "\n",
    "![Alt text](image.png)\n",
    "\n",
    "- 실제로 실행되는 내용이 무엇인가가 중요\n",
    "- 데이터를 다시 재사용하거나 하기보다는 처음부터 끝까지 실행되는 결과물이 중요한 방식\n",
    "- 함수를 무조건 이 순서대로 진행되어야 한다는 **절차**가 존재\n",
    "\n",
    "소프트웨어 위기(Software Crisis)\n",
    "- 하드웨어의 발전으로 컴퓨터 계산 용량과 문제의 복잡성이 급격히 증가함에 따라 소프트 웨어에 발생한 충격\n",
    "- 프로그램이 복잡해지는 만큼 절차를 지켜 관리하기 복잡해짐\n",
    "\n",
    "![Alt text](image-1.png)\n",
    "\n",
    "\n",
    "## 객체 지향 프로그래밍(Object Oriented Programming)\n",
    "데이터와 해당 데이터를 조작하는 메서드를 **하나의 객체**로 묶어 관리하는 방식의 프로그래밍 패러다임\n",
    "\n",
    "- 로직을 순서대로 진행하지 않고 데이터와 기능을 객체로 묶어 관리!\n",
    "\n",
    "객체 = 정보 + 행동\n",
    "\n",
    "- 절차 기반의 단점을 보완하기 위한 방안\n",
    "    - 순서, 함수보다는 데이터 중심으로 관점을 바꾸기 시작\n",
    "- 함수의 역할 축소, 데이터가 중심\n",
    "\n",
    "절차지향 VS 객체지향 : 주체의 변경\n",
    "- 절차지향\n",
    "    - 데이터와 해당 데이터를 처리하는 함수(절차)가 분리\n",
    "    - 함수 호출의 흐름이 중요\n",
    "    \n",
    "    - 함수(데이터)\n",
    "\n",
    "- 객체지향\n",
    "    - 데이터와 해당 데이터를 처리하는 메서드(메시지)를 하나의 객채(클래스)로 묶음\n",
    "    \n",
    "    - 객체 간 상호작용과 메시지 전달이 중요\n",
    "    - 데이터(객체).메서드\n",
    "\n",
    "부모 클래스와 자식 클래스가 존재\n",
    "상속할 수 있음\n",
    "\n",
    "객체 지향의 특징\n",
    "- 추상화: 복잡한 것은 숨기고 필요한 것을 들어낸다\n",
    "    - 객체 기능에 춤이 있다면 객체가 춤을 추겠구나! 라는 결과를 기대하게 만드는 것\n",
    "\n",
    "\n",
    "# 객체(Object)\n",
    "## 클래스 (Class)\n",
    "파이썬에서 타입을 표현하는 방법\n",
    "- 객체를 생성하기 위한 설계도(blueprint)\n",
    "- 데이터와 기능(메서드)을 함께 묶는 방법을 제공\n",
    "- 객체를 찍어내는 틀!\n",
    "\n",
    "## 객체(Object)\n",
    "클래스에서 정의한 것을 토대로 메모리에 할당된 것\n",
    "**속성**과 **행동**으로 구성된 모든 것\n",
    "- 속성 : 변수 / 행동 : 메서드\n",
    "- 가수(클래스) - 아이유, BTS(객체)\n",
    "- 붕어빵틀(클래스) - 팥붕, 슈붕(객체)\n",
    "\n",
    "### 클래스와 객체\n",
    "- 클래스로 만든 객체를 **인스턴스**라고도 함  \n",
    "- 인스턴스 : 실제 메모리에 할당된 객체\n",
    "- 클래스를 만든다 == 타입을 만든다 (only python)\n",
    "\n",
    "아이유는 객체다(O)  \n",
    "아이유는 인스턴스다(X)  \n",
    "아이유는 가수의 인스턴스다(O)  \n",
    "\n",
    "클래스(가수)와 객체(아이유) \n",
    "- 모두가 객체이기 떄문에 클래스도 객체이긴 함!\n",
    "- 구분을 위해 클래스, 객체(인스턴스)\n",
    "\n",
    "- 변수 name의 타입은 str 클래스다\n",
    "    - 변수 name은 **str 클래스의 인스턴스**이다.\n",
    "    - 우리가 사용해왔던 **데이터 타입은 사실 모두 클래스 였다.**\n",
    "    - 리스트도 튜플도... 모두 클래스로 존재"
   ]
  },
  {
   "cell_type": "code",
   "execution_count": 10,
   "metadata": {},
   "outputs": [
    {
     "name": "stdout",
     "output_type": "stream",
     "text": [
      "<class 'str'>\n"
     ]
    }
   ],
   "source": [
    "name = 'Alice'\n",
    "\n",
    "print(type(name)) # <class 'str'>"
   ]
  },
  {
   "cell_type": "markdown",
   "metadata": {},
   "source": [
    "Alice는 class str의 인스턴스이다!\n",
    "- str() : 함수 (X) 클래스 생성자(O)\n",
    "- 결국 문자열 타입의 변수는 str 클래스로 만든 인스턴스다."
   ]
  },
  {
   "cell_type": "code",
   "execution_count": 11,
   "metadata": {},
   "outputs": [
    {
     "name": "stdout",
     "output_type": "stream",
     "text": [
      "Help on class str in module builtins:\n",
      "\n",
      "class str(object)\n",
      " |  str(object='') -> str\n",
      " |  str(bytes_or_buffer[, encoding[, errors]]) -> str\n",
      " |  \n",
      " |  Create a new string object from the given object. If encoding or\n",
      " |  errors is specified, then the object must expose a data buffer\n",
      " |  that will be decoded using the given encoding and error handler.\n",
      " |  Otherwise, returns the result of object.__str__() (if defined)\n",
      " |  or repr(object).\n",
      " |  encoding defaults to sys.getdefaultencoding().\n",
      " |  errors defaults to 'strict'.\n",
      " |  \n",
      " |  Methods defined here:\n",
      " |  \n",
      " |  __add__(self, value, /)\n",
      " |      Return self+value.\n",
      " |  \n",
      " |  __contains__(self, key, /)\n",
      " |      Return key in self.\n",
      " |  \n",
      " |  __eq__(self, value, /)\n",
      " |      Return self==value.\n",
      " |  \n",
      " |  __format__(self, format_spec, /)\n",
      " |      Return a formatted version of the string as described by format_spec.\n",
      " |  \n",
      " |  __ge__(self, value, /)\n",
      " |      Return self>=value.\n",
      " |  \n",
      " |  __getattribute__(self, name, /)\n",
      " |      Return getattr(self, name).\n",
      " |  \n",
      " |  __getitem__(self, key, /)\n",
      " |      Return self[key].\n",
      " |  \n",
      " |  __getnewargs__(...)\n",
      " |  \n",
      " |  __gt__(self, value, /)\n",
      " |      Return self>value.\n",
      " |  \n",
      " |  __hash__(self, /)\n",
      " |      Return hash(self).\n",
      " |  \n",
      " |  __iter__(self, /)\n",
      " |      Implement iter(self).\n",
      " |  \n",
      " |  __le__(self, value, /)\n",
      " |      Return self<=value.\n",
      " |  \n",
      " |  __len__(self, /)\n",
      " |      Return len(self).\n",
      " |  \n",
      " |  __lt__(self, value, /)\n",
      " |      Return self<value.\n",
      " |  \n",
      " |  __mod__(self, value, /)\n",
      " |      Return self%value.\n",
      " |  \n",
      " |  __mul__(self, value, /)\n",
      " |      Return self*value.\n",
      " |  \n",
      " |  __ne__(self, value, /)\n",
      " |      Return self!=value.\n",
      " |  \n",
      " |  __repr__(self, /)\n",
      " |      Return repr(self).\n",
      " |  \n",
      " |  __rmod__(self, value, /)\n",
      " |      Return value%self.\n",
      " |  \n",
      " |  __rmul__(self, value, /)\n",
      " |      Return value*self.\n",
      " |  \n",
      " |  __sizeof__(self, /)\n",
      " |      Return the size of the string in memory, in bytes.\n",
      " |  \n",
      " |  __str__(self, /)\n",
      " |      Return str(self).\n",
      " |  \n",
      " |  capitalize(self, /)\n",
      " |      Return a capitalized version of the string.\n",
      " |      \n",
      " |      More specifically, make the first character have upper case and the rest lower\n",
      " |      case.\n",
      " |  \n",
      " |  casefold(self, /)\n",
      " |      Return a version of the string suitable for caseless comparisons.\n",
      " |  \n",
      " |  center(self, width, fillchar=' ', /)\n",
      " |      Return a centered string of length width.\n",
      " |      \n",
      " |      Padding is done using the specified fill character (default is a space).\n",
      " |  \n",
      " |  count(...)\n",
      " |      S.count(sub[, start[, end]]) -> int\n",
      " |      \n",
      " |      Return the number of non-overlapping occurrences of substring sub in\n",
      " |      string S[start:end].  Optional arguments start and end are\n",
      " |      interpreted as in slice notation.\n",
      " |  \n",
      " |  encode(self, /, encoding='utf-8', errors='strict')\n",
      " |      Encode the string using the codec registered for encoding.\n",
      " |      \n",
      " |      encoding\n",
      " |        The encoding in which to encode the string.\n",
      " |      errors\n",
      " |        The error handling scheme to use for encoding errors.\n",
      " |        The default is 'strict' meaning that encoding errors raise a\n",
      " |        UnicodeEncodeError.  Other possible values are 'ignore', 'replace' and\n",
      " |        'xmlcharrefreplace' as well as any other name registered with\n",
      " |        codecs.register_error that can handle UnicodeEncodeErrors.\n",
      " |  \n",
      " |  endswith(...)\n",
      " |      S.endswith(suffix[, start[, end]]) -> bool\n",
      " |      \n",
      " |      Return True if S ends with the specified suffix, False otherwise.\n",
      " |      With optional start, test S beginning at that position.\n",
      " |      With optional end, stop comparing S at that position.\n",
      " |      suffix can also be a tuple of strings to try.\n",
      " |  \n",
      " |  expandtabs(self, /, tabsize=8)\n",
      " |      Return a copy where all tab characters are expanded using spaces.\n",
      " |      \n",
      " |      If tabsize is not given, a tab size of 8 characters is assumed.\n",
      " |  \n",
      " |  find(...)\n",
      " |      S.find(sub[, start[, end]]) -> int\n",
      " |      \n",
      " |      Return the lowest index in S where substring sub is found,\n",
      " |      such that sub is contained within S[start:end].  Optional\n",
      " |      arguments start and end are interpreted as in slice notation.\n",
      " |      \n",
      " |      Return -1 on failure.\n",
      " |  \n",
      " |  format(...)\n",
      " |      S.format(*args, **kwargs) -> str\n",
      " |      \n",
      " |      Return a formatted version of S, using substitutions from args and kwargs.\n",
      " |      The substitutions are identified by braces ('{' and '}').\n",
      " |  \n",
      " |  format_map(...)\n",
      " |      S.format_map(mapping) -> str\n",
      " |      \n",
      " |      Return a formatted version of S, using substitutions from mapping.\n",
      " |      The substitutions are identified by braces ('{' and '}').\n",
      " |  \n",
      " |  index(...)\n",
      " |      S.index(sub[, start[, end]]) -> int\n",
      " |      \n",
      " |      Return the lowest index in S where substring sub is found,\n",
      " |      such that sub is contained within S[start:end].  Optional\n",
      " |      arguments start and end are interpreted as in slice notation.\n",
      " |      \n",
      " |      Raises ValueError when the substring is not found.\n",
      " |  \n",
      " |  isalnum(self, /)\n",
      " |      Return True if the string is an alpha-numeric string, False otherwise.\n",
      " |      \n",
      " |      A string is alpha-numeric if all characters in the string are alpha-numeric and\n",
      " |      there is at least one character in the string.\n",
      " |  \n",
      " |  isalpha(self, /)\n",
      " |      Return True if the string is an alphabetic string, False otherwise.\n",
      " |      \n",
      " |      A string is alphabetic if all characters in the string are alphabetic and there\n",
      " |      is at least one character in the string.\n",
      " |  \n",
      " |  isascii(self, /)\n",
      " |      Return True if all characters in the string are ASCII, False otherwise.\n",
      " |      \n",
      " |      ASCII characters have code points in the range U+0000-U+007F.\n",
      " |      Empty string is ASCII too.\n",
      " |  \n",
      " |  isdecimal(self, /)\n",
      " |      Return True if the string is a decimal string, False otherwise.\n",
      " |      \n",
      " |      A string is a decimal string if all characters in the string are decimal and\n",
      " |      there is at least one character in the string.\n",
      " |  \n",
      " |  isdigit(self, /)\n",
      " |      Return True if the string is a digit string, False otherwise.\n",
      " |      \n",
      " |      A string is a digit string if all characters in the string are digits and there\n",
      " |      is at least one character in the string.\n",
      " |  \n",
      " |  isidentifier(self, /)\n",
      " |      Return True if the string is a valid Python identifier, False otherwise.\n",
      " |      \n",
      " |      Call keyword.iskeyword(s) to test whether string s is a reserved identifier,\n",
      " |      such as \"def\" or \"class\".\n",
      " |  \n",
      " |  islower(self, /)\n",
      " |      Return True if the string is a lowercase string, False otherwise.\n",
      " |      \n",
      " |      A string is lowercase if all cased characters in the string are lowercase and\n",
      " |      there is at least one cased character in the string.\n",
      " |  \n",
      " |  isnumeric(self, /)\n",
      " |      Return True if the string is a numeric string, False otherwise.\n",
      " |      \n",
      " |      A string is numeric if all characters in the string are numeric and there is at\n",
      " |      least one character in the string.\n",
      " |  \n",
      " |  isprintable(self, /)\n",
      " |      Return True if the string is printable, False otherwise.\n",
      " |      \n",
      " |      A string is printable if all of its characters are considered printable in\n",
      " |      repr() or if it is empty.\n",
      " |  \n",
      " |  isspace(self, /)\n",
      " |      Return True if the string is a whitespace string, False otherwise.\n",
      " |      \n",
      " |      A string is whitespace if all characters in the string are whitespace and there\n",
      " |      is at least one character in the string.\n",
      " |  \n",
      " |  istitle(self, /)\n",
      " |      Return True if the string is a title-cased string, False otherwise.\n",
      " |      \n",
      " |      In a title-cased string, upper- and title-case characters may only\n",
      " |      follow uncased characters and lowercase characters only cased ones.\n",
      " |  \n",
      " |  isupper(self, /)\n",
      " |      Return True if the string is an uppercase string, False otherwise.\n",
      " |      \n",
      " |      A string is uppercase if all cased characters in the string are uppercase and\n",
      " |      there is at least one cased character in the string.\n",
      " |  \n",
      " |  join(self, iterable, /)\n",
      " |      Concatenate any number of strings.\n",
      " |      \n",
      " |      The string whose method is called is inserted in between each given string.\n",
      " |      The result is returned as a new string.\n",
      " |      \n",
      " |      Example: '.'.join(['ab', 'pq', 'rs']) -> 'ab.pq.rs'\n",
      " |  \n",
      " |  ljust(self, width, fillchar=' ', /)\n",
      " |      Return a left-justified string of length width.\n",
      " |      \n",
      " |      Padding is done using the specified fill character (default is a space).\n",
      " |  \n",
      " |  lower(self, /)\n",
      " |      Return a copy of the string converted to lowercase.\n",
      " |  \n",
      " |  lstrip(self, chars=None, /)\n",
      " |      Return a copy of the string with leading whitespace removed.\n",
      " |      \n",
      " |      If chars is given and not None, remove characters in chars instead.\n",
      " |  \n",
      " |  partition(self, sep, /)\n",
      " |      Partition the string into three parts using the given separator.\n",
      " |      \n",
      " |      This will search for the separator in the string.  If the separator is found,\n",
      " |      returns a 3-tuple containing the part before the separator, the separator\n",
      " |      itself, and the part after it.\n",
      " |      \n",
      " |      If the separator is not found, returns a 3-tuple containing the original string\n",
      " |      and two empty strings.\n",
      " |  \n",
      " |  removeprefix(self, prefix, /)\n",
      " |      Return a str with the given prefix string removed if present.\n",
      " |      \n",
      " |      If the string starts with the prefix string, return string[len(prefix):].\n",
      " |      Otherwise, return a copy of the original string.\n",
      " |  \n",
      " |  removesuffix(self, suffix, /)\n",
      " |      Return a str with the given suffix string removed if present.\n",
      " |      \n",
      " |      If the string ends with the suffix string and that suffix is not empty,\n",
      " |      return string[:-len(suffix)]. Otherwise, return a copy of the original\n",
      " |      string.\n",
      " |  \n",
      " |  replace(self, old, new, count=-1, /)\n",
      " |      Return a copy with all occurrences of substring old replaced by new.\n",
      " |      \n",
      " |        count\n",
      " |          Maximum number of occurrences to replace.\n",
      " |          -1 (the default value) means replace all occurrences.\n",
      " |      \n",
      " |      If the optional argument count is given, only the first count occurrences are\n",
      " |      replaced.\n",
      " |  \n",
      " |  rfind(...)\n",
      " |      S.rfind(sub[, start[, end]]) -> int\n",
      " |      \n",
      " |      Return the highest index in S where substring sub is found,\n",
      " |      such that sub is contained within S[start:end].  Optional\n",
      " |      arguments start and end are interpreted as in slice notation.\n",
      " |      \n",
      " |      Return -1 on failure.\n",
      " |  \n",
      " |  rindex(...)\n",
      " |      S.rindex(sub[, start[, end]]) -> int\n",
      " |      \n",
      " |      Return the highest index in S where substring sub is found,\n",
      " |      such that sub is contained within S[start:end].  Optional\n",
      " |      arguments start and end are interpreted as in slice notation.\n",
      " |      \n",
      " |      Raises ValueError when the substring is not found.\n",
      " |  \n",
      " |  rjust(self, width, fillchar=' ', /)\n",
      " |      Return a right-justified string of length width.\n",
      " |      \n",
      " |      Padding is done using the specified fill character (default is a space).\n",
      " |  \n",
      " |  rpartition(self, sep, /)\n",
      " |      Partition the string into three parts using the given separator.\n",
      " |      \n",
      " |      This will search for the separator in the string, starting at the end. If\n",
      " |      the separator is found, returns a 3-tuple containing the part before the\n",
      " |      separator, the separator itself, and the part after it.\n",
      " |      \n",
      " |      If the separator is not found, returns a 3-tuple containing two empty strings\n",
      " |      and the original string.\n",
      " |  \n",
      " |  rsplit(self, /, sep=None, maxsplit=-1)\n",
      " |      Return a list of the words in the string, using sep as the delimiter string.\n",
      " |      \n",
      " |        sep\n",
      " |          The delimiter according which to split the string.\n",
      " |          None (the default value) means split according to any whitespace,\n",
      " |          and discard empty strings from the result.\n",
      " |        maxsplit\n",
      " |          Maximum number of splits to do.\n",
      " |          -1 (the default value) means no limit.\n",
      " |      \n",
      " |      Splits are done starting at the end of the string and working to the front.\n",
      " |  \n",
      " |  rstrip(self, chars=None, /)\n",
      " |      Return a copy of the string with trailing whitespace removed.\n",
      " |      \n",
      " |      If chars is given and not None, remove characters in chars instead.\n",
      " |  \n",
      " |  split(self, /, sep=None, maxsplit=-1)\n",
      " |      Return a list of the words in the string, using sep as the delimiter string.\n",
      " |      \n",
      " |      sep\n",
      " |        The delimiter according which to split the string.\n",
      " |        None (the default value) means split according to any whitespace,\n",
      " |        and discard empty strings from the result.\n",
      " |      maxsplit\n",
      " |        Maximum number of splits to do.\n",
      " |        -1 (the default value) means no limit.\n",
      " |  \n",
      " |  splitlines(self, /, keepends=False)\n",
      " |      Return a list of the lines in the string, breaking at line boundaries.\n",
      " |      \n",
      " |      Line breaks are not included in the resulting list unless keepends is given and\n",
      " |      true.\n",
      " |  \n",
      " |  startswith(...)\n",
      " |      S.startswith(prefix[, start[, end]]) -> bool\n",
      " |      \n",
      " |      Return True if S starts with the specified prefix, False otherwise.\n",
      " |      With optional start, test S beginning at that position.\n",
      " |      With optional end, stop comparing S at that position.\n",
      " |      prefix can also be a tuple of strings to try.\n",
      " |  \n",
      " |  strip(self, chars=None, /)\n",
      " |      Return a copy of the string with leading and trailing whitespace removed.\n",
      " |      \n",
      " |      If chars is given and not None, remove characters in chars instead.\n",
      " |  \n",
      " |  swapcase(self, /)\n",
      " |      Convert uppercase characters to lowercase and lowercase characters to uppercase.\n",
      " |  \n",
      " |  title(self, /)\n",
      " |      Return a version of the string where each word is titlecased.\n",
      " |      \n",
      " |      More specifically, words start with uppercased characters and all remaining\n",
      " |      cased characters have lower case.\n",
      " |  \n",
      " |  translate(self, table, /)\n",
      " |      Replace each character in the string using the given translation table.\n",
      " |      \n",
      " |        table\n",
      " |          Translation table, which must be a mapping of Unicode ordinals to\n",
      " |          Unicode ordinals, strings, or None.\n",
      " |      \n",
      " |      The table must implement lookup/indexing via __getitem__, for instance a\n",
      " |      dictionary or list.  If this operation raises LookupError, the character is\n",
      " |      left untouched.  Characters mapped to None are deleted.\n",
      " |  \n",
      " |  upper(self, /)\n",
      " |      Return a copy of the string converted to uppercase.\n",
      " |  \n",
      " |  zfill(self, width, /)\n",
      " |      Pad a numeric string with zeros on the left, to fill a field of the given width.\n",
      " |      \n",
      " |      The string is never truncated.\n",
      " |  \n",
      " |  ----------------------------------------------------------------------\n",
      " |  Static methods defined here:\n",
      " |  \n",
      " |  __new__(*args, **kwargs) from builtins.type\n",
      " |      Create and return a new object.  See help(type) for accurate signature.\n",
      " |  \n",
      " |  maketrans(...)\n",
      " |      Return a translation table usable for str.translate().\n",
      " |      \n",
      " |      If there is only one argument, it must be a dictionary mapping Unicode\n",
      " |      ordinals (integers) or characters to Unicode ordinals, strings or None.\n",
      " |      Character keys will be then converted to ordinals.\n",
      " |      If there are two arguments, they must be strings of equal length, and\n",
      " |      in the resulting dictionary, each character in x will be mapped to the\n",
      " |      character at the same position in y. If there is a third argument, it\n",
      " |      must be a string, whose characters will be mapped to None in the result.\n",
      "\n",
      "None\n"
     ]
    }
   ],
   "source": [
    "print(help(str))"
   ]
  },
  {
   "cell_type": "markdown",
   "metadata": {},
   "source": [
    "[], [1], ['me']\n",
    "- 리스트 타입(클래스)의 객체(인스턴스)"
   ]
  },
  {
   "cell_type": "markdown",
   "metadata": {},
   "source": [
    "### 인스턴스와 메서드\n",
    "```\n",
    "'hello'.upper()\n",
    "문자열.대문자로()\n",
    "객체.행동()\n",
    "인스턴스.메서드()\n",
    "```\n",
    "\n",
    "```\n",
    "[list].sort\n",
    "문자열.대문자로()\n",
    "객체.행동()\n",
    "인스턴스.메서드()\n",
    "```\n",
    "\n",
    "**하나의 객체(object)는 특정 타입의 인스턴스(instance)이다.**\n",
    "\n",
    "## 객체의 특징\n",
    "- 타입(type) : 어떤 연산자(operator)와 조작(method)이 가능한가?\n",
    "- 속성(attribute) : 어떤 상태(데이터)를 가지는가?\n",
    "- 조작법(method) : 어떤 행위(함수)를 할 수 있는가?\n",
    "\n",
    "객체(Object) = 속성(Attribute) + 기능(Method)\n",
    "\n",
    "클래스를 사용해서 만든 객체 = 클래스의 인스턴스"
   ]
  },
  {
   "cell_type": "markdown",
   "metadata": {},
   "source": [
    "# 클래스(Classes)\n",
    "파이썬에서 타입을 표현하는 방법\n",
    "- 객체를 생성하기 위한 설계도(blueprint)\n",
    "- 데이터와 기능(메서드)을 함께 묶는 방법을 제공\n",
    "\n",
    "### 클래스 구조 : 클래스 명을 대문자로 시작(파스칼 케이스)\n",
    "```\n",
    "# 클래스 정의\n",
    "class Person:\n",
    "    pass\n",
    "\n",
    "# 인스턴스 생성\n",
    "iu = Person()\n",
    "\n",
    "# 메서드 호출\n",
    "iu.메서드()\n",
    "\n",
    "# 속성(변수) 접근\n",
    "iu.attribute\n",
    "```"
   ]
  },
  {
   "cell_type": "code",
   "execution_count": 13,
   "metadata": {},
   "outputs": [],
   "source": [
    "# 클래스 기본 활용\n",
    "class Person:\n",
    "    # 속성\n",
    "    blood_color = 'red'\n",
    "    \n",
    "    def __init__(self, name): # 매직 메서드 \n",
    "        self.name = name\n",
    "    \n",
    "    def singing(self):\n",
    "        return f'{self.name}가 노래합니다.'"
   ]
  },
  {
   "cell_type": "code",
   "execution_count": 14,
   "metadata": {},
   "outputs": [
    {
     "name": "stdout",
     "output_type": "stream",
     "text": [
      "iu가 노래합니다.\n",
      "BTS가 노래합니다.\n",
      "red\n",
      "red\n"
     ]
    }
   ],
   "source": [
    "# 인스턴스 생성 : 동일한 클래스로 만든 각각의 인스턴스\n",
    "singer1 = Person('iu')\n",
    "singer2 = Person('BTS')\n",
    "\n",
    "# 메서드 호출 : 독립적인 결과\n",
    "print(singer1.singing()) # iu가 노래합니다.\n",
    "print(singer2.singing()) # BTS가 노래합니다.\n",
    "\n",
    "# 속성(변수) 접근\n",
    "print(singer1.blood_color) # red\n",
    "print(singer2.blood_color) # red"
   ]
  },
  {
   "cell_type": "code",
   "execution_count": 15,
   "metadata": {},
   "outputs": [
    {
     "data": {
      "text/plain": [
       "True"
      ]
     },
     "execution_count": 15,
     "metadata": {},
     "output_type": "execute_result"
    }
   ],
   "source": [
    "# Person 클래스의 객체가 맞는가?\n",
    "isinstance(singer1, Person) "
   ]
  },
  {
   "cell_type": "code",
   "execution_count": 17,
   "metadata": {},
   "outputs": [
    {
     "name": "stdout",
     "output_type": "stream",
     "text": [
      "ive\n"
     ]
    }
   ],
   "source": [
    "# 호출 / 수정 가능\n",
    "singer1.name = 'ive'\n",
    "\n",
    "print(singer1.name)"
   ]
  },
  {
   "cell_type": "markdown",
   "metadata": {},
   "source": [
    "### 클래스 기본 활용\n",
    "\n",
    "__ init __ (초기화)\n",
    "매직 메서드 : 개발자가 직접 호출하지 않음. 자연스럽게 동작\n",
    "생성자 메서드 : 인스턴스를 만들 때 반드시 있어야함\n",
    "\n",
    "self : 인스턴스 자기 자신!\n",
    "\n",
    "name : 위치인자! 값을 넣어줘야 한다\n",
    "\n",
    "- 생성자 함수\n",
    "    - 객체를 생성할 떄 자동으로 초풀되는 특별한 메서드\n",
    "    - __ init __ 이라는 이름의 메서드로 정의되며, 객체의 초기화를 담담\n",
    "    - 생성자 함수를 통해 인스턴스를 생성하고 필요한 초기값을 설정\n",
    "    - self는 파이썬이 자체적으로 넘겨줌\n",
    "- 인스턴스 변수\n",
    "    - 인스턴스(객체)마다 별도로 유지되는 변수\n",
    "    - 인스턴스 마다 **독립적인** 값을 가지며, **인스턴스가 생성될 때마다 초기화 됨**\n",
    "- 클래스 변수\n",
    "    - 클래스 내부에 선언된 변수\n",
    "    - 클래스로 생성된 모든 인스턴스들이 공유하는 변수\n",
    "- 인스턴스 메서드\n",
    "    - 각각의 인스턴스에서 호출할 수 있는 메서드\n",
    "    - 인스턴스 변수에 접근하고 수정하는 등의 작업을 수행"
   ]
  },
  {
   "cell_type": "markdown",
   "metadata": {},
   "source": [
    "### 인스턴스와 클래스간의 이름 공간(namespace)\n",
    "- 클래스를 정의하면, 클래스와 해당하는 이름 공간 생성\n",
    "- 인스턴스를 만들면, 인스턴스 객체가 생성되고 **독립적인** 이름 공간 생성\n",
    "- 인스턴스에서 특정 속성에 접근하면, **인스턴스 -> 클래스 순으로 탐색**\n",
    "\n",
    "클래스와도 독립적인 인스턴스 이름 공간!\n",
    "인스턴스별로 이름 공간 생성\n",
    "\n",
    "![Alt text](image-2.png)\n",
    "![Alt text](image-3.png)"
   ]
  },
  {
   "cell_type": "code",
   "execution_count": null,
   "metadata": {},
   "outputs": [],
   "source": [
    "# Person 정의\n",
    "## 초기화 함수가 없어도 정의가 되긴 한다..!!!\n",
    "class Person:\n",
    "    name = 'unkonwn'\n",
    "    \n",
    "    # 인스턴스 메서드\n",
    "    def talk(self):\n",
    "        print(self.name)\n",
    "\n",
    "p1 = Person()\n",
    "p1.talk() # unknown\n",
    "# 인스턴스는 값이 없으면 클래스로 찾으러 나간다!\n",
    "\n",
    "# p2 인스턴스 변수 설정 전/후\n",
    "p2 = Person()\n",
    "p2.talk()  # unknown\n",
    "\n",
    "p2.name = 'Kim'\n",
    "p2.talk() # Kim\n",
    "\n",
    "print(Person.name) # unknown\n",
    "print(p1.name) # unknown\n",
    "print(p2.name) # Kim"
   ]
  },
  {
   "cell_type": "code",
   "execution_count": null,
   "metadata": {},
   "outputs": [],
   "source": [
    "# 클래스의 관여 대상이 아니다!\n",
    "# 인스턴스 변수.. \n",
    "# 클래스는 공통의 공유되어야 하는 것을 제공\n",
    "# 변수는 자유롭게 추가적으로 만들 수 있음 - 인스턴스가 가지고 있기 때문에...\n",
    "# 하지만 메서드는! 클래스가 가진다.!\n",
    "p1.address = 'korea'\n",
    "print(p1.address)"
   ]
  },
  {
   "cell_type": "markdown",
   "metadata": {},
   "source": [
    "### 독립적인 이름 공간을 가지는 이점\n",
    "- 각 인스턴스는 독립적인 메모리 공간을 가지며, 클래스와 다른 인스턴스 간에는 서로의 데이터나 상태에 직접적인 접근이 불가\n",
    "    - p1이 p2 변수 바꿀 수 없음\n",
    "    - 객체간의 독립성\n",
    "- 객체 지향 프로그래밍의 주요한 특성 중 하나로 클래스와 인스턴스를 모듈화하고 **각각의 객체가 독립적으로 동작하도록 보장**\n",
    "    - 절차 지향은 독립적이지 X, 하나의 문제가 전체의 문제\n",
    "    - 객체 지향을 서로에게 의존적이지 않음\n",
    "- 이를 통해 클래스와 인스턴스는 다른 객체들과의 상호작용에서 서로 충졸이나 영향을 주지 않으면서 독립적으로 동작할 수 있음\n",
    "- 코드의 가독성, 유지보수성, 재사용성을 높이는데 도움을 줌"
   ]
  },
  {
   "cell_type": "markdown",
   "metadata": {},
   "source": [
    "## 인스턴스 변수와 클래스 변수\n",
    "### 클래스 변수 활용\n",
    "- 가수가 몇명인지 확인하고 싶다면?\n",
    "    - 인스턴스가 생성 될 때마다 클래스 변수가 늘어나도록 설정할 수 있음"
   ]
  },
  {
   "cell_type": "code",
   "execution_count": 22,
   "metadata": {},
   "outputs": [
    {
     "name": "stdout",
     "output_type": "stream",
     "text": [
      "2\n"
     ]
    }
   ],
   "source": [
    "class Person:\n",
    "    count = 0\n",
    "    \n",
    "    def __init__(self, name):\n",
    "        self.name = name\n",
    "        Person.count += 1\n",
    "        \n",
    "person1 = Person('iu')\n",
    "person2 = Person('BTS')\n",
    "\n",
    "print(Person.count)"
   ]
  },
  {
   "cell_type": "markdown",
   "metadata": {},
   "source": [
    "### 클래스 변수와 인스턴스 변수\n",
    "- 클래스 변수를 변경할 때는 항상 **클래스.클래스변수** 형식으로 변경\n",
    "\n",
    "인스턴스도 접근/조회은 가능! -> 클래스에서 공유되고 있기 때문  \n",
    "하지만 클래스가 조작하도록 하는게 좋음"
   ]
  },
  {
   "cell_type": "code",
   "execution_count": 27,
   "metadata": {},
   "outputs": [],
   "source": [
    "class Circle():\n",
    "    pi = 3.14 # 클래스 변수\n",
    "    \n",
    "    def __init__(self, r):\n",
    "        self.r = r # 인스턴스 변수\n",
    "\n",
    "c1 = Circle(5)\n",
    "c2 = Circle(10)"
   ]
  },
  {
   "cell_type": "code",
   "execution_count": 24,
   "metadata": {},
   "outputs": [
    {
     "name": "stdout",
     "output_type": "stream",
     "text": [
      "3.14\n",
      "3.14\n",
      "3.14\n"
     ]
    }
   ],
   "source": [
    "# 공유하고 있는 변수이기 때문에 인스턴스로도 접근 가능!\n",
    "# 하지만 클래스로 접근하자!\n",
    "print(Circle.pi)\n",
    "print(c1.pi)\n",
    "print(c2.pi)"
   ]
  },
  {
   "cell_type": "code",
   "execution_count": 25,
   "metadata": {},
   "outputs": [
    {
     "name": "stdout",
     "output_type": "stream",
     "text": [
      "5\n",
      "5\n",
      "5\n"
     ]
    }
   ],
   "source": [
    "# 클래스로 접근시 수정 가능\n",
    "Circle.pi = 5\n",
    "print(Circle.pi)\n",
    "print(c1.pi)\n",
    "print(c2.pi)"
   ]
  },
  {
   "cell_type": "code",
   "execution_count": 28,
   "metadata": {},
   "outputs": [
    {
     "name": "stdout",
     "output_type": "stream",
     "text": [
      "3.14\n",
      "5\n",
      "3.14\n"
     ]
    }
   ],
   "source": [
    "# 인스턴스로 접근시 수정 불가능 !\n",
    "# c1 인스턴스에 pi라는 변수를 새로 생성해준 느낌 ~\n",
    "c1.pi = 5\n",
    "print(Circle.pi)\n",
    "print(c1.pi)\n",
    "print(c2.pi)"
   ]
  },
  {
   "cell_type": "markdown",
   "metadata": {},
   "source": [
    "# 메서드\n",
    "메서드 종류\n",
    "- 인스턴스 메서드 :  인스턴스.메서드\n",
    "- 클래스 메서드 : 클래스.메서드\n",
    "- 정적 메서드 : static\n",
    "\n",
    "메서드별 사용할 수 있는 변수\n",
    "- 클래스 메서드 : 클래스 변수를 사용하는 메서드\n",
    "    - 클래스 변수\n",
    "\n",
    "- 인스턴스 메서드 : 인스턴스 변수를 사용하는 메서드\n",
    "    - 클래스 변수, 인스턴스 변수 O\n",
    "\n",
    "## 인스턴스 메서드 (instance method)\n",
    "클래스로부터 생성된 각 인스턴스에서 호출할 수 있는 메서드\n",
    "- 인스턴스의 상태를 조작하거나 동작을 수행\n",
    "\n",
    "### 인스턴스 메서드 구조\n",
    "- 클래스 내부에 정의되는 메서드의 기본\n",
    "- 반드시 첫 번재 매개변수로 **인스턴스 자신(self)**을 전달받음\n",
    "\n",
    "**여기서 잠깐!**\n",
    "- self는 암묵적인 약속이다! 인스턴스 메서드에서 첫 번째 인자는 무조건 self로 들어간다~ \n",
    "- self라고 안써도 되지만 보통 그렇게 씁니다 ~~ 이름이 가지는 의미가 있어요  \n",
    "- self를 정의하지 않으면 인스턴스 메서드가 작동하지 않음"
   ]
  },
  {
   "cell_type": "code",
   "execution_count": null,
   "metadata": {},
   "outputs": [],
   "source": [
    "class MyClass:\n",
    "    def instance_method(self, arg1, ...):\n",
    "        pass"
   ]
  },
  {
   "cell_type": "markdown",
   "metadata": {},
   "source": [
    "### self 동작 원리\n",
    "- upper 메서드를 사용해 문자열 'hello'를 대문자로 변경하기\n",
    "```python\n",
    "'hello'.upper()\n",
    "```\n",
    "- 하지만 실제 파이썬 내부 동작은 다음과 같이 이루어진다.\n",
    "```python\n",
    "str.upper('hello')\n",
    "```\n",
    "\n",
    "- str 클래스가 upper 메서드를 호출했고, 그 첫 번째 인자로 문자열 인스턴스가 들어간 것이다.\n",
    "\n",
    "- **인스턴스 메서드의 첫번째 매개변수가 반드시 인턴스 자기 자신인 이유**\n",
    "\n",
    "- 객체 지향 방식의 메서드로 호출하는 표현히다.(단축형 호출)\n",
    "- 'hello'라는 문자열 객체가 단순히 어딘가의 함수로 들어가는 인자가 아닌 객체 스스로 메서드를 호출하여 코드를 동작하는 객체 지향적 표현이다."
   ]
  },
  {
   "cell_type": "code",
   "execution_count": null,
   "metadata": {},
   "outputs": [],
   "source": [
    "# 인스턴스.메서드() : 객체지향적 축약형\n",
    "'abc'.upper()\n",
    "\n",
    "# 클래스.메서드(인스턴스 자기자신)\n",
    "str.upper('abc')"
   ]
  },
  {
   "cell_type": "markdown",
   "metadata": {},
   "source": [
    "## 생성자 메서드\n",
    "인스턴스 객체가 생성될 대 자동으로 호출되는 메서드\n",
    "- 인스턴스 변수들의 초기값을 설정\n",
    "\n",
    "### 생성자 메서드 구조"
   ]
  },
  {
   "cell_type": "code",
   "execution_count": null,
   "metadata": {},
   "outputs": [],
   "source": [
    "class Person:\n",
    "    def __init__(self):\n",
    "        print('인스턴스가 생성되었습니다.')\n",
    "        \n",
    "person1 = Person()"
   ]
  },
  {
   "cell_type": "code",
   "execution_count": 31,
   "metadata": {},
   "outputs": [
    {
     "name": "stdout",
     "output_type": "stream",
     "text": [
      "인스턴스가 생성되었습니다. 지민\n"
     ]
    }
   ],
   "source": [
    "class Person:\n",
    "    def __init__(self, name):\n",
    "        print(f'인스턴스가 생성되었습니다. {name}')\n",
    "\n",
    "person1 = Person('지민')"
   ]
  },
  {
   "cell_type": "markdown",
   "metadata": {},
   "source": [
    "## 클래스 메서드 (class method)\n",
    "클래스가 호출하는 메서드\n",
    "- 클래스 변수를 조작하거나 클래스 레벨의 동작을 수행\n",
    "\n",
    "### 클래스 메서드 구조\n",
    "- @classmethod 데코레이터를 사용하여 정의\n",
    "- 호출 시, 첫 번째 인자로 호출하는 클래스(cls)가 전달됨\n",
    "- 데코레이터 함수: 원본을 유지하면서 기능을 붙여준다 (포장지, 박스)"
   ]
  },
  {
   "cell_type": "code",
   "execution_count": null,
   "metadata": {},
   "outputs": [],
   "source": [
    "class MyClass\n",
    "\n",
    "    @classmethod # 데코리이터로 클래스 메서드임을 보여줌\n",
    "    def class_method(cls, arg1, ...):\n",
    "        pass"
   ]
  },
  {
   "cell_type": "code",
   "execution_count": 32,
   "metadata": {},
   "outputs": [
    {
     "name": "stdout",
     "output_type": "stream",
     "text": [
      "인구수는 2입니다.\n"
     ]
    }
   ],
   "source": [
    "# 클래스 메서드 예시\n",
    "class Person:\n",
    "    count = 0\n",
    "    \n",
    "    def __init__(self, name):\n",
    "        self.name = name\n",
    "        Person.count += 1\n",
    "        \n",
    "    @classmethod\n",
    "    def number_of_population(cls) : # cls로 지정하는 이유 for 상속\n",
    "        print(f'인구수는 {cls.count}입니다.')\n",
    "\n",
    "person1 = Person('iu')\n",
    "person = Person('BTS')\n",
    "\n",
    "Person.number_of_population()"
   ]
  },
  {
   "cell_type": "markdown",
   "metadata": {},
   "source": [
    "## 스태틱(정적) 메서드 (static method)\n",
    "클래스와 인스턴스와 상관없이 독립적으로 동작하는 메서드\n",
    "- 주로 클래스와 관련이 있지만 인스턴스와 상호작용이 필요하지 않은 경우에 사용\n",
    "- 클래스 내부의 데이터를 사용하지 않고 오로지 기능만!   \n",
    "    ex) 유틸리티(로직) / 함수(로직)\n",
    "- 클래스 내부의 데이터 접근, 수정 일절되지 않음\n",
    "\n",
    "### 스태틱 메서드 구조\n",
    "- #staticmethod 데코레이터를 사용하여 정의\n",
    "- 호출 시 필수적으로 작성해야할 메게변수가 없음\n",
    "- 즉, 객체 상태나 클래스 상태를 수정할 수 없으며 단지 **기능(행동)**만을 위한 메서드로 사용\n",
    "\n",
    "**어떠한 목적을 위한 기능에 초점을 맞춤!**"
   ]
  },
  {
   "cell_type": "code",
   "execution_count": null,
   "metadata": {},
   "outputs": [],
   "source": [
    "class MyClass:\n",
    "    \n",
    "    @staticmethod\n",
    "    def static_method(arg1, ...):\n",
    "        pass"
   ]
  },
  {
   "cell_type": "code",
   "execution_count": 33,
   "metadata": {},
   "outputs": [
    {
     "name": "stdout",
     "output_type": "stream",
     "text": [
      "dlrow ,plleh\n",
      "Hellp, world\n"
     ]
    }
   ],
   "source": [
    "# 스태틱 메서드 예시\n",
    "class StringUtils:\n",
    "    @staticmethod\n",
    "    def reverse_string(string):\n",
    "        return string[::-1]\n",
    "    \n",
    "    @staticmethod\n",
    "    def capitalize_string(string):\n",
    "        return string.capitalize()\n",
    "    \n",
    "text = 'hellp, world'\n",
    "\n",
    "reverse_text = StringUtils.reverse_string(text)\n",
    "print(reverse_text)\n",
    "\n",
    "capitalized_text = StringUtils.capitalize_string(text)\n",
    "print(capitalized_text)"
   ]
  },
  {
   "cell_type": "markdown",
   "metadata": {},
   "source": [
    "### 메서드 정리\n",
    "- 인스턴스 메서드 (self)\n",
    "    - 인스턴스 조작\n",
    "    - 인스턴스의 상태를 변경하거나, 해당 인스턴스의 특정 동작을 수행\n",
    "- 클래스 메서드 (cls)\n",
    "    - 클래스 조작\n",
    "    - 인스턴스의 상태에 의존하지 않는 기능을 정의\n",
    "    - 클래스 변수를 조작하거나 클래스 레벨의 동작을 수행\n",
    "- 스태틱 메서드\n",
    "    - 독립적인 함수\n",
    "    - 클래스 및 인스턴스와 관련이 없는 일반적인 기능을 수행\n",
    "\n",
    "각자의 역할\n",
    "- 클래스가 사용해야 할 것\n",
    "    - 클래스 메서드\n",
    "    - 스태틱 메서드\n",
    "- 인스턴스가 사용해야할 것\n",
    "    - 인스턴스 메서드"
   ]
  },
  {
   "cell_type": "code",
   "execution_count": 39,
   "metadata": {},
   "outputs": [],
   "source": [
    "class MyClass:\n",
    "    def instance_method(self):\n",
    "        return 'instance method', self\n",
    "    \n",
    "    @classmethod\n",
    "    def class_method(cls):\n",
    "        return 'class method', cls\n",
    "    \n",
    "    @staticmethod\n",
    "    def static_method():\n",
    "        return 'static method'"
   ]
  },
  {
   "cell_type": "markdown",
   "metadata": {},
   "source": [
    "클래스가 할 수 있는 것\n",
    "- 클래스는 모든 메서드를 호출할 수 있음\n",
    "- **하지만 클래스는 클래스 메서드와 스태틱 메서드만 사용하도록 한다**"
   ]
  },
  {
   "cell_type": "code",
   "execution_count": 41,
   "metadata": {},
   "outputs": [
    {
     "name": "stdout",
     "output_type": "stream",
     "text": [
      "('instance method', <__main__.MyClass object at 0x0000025612B3FB80>)\n",
      "('class method', <class '__main__.MyClass'>)\n",
      "static method\n"
     ]
    }
   ],
   "source": [
    "instance = MyClass()\n",
    "\n",
    "print(MyClass.instance_method(instance))\n",
    "print(MyClass.class_method())\n",
    "print(MyClass.static_method())"
   ]
  },
  {
   "cell_type": "markdown",
   "metadata": {},
   "source": [
    "인스턴스가 할 수 있는 것\n",
    "- 인스터스는 모든 메서드를 호출할 수 있음\n",
    "- **하지만 인스턴스는 인스턴스 메서드와 스태틱 메서드만 사용하도록 한다**"
   ]
  },
  {
   "cell_type": "code",
   "execution_count": 43,
   "metadata": {},
   "outputs": [
    {
     "name": "stdout",
     "output_type": "stream",
     "text": [
      "('instance method', <__main__.MyClass object at 0x00000256129BF250>)\n",
      "('class method', <class '__main__.MyClass'>)\n",
      "static method\n"
     ]
    }
   ],
   "source": [
    "instance = MyClass()\n",
    "\n",
    "print(instance.instance_method())\n",
    "print(instance.class_method())\n",
    "print(instance.static_method())"
   ]
  },
  {
   "cell_type": "markdown",
   "metadata": {},
   "source": [
    "할 수 있다 ! =  써도 된다\n",
    "---\n",
    "각자의 메서드는 OOP 패러다임에 따라 명확한 목적에 따라 명확학 목적에 따라 설게도니 것이기 때문에\n",
    "\n",
    "# 참고\n",
    "## 매직 메서드(스페셜 메소드)\n",
    "- 특별한 인스턴스 메서드\n",
    "- **특정 상황에 자동으로 호출되는 메서드**\n",
    "- Double underscore(__)가 있는 메서드는 특수한 동작을 위해 만들어진 메서드\n",
    "    - 스페셜 메서드 혹은 매직 메서드락 불린\n",
    "- 예시\n",
    "    - __ str __ (self), __ len __(self) 등"
   ]
  },
  {
   "cell_type": "code",
   "execution_count": 45,
   "metadata": {},
   "outputs": [
    {
     "name": "stdout",
     "output_type": "stream",
     "text": [
      "[원] radius: 10\n",
      "[원] radius: 1\n"
     ]
    }
   ],
   "source": [
    "class Circle:\n",
    "    def __init__(self, r):\n",
    "        self.r =r\n",
    "    \n",
    "    def area(self):\n",
    "        return 3.14 * self.r * self.r\n",
    "    \n",
    "    def __str__(self):\n",
    "        return f'[원] radius: {self.r}'\n",
    "\n",
    "c1 = Circle(10)\n",
    "c2 = Circle(1)\n",
    "\n",
    "print(c1)\n",
    "print(c2)"
   ]
  },
  {
   "cell_type": "markdown",
   "metadata": {},
   "source": [
    "## 데코레이터 (Decorator)\n",
    "- 다른 함수의 코드를 유지한 채로 수정하거나 확장하기 위해 사용되는 함수  \n",
    "- 새로운 기능을 부여  \n",
    "\n",
    "- wrapper 함수\n",
    "- 데코레이터 함수 많이 찾아보도록!\n",
    "\n",
    "@classmethod / @staticmethod"
   ]
  },
  {
   "cell_type": "code",
   "execution_count": 46,
   "metadata": {},
   "outputs": [
    {
     "name": "stdout",
     "output_type": "stream",
     "text": [
      "함수 실행 전\n",
      "원본 함수 실행\n",
      "함수 실행 후\n"
     ]
    }
   ],
   "source": [
    "def my_decorator(func):\n",
    "    def wrapper():\n",
    "        # 함수 실행 전에 수행할 작업\n",
    "        print('함수 실행 전')\n",
    "        # 원번 힘수 호출\n",
    "        result = func()\n",
    "        print('함수 실행 후')\n",
    "        return result\n",
    "    return wrapper\n",
    "\n",
    "@my_decorator\n",
    "def my_function():\n",
    "    print('원본 함수 실행')\n",
    "\n",
    "my_function()"
   ]
  },
  {
   "cell_type": "code",
   "execution_count": 20,
   "metadata": {},
   "outputs": [
    {
     "data": {
      "text/plain": [
       "<function __main__.trace_decorator.<locals>.wrapped(*args, **kwargs)>"
      ]
     },
     "execution_count": 20,
     "metadata": {},
     "output_type": "execute_result"
    }
   ],
   "source": [
    "# 데코레이터\n",
    "import logging\n",
    "logging.basicConfig(filename='./test.log', level=logging.INFO)\n",
    "logger = logging.getLogger(__name__)\n",
    "#\n",
    "\n",
    "# 이 데코레이터를 통해서 로그파일을 만들어서\n",
    "# 실행 내용을 출력하는 로그 과정을 진행하게 하는 데코레이터\n",
    "def trace_decorator(function):\n",
    "    def wrapped(*args, **kwargs):\n",
    "        logger.info(\"%s 실행:\", function.__qualname__)\n",
    "        return function(*args, **kwargs) # 함수 실행\n",
    "    return wrapped\n",
    "    \n",
    "@trace_decorator\n",
    "def my_hello():\n",
    "    print('안녕하세요!') # wrapped(my_hello())의 결과 값\n",
    "    \n",
    "@trace_decorator\n",
    "def my_bye():\n",
    "    print('안녕히 가세요!') \n",
    "    \n",
    "my_hello\n",
    "my_bye\n"
   ]
  },
  {
   "cell_type": "markdown",
   "metadata": {},
   "source": [
    "절차 지향과 객체 지향을 대조되는 개념이 아니다!\n",
    "\n",
    "- 객체 지향은 기존 절차 지향을 기반을 두고 보완하기 위해 객체라는 개념을 도입해 상속, 코드 재사용성, 유지보수성 등의 이점을 가지는 패러다임"
   ]
  }
 ],
 "metadata": {
  "kernelspec": {
   "display_name": "Python 3",
   "language": "python",
   "name": "python3"
  },
  "language_info": {
   "codemirror_mode": {
    "name": "ipython",
    "version": 3
   },
   "file_extension": ".py",
   "mimetype": "text/x-python",
   "name": "python",
   "nbconvert_exporter": "python",
   "pygments_lexer": "ipython3",
   "version": "3.9.13"
  },
  "orig_nbformat": 4
 },
 "nbformat": 4,
 "nbformat_minor": 2
}
