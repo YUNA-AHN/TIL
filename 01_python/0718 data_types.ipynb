{
 "cells": [
  {
   "cell_type": "markdown",
   "metadata": {},
   "source": [
    "# Data Types\n",
    "값의 종류와 그 값에 적용 가능한 연산과 동작을 결정하는 속성  \n",
    "-> 사칙연산, 연결이 가능한지 데이터 타입에 따라 달라진다.\n",
    "\n",
    "데이터 타입이 필요한 이유\n",
    "---\n",
    "- 값들을 구분하고, 어떻게 다뤄야 하는지를 알 수 있음\n",
    "- 요리 재료마다 특정한 도구가 필요하듯이 각 데이터 타입 값들도 각자에게 적합한 도구를 가짐\n",
    "- 타입을 명시적으로 지정하면 코드를 읽는 사람이 변수의 의도를 더 쉽게 이해할 수 있고, 잘못된 데이터 타입으로 인한 오류를 미리 예방\n",
    "\n",
    "### 데이터 타입 분류\n",
    "- Numeric Types\n",
    "    - int (정수), float (실수), complex (복소수)\n",
    "- Text Sequence Type\n",
    "    - str (문자열)\n",
    "- Sequence Types\n",
    "    - list, tuple, range\n",
    "- Non-sequence Types\n",
    "    -  set, dict\n",
    "- 기타\n",
    "    - Boolean, None, Functions\n",
    "\n",
    "###\n",
    "- 일반 자료형 // 불변형\n",
    "- 컨테이너형 : 여러 개 값을 넣을 수 있는 타입(가변/불변)\n",
    "\n",
    "## Numeric Types\n",
    "### int (정수형)\n",
    "- 정수를 표현하는 자료형\n",
    "\n",
    "진수 표현\n",
    "- 2진수(binary) : 0b\n",
    "- 8진수(octal) : 0o\n",
    "- 16진수(hexadecimal) :0x"
   ]
  },
  {
   "cell_type": "code",
   "execution_count": null,
   "metadata": {},
   "outputs": [],
   "source": [
    "# 진법 변경 : 10진수 -> n 진수\n",
    "print(bin(12)) # 2진수 0b1100\n",
    "print(oct(12)) # 8진수 0o14\n",
    "print(hex(12)) # 16진수 0xc"
   ]
  },
  {
   "cell_type": "code",
   "execution_count": null,
   "metadata": {},
   "outputs": [],
   "source": [
    "print(0b10) # 2\n",
    "print(0o30) # 24\n",
    "print(0x10) # 26"
   ]
  },
  {
   "cell_type": "markdown",
   "metadata": {},
   "source": [
    "### float (실수자료형)\n",
    "- 실수를 표현하는 자료형\n",
    "- 프로그래밍 언어에서 float는 실수에 대한 **근삿값**\n",
    "\n",
    "유한 정밀도\n",
    "- 컴퓨터 메모리 용령이 한정되어 있고 한 숫자에 대해 저장하는 용량이 제한 됨"
   ]
  },
  {
   "cell_type": "code",
   "execution_count": null,
   "metadata": {},
   "outputs": [],
   "source": [
    "print(2 / 3) # 0.6666666666666666\n",
    "print(5 / 3) # 1.6666666666666667"
   ]
  },
  {
   "cell_type": "markdown",
   "metadata": {},
   "source": [
    "실수 연산 시 주의사항\n",
    "- 컴퓨터는 2진수 사용, 사람은 10진법을 사용\n",
    "- 10진수 0.1은 2진수 표현시 무한 반복\n",
    "- 무한대 숫자를 그대로 저장할 수 없어서 사람이 사용하는 10진법의 근사값만 표시\n",
    "- 0.1의 경우 0.1에 가깝지만 정확이 동일하지 않아 **예상치 못한 결과가 나타남**\n",
    "- Floating point rounding error (부동소수점에러)\n",
    "\n",
    "실수 연산 시 해결책\n",
    "- 두 수의 차이가 매우 작은 수보다 작은지 확인하거나 math 모듈 확인"
   ]
  },
  {
   "cell_type": "code",
   "execution_count": null,
   "metadata": {},
   "outputs": [],
   "source": [
    "a = 3.2 - 3.1 # 0.1000000\n",
    "b = 1.2 - 1.1 # 0.0999999\n",
    "\n",
    "# 1. 임의의 작은 수 활용\n",
    "print(abs(a-b) <= 1e-10) # True\n",
    "\n",
    "# 2. math 모듈 활용 : 이 정도면 같은 수로 치자!\n",
    "import math\n",
    "print(math.isclose(a,b)) # True"
   ]
  },
  {
   "cell_type": "markdown",
   "metadata": {},
   "source": [
    "지수 표현 방식\n",
    "- e 또는 E 활용"
   ]
  },
  {
   "cell_type": "code",
   "execution_count": null,
   "metadata": {},
   "outputs": [],
   "source": [
    "# 지수(제곱하는 횟수) 표현 10^\n",
    "print(314e-2) # 3.14\n",
    "print(314E2) # 31400.0"
   ]
  },
  {
   "cell_type": "markdown",
   "metadata": {},
   "source": [
    "## Sequence Types\n",
    "여러 개의 값들을 **순서대로 나열**하여 저장하는 자료형\n",
    "(str, list, tuple, range)\n",
    "\n",
    "Sequence Types 특징 - 매우 중요 !\n",
    "1. 순서(Sequece)\n",
    "- 값들이 순서대로 저장 **(정렬 X)**\n",
    "2. 인덱싱(indexing)\n",
    "- 각 값에 고유한 인데스(번호)를 가지고 있으며, 인덱스를 사용하여 특정 위치의 값을 선택하거나 수정할 수 있음  \n",
    "-> 접근할 수 있다!\n",
    "3. 슬라이싱(Slicing)\n",
    "- 인덱스 범위를 조절해 부분적인 값을 추출할 수 있음\n",
    "4. 길이(Length)\n",
    "- len() 함수를 사용하여 저장된 값의 개수(길이)를 구할 수 있음\n",
    "5. 반복(Iteration)\n",
    "- 반복문을 사용하여 저장된 값들을 반복적으로 처리할 수 있음\n",
    "\n",
    "### str(문자열)\n",
    "문자들의 순서가 있는 변경 불가능한 시퀀스 자료형 (불변형 자료형)\n",
    "\n",
    "문자열 표현\n",
    "- 문자열은 단일 문자나 여러 문자의 조합으로 이루어짐\n",
    "- 작은 따옴표 또는 큰따옴표 감싸서 표현\n",
    "\n",
    "중첩 따옴표\n",
    "- 따옴표 안에 따옴표를 표현할 경우\n",
    "- \" '' \" or ' \"\" '\n",
    "\n",
    "Escape sequence\n",
    "- 역슬래시(backslash)뒤에 특정 문자가 와서 특수한 기능을 하는 문자 조합\n",
    "- 파이썬의 일반적인 문번규칙을 잠시 탈출한다는 의미  \n",
    "\\n : 줄바꿈  \n",
    "\\t : 탭  \n",
    "\\\\ : 백슬래시  \n",
    "\\' : 작은 따옴표  \n",
    "\\\" : 큰 따옴표  "
   ]
  },
  {
   "cell_type": "code",
   "execution_count": null,
   "metadata": {},
   "outputs": [],
   "source": [
    "# 철수야 '안녕'\n",
    "print('철수야 \\'안녕\\'')"
   ]
  },
  {
   "cell_type": "markdown",
   "metadata": {},
   "source": [
    "String Interpolation\n",
    "- 문자열 내에 변수나 표현식을 삽입하는 방법\n",
    "\n",
    "f-string\n",
    "- 문자열에 f 또는 F 접두어를 붙이고 표현식을 **{expression}**로 작성하여 문자열에 파이썬 표현식의 값을 삽입할 수 있음"
   ]
  },
  {
   "cell_type": "code",
   "execution_count": 10,
   "metadata": {},
   "outputs": [
    {
     "name": "stdout",
     "output_type": "stream",
     "text": [
      "Debugging roaches 13 room\n",
      "Debugging roaches 100 living room\n"
     ]
    }
   ],
   "source": [
    "# 고정 출력\n",
    "print('Debugging roaches 13 room')\n",
    "\n",
    "# f-string\n",
    "bugs = 'roaches'\n",
    "counts = 100\n",
    "area = 'living room'\n",
    "print(f'Debugging {bugs} {counts} {area}')"
   ]
  },
  {
   "cell_type": "code",
   "execution_count": 11,
   "metadata": {},
   "outputs": [
    {
     "name": "stdout",
     "output_type": "stream",
     "text": [
      "Debugging roaches 100 living room\n",
      "Debugging roaches 100 living room\n"
     ]
    }
   ],
   "source": [
    "# 과거의 문법 : format과 %\n",
    "print('Debugging {} {} {}'.format(bugs, counts, area))\n",
    "print('Debugging %s %d %s' % (bugs, counts, area))"
   ]
  },
  {
   "cell_type": "code",
   "execution_count": 15,
   "metadata": {},
   "outputs": [
    {
     "name": "stdout",
     "output_type": "stream",
     "text": [
      "        hi\n",
      "    hi    \n",
      "3.1416\n"
     ]
    }
   ],
   "source": [
    "# f- string 응용\n",
    "greeting = 'hi'\n",
    "print(f'{greeting:>10}') # 10칸 중 오른쪽 정렬\n",
    "print(f'{greeting:^10}') # 10칸 중 가운데 정렬\n",
    "\n",
    "print(f'{3.141592:.4f}') # 소수점 4자리까지 출력"
   ]
  },
  {
   "attachments": {
    "image.png": {
     "image/png": "[encoded data removed]"
    }
   },
   "cell_type": "markdown",
   "metadata": {},
   "source": [
    "문자열의 시퀀스 특징\n",
    "인덱스(index)\n",
    "시퀀스 내의 값들에 대한 고유한 번호로, 각 값의 위치를 식별하는 데 사용되는 숫자\n",
    "#### index 예시\n",
    "![image.png](attachment:image.png)\n",
    "\n",
    "슬라이싱(slicing)\n",
    "시퀀스의 일부분을 선택하여 추출하는 작업  \n",
    "-> 시작 인덱스와 끝 인덱스를 지정하여 해당 범위의 값을 포함하는 새로운 시퀀스를 생성\n",
    "- 생략, step 지정 등 다양한 기능  \n",
    "ex) my_str[3:] , my_str[0:5:2]\n",
    "\n",
    "- step이 음수인 경우 문자열 뒤집기 가능\n",
    "ex) my_str -> olleh"
   ]
  },
  {
   "cell_type": "code",
   "execution_count": null,
   "metadata": {},
   "outputs": [],
   "source": [
    "my_str = 'hello'\n",
    "\n",
    "# 인덱싱\n",
    "print(my_str[1]) # e\n",
    "\n",
    "# 슬라이싱\n",
    "print(my_str[2:4]) # ll\n",
    "\n",
    "# 길이\n",
    "print(len(my_str)) # 5"
   ]
  },
  {
   "cell_type": "code",
   "execution_count": null,
   "metadata": {},
   "outputs": [],
   "source": [
    "print(my_str[::-1]) # olleh"
   ]
  },
  {
   "cell_type": "markdown",
   "metadata": {},
   "source": [
    "문자열은 불변! (변경불가) -> 새로운 문자열 생성"
   ]
  },
  {
   "cell_type": "code",
   "execution_count": null,
   "metadata": {},
   "outputs": [],
   "source": [
    "my_str = 'hello'\n",
    "my_str[1] = 'z' # Typer error"
   ]
  },
  {
   "cell_type": "markdown",
   "metadata": {},
   "source": [
    "### list(리스트)\n",
    "여러 개의 값을 순서대로 저장하는 **변경 가능한** 시퀀스 자료형\n",
    "\n",
    "리스트 표현\n",
    "- 0개 이상의 객체를 포함하며 데이터 목록을 저장\n",
    "- 대괄호([])로 표기\n",
    "- 데이터는 어던 자료형도 저장할 수 있음\n",
    "\n",
    "중첩된 리스트 접근\n",
    "\n",
    "리스트는 가변 (변경 가능)"
   ]
  },
  {
   "cell_type": "code",
   "execution_count": null,
   "metadata": {},
   "outputs": [],
   "source": [
    "my_list = [1,'a', 3,' b', 5]\n",
    "\n",
    "# 인덱싱\n",
    "print(my_list[1]) # a\n",
    "\n",
    "# 슬라이싱\n",
    "print(my_list[2:4]) # [3, ' b']\n",
    "print(my_list[0:5:2]) # [1, 3, 5]"
   ]
  },
  {
   "cell_type": "code",
   "execution_count": null,
   "metadata": {},
   "outputs": [],
   "source": [
    "my_list = [1, 2, 3, 'python', ['hello','world','!!']]\n",
    "\n",
    "print(len(my_list)) # 5\n",
    "print(my_list[4][-1]) # !!\n",
    "print(my_list[-1][1][0]) # w"
   ]
  },
  {
   "cell_type": "code",
   "execution_count": 18,
   "metadata": {},
   "outputs": [
    {
     "name": "stdout",
     "output_type": "stream",
     "text": [
      "[0, 2, 3]\n"
     ]
    }
   ],
   "source": [
    "my_list = [1, 2, 3]\n",
    "my_list[0] = 0\n",
    "print(my_list)"
   ]
  },
  {
   "cell_type": "markdown",
   "metadata": {},
   "source": [
    "### tuple(튜플)\n",
    "여러 개의 값을 순서대로 저장하는 **변경 불가능한** 시퀀스 자료형\n",
    "\n",
    "- 0개 이상의 객체를 포함하며 데이터 목록을 저장\n",
    "- 소괄호(())로 표기\n",
    "- 데이터는 어떤 자료형도 저장할 수 있음\n",
    "\n",
    "튜플의 어디에 사용되는가?\n",
    "- 파이썬의 내부 동작에서 주로 사용됨\n",
    "- 안전하게 여러 개의 값을 전달, 그룹화, 다중 할당 등"
   ]
  },
  {
   "cell_type": "code",
   "execution_count": null,
   "metadata": {},
   "outputs": [],
   "source": [
    "my_tuple_1 = ()\n",
    "my_tuple_2 = (1, ) # 이렇게 표현하지 않으면 연산시 ()로 취급\n",
    "my_tuple_3 = (1,'a', 3,' b', 5)"
   ]
  },
  {
   "cell_type": "markdown",
   "metadata": {},
   "source": [
    "튜플은 불변(변경 불가)"
   ]
  },
  {
   "cell_type": "code",
   "execution_count": null,
   "metadata": {},
   "outputs": [],
   "source": [
    "my_tuple = (1,'a', 3,' b', 5)\n",
    "my_tuple[0] = 0 # Type error"
   ]
  },
  {
   "cell_type": "markdown",
   "metadata": {},
   "source": [
    "### range\n",
    "연속된 정수 시퀀스를 생성하는 **변경 불가능**한 자료형\n",
    "\n",
    "range 표현\n",
    "range(n)\n",
    "- 0부터 n-1가지의 숫자의 시퀀스\n",
    "range(n, m)\n",
    "- n부터 m-1까지의 숫자 시퀀스\n",
    "- 주로 반복문과 함께 사용 예정"
   ]
  },
  {
   "cell_type": "code",
   "execution_count": 20,
   "metadata": {},
   "outputs": [
    {
     "name": "stdout",
     "output_type": "stream",
     "text": [
      "range(0, 5)\n",
      "range(1, 10)\n"
     ]
    }
   ],
   "source": [
    "my_range_1 = range(5)\n",
    "my_range_2 = range(1, 10)\n",
    "\n",
    "print(my_range_1)\n",
    "print(my_range_2)"
   ]
  },
  {
   "cell_type": "markdown",
   "metadata": {},
   "source": [
    "리스트로 형 변환 시 데이터 확인 가능"
   ]
  },
  {
   "cell_type": "code",
   "execution_count": 21,
   "metadata": {},
   "outputs": [
    {
     "name": "stdout",
     "output_type": "stream",
     "text": [
      "[0, 1, 2, 3, 4]\n",
      "[1, 2, 3, 4, 5, 6, 7, 8, 9]\n"
     ]
    }
   ],
   "source": [
    "print(list(my_range_1))\n",
    "print(list(my_range_2))"
   ]
  },
  {
   "cell_type": "markdown",
   "metadata": {},
   "source": [
    "## none sequence types\n",
    "### dict(딕셔너리)\n",
    "key-value 쌍으로 이루어진 순서와 중복이 없는 별경 가능한 자료형\n",
    "\n",
    "딕셔너리 표현\n",
    "- key는 변경 불가능한 자료형만 사용 가능(str, int, float, tuple, range)\n",
    "- value는 모든 자료형 사용 가능\n",
    "- 중괄호({})로 표기\n",
    "\n",
    "딕셔너리 사용\n",
    "- key를 통해 value에 접근"
   ]
  },
  {
   "cell_type": "code",
   "execution_count": null,
   "metadata": {},
   "outputs": [],
   "source": [
    "my_dict_1 = {}\n",
    "my_dict_2 = {'key' : 'value'}"
   ]
  },
  {
   "cell_type": "code",
   "execution_count": null,
   "metadata": {},
   "outputs": [],
   "source": [
    "my_dict = {'apple': 12, 'list':[1, 2, 3]}\n",
    "\n",
    "print(my_dict['apple'])\n",
    "print(my_dict['list'])\n",
    "\n",
    "# 값 변경\n",
    "my_dict['apple'] = 100\n",
    "print(my_dict)"
   ]
  },
  {
   "cell_type": "markdown",
   "metadata": {},
   "source": [
    "### set(세트)\n",
    "**순서와 중복**이 없는 변경 가능한 자료형\n",
    "\n",
    "세트 표현\n",
    "- 수학에서의 집합과 동일한 연산 처리 가능\n",
    "- 중괄호로 표기({})"
   ]
  },
  {
   "cell_type": "code",
   "execution_count": 22,
   "metadata": {},
   "outputs": [
    {
     "name": "stdout",
     "output_type": "stream",
     "text": [
      "set()\n",
      "{1, 2, 3}\n",
      "{1}\n"
     ]
    }
   ],
   "source": [
    "my_set_1 = set()\n",
    "my_set_2 = {1, 2, 3}\n",
    "my_set_3 = {1, 1, 1}\n",
    "\n",
    "print(my_set_1)\n",
    "print(my_set_2)\n",
    "print(my_set_3)"
   ]
  },
  {
   "cell_type": "code",
   "execution_count": 23,
   "metadata": {},
   "outputs": [
    {
     "name": "stdout",
     "output_type": "stream",
     "text": [
      "{1, 2, 3, 6, 9}\n",
      "{1, 2}\n",
      "{3}\n"
     ]
    }
   ],
   "source": [
    "# 세트의 집합연산\n",
    "my_set_1 = {1, 2, 3}\n",
    "my_set_2 = {3, 6, 9}\n",
    "\n",
    "# 합집합\n",
    "print(my_set_1 | my_set_2)\n",
    "# 차집합\n",
    "print(my_set_1 - my_set_2)\n",
    "# 교칩합\n",
    "print(my_set_1 & my_set_2)"
   ]
  },
  {
   "cell_type": "markdown",
   "metadata": {},
   "source": [
    "## Other Types\n",
    "### None\n",
    "파이썬에서 '값이 없음'을 표현하는 자료형"
   ]
  },
  {
   "cell_type": "code",
   "execution_count": 24,
   "metadata": {},
   "outputs": [
    {
     "name": "stdout",
     "output_type": "stream",
     "text": [
      "None\n"
     ]
    }
   ],
   "source": [
    "variable = None\n",
    "print(variable)"
   ]
  },
  {
   "attachments": {
    "image.png": {
     "image/png": "[encoded data removed]"
    }
   },
   "cell_type": "markdown",
   "metadata": {},
   "source": [
    "### Boolean\n",
    "참과 거짓을 표현하는 자료현\n",
    "\n",
    "불리언 표현\n",
    "- 비교/논리 연산의 평가 결과로 사용됨\n",
    "- 주로 조건/반복문과 함께 사용\n",
    "\n",
    "\n",
    "# Collection\n",
    "여러 개의 항목 또는 요소를 담는 자료 구조\n",
    "str, list, tuple, set, dict\n",
    "\n",
    "![image.png](attachment:image.png)"
   ]
  },
  {
   "cell_type": "code",
   "execution_count": null,
   "metadata": {},
   "outputs": [],
   "source": [
    "# 불변과 가변\n",
    "my_str = 'hello'\n",
    "my_str[0] = 'z'\n",
    "\n",
    "my_list = [1, 2, 3]\n",
    "my_list[0] = 100\n",
    "print(my_list)"
   ]
  },
  {
   "attachments": {
    "image.png": {
     "image/png": "[encoded data removed]"
    }
   },
   "cell_type": "markdown",
   "metadata": {},
   "source": [
    "![image.png](attachment:image.png)\n",
    "\n",
    "변경 가능 -> 객체들의 참조들의 모아놓은 컬렉션"
   ]
  },
  {
   "cell_type": "code",
   "execution_count": 26,
   "metadata": {},
   "outputs": [
    {
     "name": "stdout",
     "output_type": "stream",
     "text": [
      "[100, 2, 3]\n",
      "[100, 2, 3]\n"
     ]
    }
   ],
   "source": [
    "# 가변형\n",
    "list_1 = [1, 2, 3]\n",
    "list_2 = list_1\n",
    "\n",
    "list_1[0] = 100\n",
    "print(list_1) # [100, 2, 3]\n",
    "print(list_2) # [100, 2, 3]"
   ]
  },
  {
   "attachments": {
    "image.png": {
     "image/png": "[encoded data removed]"
    }
   },
   "cell_type": "markdown",
   "metadata": {},
   "source": [
    "![image.png](attachment:image.png)  \n",
    "list_1과 list_2가 같은 주소를 할당해서 list_1 값을 변경함에 따라 list_2 값이 변경된다! (같은 주소라서!)"
   ]
  },
  {
   "cell_type": "code",
   "execution_count": 28,
   "metadata": {},
   "outputs": [
    {
     "name": "stdout",
     "output_type": "stream",
     "text": [
      "20\n",
      "10\n"
     ]
    }
   ],
   "source": [
    "# 불변형\n",
    "x = 10\n",
    "y = x\n",
    "x = 20\n",
    "\n",
    "print(x)\n",
    "print(y)"
   ]
  },
  {
   "attachments": {
    "image-2.png": {
     "image/png": "[encoded data removed]"
    },
    "image.png": {
     "image/png": "[encoded data removed]"
    }
   },
   "cell_type": "markdown",
   "metadata": {},
   "source": [
    "![image.png](attachment:image.png)\n",
    "![image-2.png](attachment:image-2.png)"
   ]
  },
  {
   "cell_type": "code",
   "execution_count": null,
   "metadata": {},
   "outputs": [],
   "source": [
    "print( 3 + 5.0) # 8.0\n",
    "print(True + 3) # 4\n",
    "print( True + False) # 1"
   ]
  },
  {
   "cell_type": "markdown",
   "metadata": {},
   "source": [
    "# Type Conversion\n",
    "데이터 값\n",
    "자료형(a) -> 자료형(b)\n",
    "\n",
    "## 암시적 형변환 (자연스럽게 변환)\n",
    "파이썬이 자동으로 형변환을 하는 것\n",
    "- Boolean과 Numeric Type에서만 가능\n",
    "\n",
    "## 명시적 형변환\n",
    "개발자가 직접 형변환을 하는 것\n",
    "암시적 형변환이 아닌 경우를 모두 포함\n",
    "\n",
    "str -> integer : 형식에 맞는 숫자만 가능\n",
    "integer -> str : 모두 가능"
   ]
  },
  {
   "cell_type": "code",
   "execution_count": null,
   "metadata": {},
   "outputs": [],
   "source": [
    "print(int('1'))\n",
    "print(str(1) + '등')\n",
    "print(int('3.5')) # Type error"
   ]
  },
  {
   "cell_type": "markdown",
   "metadata": {},
   "source": [
    "## 복합 연산자\n",
    "```\n",
    "+=  -> a = a + b\n",
    "-=  -> a = a - b\n",
    "*=  -> a = a * b\n",
    "/=  -> a = a / b\n",
    "//=  -> a = a // b\n",
    "%=  -> a = a % b\n",
    "**=  -> a = a ** b\n",
    "```\n",
    "\n",
    "## 비교 연산\n",
    "```<    미만  \n",
    "<=      이하  \n",
    "\\>      초과  \n",
    "\\>=     이상\n",
    "==      같음\n",
    "!=      같지 않음\n",
    "is      같음 (원본)\n",
    "is not  같지 않음\n",
    "```"
   ]
  },
  {
   "cell_type": "markdown",
   "metadata": {},
   "source": [
    "is 비교 연산자  \n",
    "- 메모리 내에서 같은 객체를 참조하는지 확인  \n",
    "\n",
    "== : 동등성(equality)  \n",
    "is : 식별성(identity)  "
   ]
  },
  {
   "cell_type": "code",
   "execution_count": null,
   "metadata": {},
   "outputs": [],
   "source": [
    "print(2.0 == 2) # True\n",
    "print(2.0 is 2) # False"
   ]
  },
  {
   "cell_type": "markdown",
   "metadata": {},
   "source": [
    "## 논리연산자\n",
    "and 논리곱 모두 True\n",
    "or 논리합 하나라도 True\n",
    "not 논리부정 단일 피연산자를 부정\n",
    "\n",
    "## 단축 평가 : 🌟🌟🌟🌟🌟🌟\n",
    "논리 연산에서 두 번째 피연산자를 평가하지 않고 결과를 결정하는 동작\n",
    "- or 문제에서 선제 조건 참일시 하행조건 실행되지 않음\n",
    "- and 문제에서 선제조건 거짓일시 하행조건 실행되지 않음\n",
    "\n",
    "이유\n",
    "- 코드 실행의 최적화, 불필요한 연산을 피할 수 있도록"
   ]
  },
  {
   "cell_type": "code",
   "execution_count": null,
   "metadata": {},
   "outputs": [],
   "source": [
    "vowels = 'aeiou'\n",
    "print(('a' and 'b') in vowels) \n",
    "# False : a가 조건에 부합하여 b까지 진행 🌟\n",
    "print(('b' and 'a') in vowels) \n",
    "# True : b가 조건에 부합하지 않아서 🌟\n",
    "\n",
    "print(3 and 5) # 5\n",
    "print(3 and 0) # 0\n",
    "print(0 and 3) # 0\n",
    "print(0 and 0) # 0\n",
    "\n",
    "print(5 or 3) # 5\n",
    "print(3 or 0) # 3\n",
    "print(0 or 3) # 3\n",
    "print(0 or 0) # 0\n",
    "\n",
    "print(3 and 0 and 2) # 0"
   ]
  },
  {
   "cell_type": "code",
   "execution_count": null,
   "metadata": {},
   "outputs": [],
   "source": [
    "word = 'hello'\n",
    "numbers = [1, 2, 3, 4, 5]\n",
    "\n",
    "print('h' in word) # True\n",
    "print('z' in word) # False\n",
    "\n",
    "print(4 not in numbers) # False\n",
    "print(6 not in numbers) # True"
   ]
  },
  {
   "attachments": {
    "image.png": {
     "image/png": "[encoded data removed]"
    }
   },
   "cell_type": "markdown",
   "metadata": {},
   "source": [
    "## 멤버십 연산자\n",
    "특정 값이 시퀀스나 다른 컬렉션에 속하는 지 여부를 확인   \n",
    "in / not in \n",
    "\n",
    "## 시퀀스형 연산자\n",
    "+와 *는 시퀀스 간 연산에서 산술 연산자일때와 다른 역할을 가짐  \n",
    "\n",
    "\\+ : 결합 연산자  \n",
    "\\* : 반복 연산자  \n",
    "\n",
    "## 연산자 우선순위\n",
    "![image.png](attachment:image.png) "
   ]
  },
  {
   "cell_type": "markdown",
   "metadata": {},
   "source": []
  }
 ],
 "metadata": {
  "kernelspec": {
   "display_name": "Python 3",
   "language": "python",
   "name": "python3"
  },
  "language_info": {
   "codemirror_mode": {
    "name": "ipython",
    "version": 3
   },
   "file_extension": ".py",
   "mimetype": "text/x-python",
   "name": "python",
   "nbconvert_exporter": "python",
   "pygments_lexer": "ipython3",
   "version": "3.9.13"
  },
  "orig_nbformat": 4
 },
 "nbformat": 4,
 "nbformat_minor": 2
}
