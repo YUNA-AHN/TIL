{
 "cells": [
  {
   "cell_type": "markdown",
   "metadata": {},
   "source": [
    "# 1. 프로그래밍  \n",
    "- 프로그램 : 명령어들의 집합  \n",
    "ex) 친구에게 우리집으로 오는 길을 적어주는 것 -> 프로그램 작성  \n",
    "적어준 길을 순서대로 따라가는 것 -> 프로그램 실행\n",
    "- 새 연산을 정의하고 조합해 유용한 작업을 수행하는 것\n",
    " -> **문제를 해결**하는 매우 강력한 방법  \n",
    " - 프로그래밍 언어: 컴퓨터에게 작업을 지시하고 문제를 해결하는 도구(컴퓨터와 소통하는 언어)\n",
    "\n",
    " ## 1-1. 파이썬\n",
    "- 파이썬을 사용하는 이유\n",
    "    - 간결하고 읽기 쉬운 문법\n",
    "    - 다양한 응용 분야 : 데이터 분석, 인공지능, 웹 개발, 자동화 등\n",
    "    - 파이썬 커뮤니티의 지원 : 세계적인 규모의풍부한 온라인 포럼 및 커뮤니티 생태계\n",
    "\n",
    "- 파이썬 프로그램이 실행되는 법\n",
    "    - 인터프리터를 통해 사용자의 명령어를 운영체제가 이해하는 언어로 바꿈\n",
    "    - 인터프리터 : 기계어가 아닌 파이썬 소스 코드를 한줄 한줄 실행해줌, **기계어 번역 과정 X**\n",
    "    - 컴파일러 : 모든 소스코드를 기계어로 번역해서 exe란 파일을 생성하서 진행\n",
    "    - 장점  \n",
    "    운영체제가 바뀌더라도 파이썬 프로그램은 동일하게 사용할 수 있다!\n",
    "    - 파이썬 프로그램-인터프리터-운영체제\n",
    "    - 인터프리터 사용 방법  \n",
    "        1. shell : python -i 입력 (python -V : 버전 확인)\n",
    "        2. 확장자 .py\n",
    "\n",
    "    \n",
    "## 1-2. 표현식(Expression)\n",
    "- **값, 변수, 연산자** 등을 포함하여 계산되고 결과를 내는 코드 구조\n",
    "    ex) 'hello' / greeting = 'p'\n",
    "- 내부적으로 평가되어 값이 반환된다\n",
    "- 평가(evaluate)\n",
    "표현식이나 문장을 실행하여 그 결과를 계산하고 값을 결정하는 과정  \n",
    " -> 표현식이나 문장을 순차적으로 평가하여 프로그램의 동작을 결정\n",
    "\n",
    "### 문장(Statement)\n",
    "그 자체만으로 실행이 가능한 동작을 기술하는 코드  \n",
    "\n",
    "**표현식 < 문장**  \n",
    "- 문장은 보통 여러개의 표현식을 포함  \n",
    "ex) 조건문, 반복문, 함수 정의 등\n",
    "\n",
    "## 1-3. 타입  \n",
    "값이 어떤 종류의 데이터인지, 어떻게 해석되고 저장되어 처리되어야 하는지를 정의  \n",
    "- 2가지 요소\n",
    "    - \"값\" \"값에 적용할 수 있는 연산\"\n",
    "    - 피연산자 연산자\n",
    "\n",
    "\n",
    "### 데이터 타입\n",
    "- Numeric Type (숫자형)\n",
    "    - int(정수), float(실수), complex(복소수)\n",
    "- Sequence Type (시퀀스형: 연속적으로 이어진 타입)\n",
    "    - list, tuple, range\n",
    "- Text Sequence Type (문자열 타입)\n",
    "    -str(문자열)\n",
    "- Set Types (집합 : 중복이 불가능한 타입, 집합연산 가능)\n",
    "    - set\n",
    "- Mapping Types (키-값)\n",
    "    - dict\n",
    "- 기타\n",
    "    - None : 데이터가 없음을 명시적으로 표현\n",
    "    - Boolean : True False를 반환\n",
    "    - Functions : 특정 입력값 입력시 결과 반환\n",
    "\n",
    "> 순서가 있다는 것은 인덱스로 접근이 가능하다는 뜻 : 반복문으로 뽑아낼 수 있다\n",
    "\n",
    "산술 연산자  \n",
    "// : 몫  \n",
    "% : 나머지  \n",
    "** : 지수\n",
    "\n",
    "**연산자 우선순위**  \n",
    "지수 > 음수부호 > 곱셈나눗셈 > 덧셈뺄셈\n",
    "괄호 사용"
   ]
  },
  {
   "cell_type": "code",
   "execution_count": 1,
   "metadata": {},
   "outputs": [
    {
     "data": {
      "text/plain": [
       "16"
      ]
     },
     "execution_count": 1,
     "metadata": {},
     "output_type": "execute_result"
    }
   ],
   "source": [
    "# 연산자 우선순위 예시\n",
    "-2 ** 4 # -16 : 지수가 연산자 우선순위이기 때문\n",
    "\n",
    "-(2 ** 4) # -16\n",
    "\n",
    "(-2) ** 4 # 16"
   ]
  },
  {
   "cell_type": "markdown",
   "metadata": {},
   "source": [
    "## 1-4. 변수(Variable)\n",
    "값을 **참조**하는 이름 : 특정한 값은 이름으로 가리킨다!  \n",
    "메모리의 값이 위치한 곳을 바라보고 있음\n",
    "\n",
    "변수명 규칙 (식별자)\n",
    "- 영문 알파벳, 언더 스코어(_), 숫자로 구성\n",
    "- 숫자로 시작할 수 없은\n",
    "- 대소문자를 구분\n",
    "- 파이썬의 내부 예약어는 사용할 수 없음\n",
    "    - ex) False, and, lambda, def, gobal\n",
    "\n",
    "변수, 값 그리고 메모리\n",
    "- 메모리의 모든 위치에는 그 위치를 고유하게 식별하는 메모리 주소가 존재\n",
    "- 공간을 확보한 후 주소를 할당 받음\n",
    "- 변수에는 메모리 주소를 가지고 있음\n",
    "- 값 하나에 대해서 하나의 주소  \n",
    "> **a = b 와 같은 명령 수행 시 a에 변경 사항이 생기면 b도 함께 변경된다**\n",
    "\n",
    "- 객체(Object)\n",
    "    - 타입을 갖는 메모리 주소 내 값\n",
    "    - 값이 들어 있는 상자\n",
    "\n",
    "변수는 그 변수가 참조하는 객체이 메모리 주소를 가짐    \n",
    "변수 degrees는 값 36.5를 참조  \n",
    "id(변수) - 변수에 들어 있는 주소값 확인할 수 있음\n",
    "\n",
    "## 1-5. 할당문\n",
    "> variable = expression\n",
    "1. 할당 연산자(=) 오른쪽에 있는 표현식을 평가해서 값(메모리 주소)을 생성\n",
    "2. 값의 메모리 주소를 '=' 왼쪽에 있는 병수에 저장\n",
    "- 존재하지 않는 변수라면 새변수를 생성\n",
    "- 기존에 존재했던 변수라면 기존 변수를 재사용해서 변수에 들어있는 메모리 주소를 변경\n",
    "\n",
    "**변수에 재할당**"
   ]
  },
  {
   "cell_type": "code",
   "execution_count": 2,
   "metadata": {},
   "outputs": [
    {
     "name": "stdout",
     "output_type": "stream",
     "text": [
      "20\n",
      "20\n"
     ]
    }
   ],
   "source": [
    "number = 10\n",
    "double = 2 * number\n",
    "print(double)\n",
    "\n",
    "number = 5\n",
    "print(double)"
   ]
  },
  {
   "attachments": {
    "image.png": {
     "image/png": "[encoded data removed]"
    }
   },
   "cell_type": "markdown",
   "metadata": {},
   "source": [
    "## 1-6. Style Guide\n",
    "코드의 **일관성**과 **가독성**을 향상시키기 위한 규칙과 권장사항 등의 모임\n",
    "\n",
    "파이썬 Style Guide ([참고](https://peps.python.org/pep-0008/))\n",
    "--- \n",
    "**1. 변수 명은 무엇을 위한 변수인지 직관적인 이름을 가져야함**      \n",
    "-> 협업시 문제  \n",
    "2. 공백(spaces) 4칸을 사용하여 코드 블록을 들여쓰기  \n",
    "3. 한 줄의 길이는 79자로 제한, 길어질 경우 줄바꿈 사용  \n",
    "4. 문자의 밑줄을 사용하여 함수, 변수, 속성의 이름 작성  \n",
    "5. 함수 정의나 클래스 정의 등의 블록 사이에는 빈줄을 추가  \n",
    "6. 단/복수 신경써주기 ex) num, numbers  \n",
    "7. 원래 사용되고 있는 함수명 참고\n",
    "\n",
    "```python\n",
    "num1 = 1\n",
    "num2 = 2\n",
    "sum_result = num1 + num2\n",
    "\n",
    "temperature = 25\n",
    "is_hot = temperature > 30\n",
    "# is_~~ : 값이 True 혹은 False 의미\n",
    "numbers = [1, 2, 3, 4, 5]\n",
    "\n",
    "SECONDS = 60\n",
    "SECONDS_PER_MINUTE = 60\n",
    "# 대문자 :  상수값(고정된 값) 의미\n",
    "```\n",
    "\n",
    "## 참고\n",
    "[Python Tutor](https://pythontutor.com/render.html#mode=edit)\n",
    "파이썬 실행 시각화 도우미 (render all로 설정)  \n",
    "\n",
    "![image.png](attachment:image.png)\n",
    "\n",
    "주석\n",
    "> '#' 혹은 'Ctrl + #'  \n",
    " \"\"\" \"\"\" : 함수에 대한 설명서를 작성할때 사용\n",
    "\n",
    "- 코드의 특정 부분을 설명하거나 임시로 코드를 비활성화할 때\n",
    "- 코드를 이해하거나 문서화 하기 위헤\n",
    "- 다른 개발자나 자신에게 코드의 의도나 동작을 설명하는 데 도움"
   ]
  }
 ],
 "metadata": {
  "kernelspec": {
   "display_name": "Python 3",
   "language": "python",
   "name": "python3"
  },
  "language_info": {
   "codemirror_mode": {
    "name": "ipython",
    "version": 3
   },
   "file_extension": ".py",
   "mimetype": "text/x-python",
   "name": "python",
   "nbconvert_exporter": "python",
   "pygments_lexer": "ipython3",
   "version": "3.9.13"
  },
  "orig_nbformat": 4
 },
 "nbformat": 4,
 "nbformat_minor": 2
}
